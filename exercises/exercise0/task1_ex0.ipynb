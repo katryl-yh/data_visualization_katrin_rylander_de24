{
 "cells": [
  {
   "cell_type": "markdown",
   "id": "cd69ec5d",
   "metadata": {},
   "source": [
    "# Exercise 0 \n",
    "\n",
    "## Task 1: Recreate graphs"
   ]
  },
  {
   "cell_type": "code",
   "execution_count": null,
   "id": "8884de0d",
   "metadata": {
    "vscode": {
     "languageId": "plaintext"
    }
   },
   "outputs": [],
   "source": [
    "# a) Here we use subplots to get two axes in one figure"
   ]
  },
  {
   "cell_type": "code",
   "execution_count": null,
   "id": "4615eaac",
   "metadata": {
    "vscode": {
     "languageId": "plaintext"
    }
   },
   "outputs": [],
   "source": []
  }
 ],
 "metadata": {
  "language_info": {
   "name": "python"
  }
 },
 "nbformat": 4,
 "nbformat_minor": 5
}
