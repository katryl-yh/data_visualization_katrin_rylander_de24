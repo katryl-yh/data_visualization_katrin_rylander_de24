{
 "cells": [
  {
   "cell_type": "markdown",
   "id": "f5810f24",
   "metadata": {},
   "source": [
    "## YH ansökningsomgång 2020\n"
   ]
  },
  {
   "cell_type": "markdown",
   "id": "ca81dfc7",
   "metadata": {},
   "source": []
  }
 ],
 "metadata": {
  "language_info": {
   "name": "python"
  }
 },
 "nbformat": 4,
 "nbformat_minor": 5
}
