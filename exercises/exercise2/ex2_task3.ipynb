{
 "cells": [
  {
   "cell_type": "markdown",
   "id": "4b779d2f",
   "metadata": {},
   "source": [
    "# Exercise 2 - Interactive charting with plotly\n",
    "\n",
    "## 3. Spider chart"
   ]
  },
  {
   "cell_type": "markdown",
   "id": "83ff2013",
   "metadata": {},
   "source": [
    "### Create a spider chart for different set of skills that you think are relevant for a job. \n",
    "- Assess your own skill levels as of today and plot it out on the spider chart. \n",
    "- Make a guess of 1 year from now where you think your skills will be within these fields and plot another spider chart upon the one you have. \n",
    "- For simplicity you could pick out a few core skills that your education covers e.g. python, sql, cloud, ..."
   ]
  },
  {
   "cell_type": "code",
   "execution_count": null,
   "id": "46a9d4af",
   "metadata": {
    "vscode": {
     "languageId": "plaintext"
    }
   },
   "outputs": [],
   "source": []
  }
 ],
 "metadata": {
  "language_info": {
   "name": "python"
  }
 },
 "nbformat": 4,
 "nbformat_minor": 5
}
