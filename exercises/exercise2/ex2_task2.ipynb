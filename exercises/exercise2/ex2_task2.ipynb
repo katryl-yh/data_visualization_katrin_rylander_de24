{
 "cells": [
  {
   "cell_type": "markdown",
   "id": "8a0955ec",
   "metadata": {},
   "source": [
    "# Exercise 2 - Interactive charting with plotly\n",
    "\n",
    "## 2. Price on memory\n",
    "\n",
    "a) Recreate this visualization using plotly, make it as close as possible to the image."
   ]
  },
  {
   "cell_type": "code",
   "execution_count": 50,
   "id": "79ab338b",
   "metadata": {},
   "outputs": [
    {
     "data": {
      "text/html": [
       "<div>\n",
       "<style scoped>\n",
       "    .dataframe tbody tr th:only-of-type {\n",
       "        vertical-align: middle;\n",
       "    }\n",
       "\n",
       "    .dataframe tbody tr th {\n",
       "        vertical-align: top;\n",
       "    }\n",
       "\n",
       "    .dataframe thead th {\n",
       "        text-align: right;\n",
       "    }\n",
       "</style>\n",
       "<table border=\"1\" class=\"dataframe\">\n",
       "  <thead>\n",
       "    <tr style=\"text-align: right;\">\n",
       "      <th></th>\n",
       "      <th>Entity</th>\n",
       "      <th>Code</th>\n",
       "      <th>Year</th>\n",
       "      <th>Historical price of memory</th>\n",
       "      <th>Historical price of flash memory</th>\n",
       "      <th>Historical price of disk drives</th>\n",
       "      <th>Historical price of solid-state drives</th>\n",
       "    </tr>\n",
       "  </thead>\n",
       "  <tbody>\n",
       "    <tr>\n",
       "      <th>0</th>\n",
       "      <td>World</td>\n",
       "      <td>OWID_WRL</td>\n",
       "      <td>1957</td>\n",
       "      <td>3.786967e+15</td>\n",
       "      <td>NaN</td>\n",
       "      <td>NaN</td>\n",
       "      <td>NaN</td>\n",
       "    </tr>\n",
       "    <tr>\n",
       "      <th>1</th>\n",
       "      <td>World</td>\n",
       "      <td>OWID_WRL</td>\n",
       "      <td>1959</td>\n",
       "      <td>6.032806e+14</td>\n",
       "      <td>NaN</td>\n",
       "      <td>6.747736e+10</td>\n",
       "      <td>NaN</td>\n",
       "    </tr>\n",
       "    <tr>\n",
       "      <th>2</th>\n",
       "      <td>World</td>\n",
       "      <td>OWID_WRL</td>\n",
       "      <td>1960</td>\n",
       "      <td>4.588051e+13</td>\n",
       "      <td>NaN</td>\n",
       "      <td>3.150364e+10</td>\n",
       "      <td>NaN</td>\n",
       "    </tr>\n",
       "    <tr>\n",
       "      <th>3</th>\n",
       "      <td>World</td>\n",
       "      <td>OWID_WRL</td>\n",
       "      <td>1965</td>\n",
       "      <td>2.170492e+13</td>\n",
       "      <td>NaN</td>\n",
       "      <td>NaN</td>\n",
       "      <td>NaN</td>\n",
       "    </tr>\n",
       "    <tr>\n",
       "      <th>4</th>\n",
       "      <td>World</td>\n",
       "      <td>OWID_WRL</td>\n",
       "      <td>1970</td>\n",
       "      <td>4.892936e+12</td>\n",
       "      <td>NaN</td>\n",
       "      <td>1.731185e+09</td>\n",
       "      <td>NaN</td>\n",
       "    </tr>\n",
       "  </tbody>\n",
       "</table>\n",
       "</div>"
      ],
      "text/plain": [
       "  Entity      Code  Year  Historical price of memory  \\\n",
       "0  World  OWID_WRL  1957                3.786967e+15   \n",
       "1  World  OWID_WRL  1959                6.032806e+14   \n",
       "2  World  OWID_WRL  1960                4.588051e+13   \n",
       "3  World  OWID_WRL  1965                2.170492e+13   \n",
       "4  World  OWID_WRL  1970                4.892936e+12   \n",
       "\n",
       "   Historical price of flash memory  Historical price of disk drives  \\\n",
       "0                               NaN                              NaN   \n",
       "1                               NaN                     6.747736e+10   \n",
       "2                               NaN                     3.150364e+10   \n",
       "3                               NaN                              NaN   \n",
       "4                               NaN                     1.731185e+09   \n",
       "\n",
       "   Historical price of solid-state drives  \n",
       "0                                     NaN  \n",
       "1                                     NaN  \n",
       "2                                     NaN  \n",
       "3                                     NaN  \n",
       "4                                     NaN  "
      ]
     },
     "execution_count": 50,
     "metadata": {},
     "output_type": "execute_result"
    }
   ],
   "source": [
    "import pandas as pd\n",
    "\n",
    "df_price = pd.read_csv(\"data/historical-cost-of-computer-memory-and-storage.csv\")\n",
    "df_price.head()"
   ]
  },
  {
   "cell_type": "code",
   "execution_count": 2,
   "id": "40c588db",
   "metadata": {},
   "outputs": [
    {
     "data": {
      "text/html": [
       "<div>\n",
       "<style scoped>\n",
       "    .dataframe tbody tr th:only-of-type {\n",
       "        vertical-align: middle;\n",
       "    }\n",
       "\n",
       "    .dataframe tbody tr th {\n",
       "        vertical-align: top;\n",
       "    }\n",
       "\n",
       "    .dataframe thead th {\n",
       "        text-align: right;\n",
       "    }\n",
       "</style>\n",
       "<table border=\"1\" class=\"dataframe\">\n",
       "  <thead>\n",
       "    <tr style=\"text-align: right;\">\n",
       "      <th></th>\n",
       "      <th>Year</th>\n",
       "      <th>Memory Type</th>\n",
       "      <th>Price</th>\n",
       "    </tr>\n",
       "  </thead>\n",
       "  <tbody>\n",
       "    <tr>\n",
       "      <th>0</th>\n",
       "      <td>1956</td>\n",
       "      <td>Memory</td>\n",
       "      <td>NaN</td>\n",
       "    </tr>\n",
       "    <tr>\n",
       "      <th>1</th>\n",
       "      <td>1957</td>\n",
       "      <td>Memory</td>\n",
       "      <td>3.786967e+15</td>\n",
       "    </tr>\n",
       "    <tr>\n",
       "      <th>2</th>\n",
       "      <td>1959</td>\n",
       "      <td>Memory</td>\n",
       "      <td>6.032806e+14</td>\n",
       "    </tr>\n",
       "    <tr>\n",
       "      <th>3</th>\n",
       "      <td>1960</td>\n",
       "      <td>Memory</td>\n",
       "      <td>4.588051e+13</td>\n",
       "    </tr>\n",
       "    <tr>\n",
       "      <th>4</th>\n",
       "      <td>1964</td>\n",
       "      <td>Memory</td>\n",
       "      <td>NaN</td>\n",
       "    </tr>\n",
       "  </tbody>\n",
       "</table>\n",
       "</div>"
      ],
      "text/plain": [
       "   Year Memory Type         Price\n",
       "0  1956      Memory           NaN\n",
       "1  1957      Memory  3.786967e+15\n",
       "2  1959      Memory  6.032806e+14\n",
       "3  1960      Memory  4.588051e+13\n",
       "4  1964      Memory           NaN"
      ]
     },
     "execution_count": 2,
     "metadata": {},
     "output_type": "execute_result"
    }
   ],
   "source": [
    "df_price = df_price.rename(columns={\n",
    "    'Historical price of memory': 'Memory',\n",
    "    'Historical price of flash memory': 'Flash',\n",
    "    'Historical price of disk drives': 'Disk',\n",
    "    'Historical price of solid-state drives': 'Solid state'\n",
    "})\n",
    "\n",
    "# Sort the original dataframe by Year\n",
    "df_sorted = df_price.sort_values('Year')\n",
    "\n",
    "# Then melt the sorted dataframe\n",
    "df_melted = df_sorted.melt(\n",
    "    id_vars=['Year'],\n",
    "    value_vars=['Memory',\n",
    "                'Flash',\n",
    "                'Disk',\n",
    "                'Solid state'],\n",
    "    var_name='Memory Type',\n",
    "    value_name='Price'\n",
    ")\n",
    "\n",
    "df_melted.head()"
   ]
  },
  {
   "cell_type": "code",
   "execution_count": 54,
   "id": "6a8383fb",
   "metadata": {},
   "outputs": [
    {
     "data": {
      "application/vnd.plotly.v1+json": {
       "config": {
        "plotlyServerURL": "https://plot.ly"
       },
       "data": [
        {
         "connectgaps": true,
         "hovertemplate": "in constant 2020 US$ per terabyte<br>Memory: %{y:.2f} $/TB<br><extra></extra>",
         "legendgroup": "Memory",
         "line": {
          "color": "#5571a1",
          "dash": "solid"
         },
         "marker": {
          "symbol": "circle"
         },
         "mode": "lines+markers",
         "name": "Memory",
         "orientation": "v",
         "showlegend": true,
         "type": "scatter",
         "x": {
          "bdata": "pAelB6cHqAesB60HrgeyB7UHtge3B7gHuQe6B7sHvAe9B74HvwfAB8EHwgfDB8QHxQfGB8cHyAfJB8oHywfMB80HzgfPB9AH0QfSB9MH1AfVB9YH1wfYB9kH2gfbB9wH3QfeB98H4AfhB+IH4wfkB+UH5gfnBw==",
          "dtype": "i2"
         },
         "xaxis": "x",
         "y": {
          "bdata": "AAAAAAAA+H8ATJ/tc+gqQwAA+sFxJQFDAMAVwDHdxEIAAAAAAAD4fwDAmr+RvbNCAAAAAAAA+H8AAN7A5syRQgAAyPsN8IBCAAD65/kGeEIAANAasfJLQgAAAGyJZThCAABg6kLoNkIAAHCC+hQsQgAAIObvQxZCAAAA4hH0EkIAAMC3iL8HQgAAwIBRyPNBAACAn7Eq80EAAADLMbPoQQAAAGLXecVBAAAAXJyrukEAAAC0ig6yQQAAAHxuWbFBAAAA/IgnrEEAAAAg8nyVQQAAAKiEApJBAAAAYFkWh0EAAADg5WyGQQAAAOAC24VBAAAAwFRChUEAAAAA4YVgQZqZmRlZhkpBmpmZmfRwNEGamZmZG4UyQc3MzMxR5C9BKVyPwudUCkEpXI/CHXUHQVyPwvXkKfpATDeJQUB7+UDXo3A9MqX4QEw3iUFgzfZAfT81Xvq63UBeukkMEuzGQF66SQwCAcdA6SYxCPyhxkAX2c73kwm3QEJg5dDCHrBAF7fRAF7Gr0AdyeU/hESvQAN4CyQIO69A4C2QoDgip0DLoUW2s6amQHQkl/9wHKZAppvEILC3pUA9Ctej8HOlQK8l5IOeWqNAPujZrLoXnUB9rrZivwGRQA==",
          "dtype": "f8"
         },
         "yaxis": "y"
        },
        {
         "connectgaps": true,
         "hovertemplate": "Flash: %{y:.2f} $/TB<br><extra></extra>",
         "legendgroup": "Flash",
         "line": {
          "color": "#b33c10",
          "dash": "solid"
         },
         "marker": {
          "symbol": "circle"
         },
         "mode": "lines+markers",
         "name": "Flash",
         "orientation": "v",
         "showlegend": true,
         "type": "scatter",
         "x": {
          "bdata": "pAelB6cHqAesB60HrgeyB7UHtge3B7gHuQe6B7sHvAe9B74HvwfAB8EHwgfDB8QHxQfGB8cHyAfJB8oHywfMB80HzgfPB9AH0QfSB9MH1AfVB9YH1wfYB9kH2gfbB9wH3QfeB98H4AfhB+IH4wfkB+UH5gfnBw==",
          "dtype": "i2"
         },
         "xaxis": "x",
         "y": {
          "bdata": "AAAAAAAA+H8AAAAAAAD4fwAAAAAAAPh/AAAAAAAA+H8AAAAAAAD4fwAAAAAAAPh/AAAAAAAA+H8AAAAAAAD4fwAAAAAAAPh/AAAAAAAA+H8AAAAAAAD4fwAAAAAAAPh/AAAAAAAA+H8AAAAAAAD4fwAAAAAAAPh/AAAAAAAA+H8AAAAAAAD4fwAAAAAAAPh/AAAAAAAA+H8AAAAAAAD4fwAAAAAAAPh/AAAAAAAA+H8AAAAAAAD4fwAAAAAAAPh/AAAAAAAA+H8AAAAAAAD4fwAAAAAAAPh/AAAAAAAA+H8AAAAAAAD4fwAAAAAAAPh/AAAAAAAA+H8AAAAAAAD4fwAAAAAAAPh/AAAAAAAA+H8AAAAAAAD4fwAAAAAAAPh/AAAAAAAA+H8AAAAAAAD4f83MzMymbxBBrkfhevABEEFxPQrXk6P4QI/C9ShsWtJAyXa+n6LZwUDVCWgibDGhQKabxCDweZ5A2PD0ShkRlkD1udqKfRmSQNZW7C87aoRA9iNFZFjGf0Bb07zjlOJ2QPK1Z5YExGNAklz+Q/qEY0AUXKyowRxjQAAAAAAAAPh/AAAAAAAA+H8AAAAAAAD4fwAAAAAAAPh/AAAAAAAA+H8AAAAAAAD4fw==",
          "dtype": "f8"
         },
         "yaxis": "y"
        },
        {
         "connectgaps": true,
         "hovertemplate": "Disk: %{y:.2f} $/TB<br><extra></extra>",
         "legendgroup": "Disk",
         "line": {
          "color": "#AB865B",
          "dash": "solid"
         },
         "marker": {
          "symbol": "circle"
         },
         "mode": "lines+markers",
         "name": "Disk",
         "orientation": "v",
         "showlegend": true,
         "type": "scatter",
         "x": {
          "bdata": "pAelB6cHqAesB60HrgeyB7UHtge3B7gHuQe6B7sHvAe9B74HvwfAB8EHwgfDB8QHxQfGB8cHyAfJB8oHywfMB80HzgfPB9AH0QfSB9MH1AfVB9YH1wfYB9kH2gfbB9wH3QfeB98H4AfhB+IH4wfkB+UH5gfnBw==",
          "dtype": "i2"
         },
         "xaxis": "x",
         "y": {
          "bdata": "AACwS+9kNEIAAAAAAAD4fwAAAJvtay9CAAAg5Q1XHUIAAICFCVgbQgAAAAAAAPh/AACAKaMb/0EAAACM8svZQQAAAGy8jtZBAAAAyGbwzEEAAADayIPKQQAAAAAAAPh/AAAAAAAA+H8AAAAAAAD4fwAAAHRbqcNBAAAAQcFQwUEAAADgGmO/QQAAAILmkr1BAAAAnAqSskEAAACYR0aWQQAAAKApApJBAAAAYPjFhEEAAABQckGAQQAAACBEzXRBAAAAgJLMbUEAAADA/rNYQQAAAABpPVRBAAAAgLKxQ0FmZmbmUJ8zQQAAAICoFSdBAAAAAAQrFkE9CtejmLMJQXsUrkcZDPNAUrgehZtC40B56SYxSNHKQMuhRbaT57dAg8DKoWWTrUCaCBueXlqbQET67etAfJBA/fZ14NwXikAr9pfdE9OAQOJYF7fRjHFANGjon+Azb0CgU5CfjQxeQABvgQTFG1VA2bW93ZK0SkB9dVWgFhdFQKgAGM+gqURA8MSsF0NdREC2oWKcvyFDQI/C9Shc7z5AptWQuMfePUCXcr7Ye2U6QLjNVIhHFjhAVaGBWDb7MkAAAAAAAEAwQMUcBB2tCi9An6ut2F9GKUAVxhaCHDwlQA==",
          "dtype": "f8"
         },
         "yaxis": "y"
        },
        {
         "connectgaps": true,
         "hovertemplate": "Solid state: %{y:.2f} $/TB<br><extra></extra>",
         "legendgroup": "Solid state",
         "line": {
          "color": "#398b6e",
          "dash": "solid"
         },
         "marker": {
          "symbol": "circle"
         },
         "mode": "lines+markers",
         "name": "Solid state",
         "orientation": "v",
         "showlegend": true,
         "type": "scatter",
         "x": {
          "bdata": "pAelB6cHqAesB60HrgeyB7UHtge3B7gHuQe6B7sHvAe9B74HvwfAB8EHwgfDB8QHxQfGB8cHyAfJB8oHywfMB80HzgfPB9AH0QfSB9MH1AfVB9YH1wfYB9kH2gfbB9wH3QfeB98H4AfhB+IH4wfkB+UH5gfnBw==",
          "dtype": "i2"
         },
         "xaxis": "x",
         "y": {
          "bdata": "AAAAAAAA+H8AAAAAAAD4fwAAAAAAAPh/AAAAAAAA+H8AAAAAAAD4fwAAAAAAAPh/AAAAAAAA+H8AAAAAAAD4fwAAAAAAAPh/AAAAAAAA+H8AAAAAAAD4fwAAAAAAAPh/AAAAAAAA+H8AAAAAAAD4fwAAAAAAAPh/AAAAAAAA+H8AAAAAAAD4fwAAAAAAAPh/AAAAAAAA+H8AAAAAAAD4fwAAAAAAAPh/AAAAAAAA+H8AAAAAAAD4fwAAAAAAAPh/AAAAAAAA+H8AAAAAAAD4fwAAAAAAAPh/AAAAAAAA+H8AAAAAAAD4fwAAAAAAAPh/AAAAAAAA+H8AAAAAAAD4fwAAAAAAAPh/AAAAAAAA+H8AAAAAAAD4fwAAAAAAAPh/AAAAAAAA+H8AAAAAAAD4fwAAAAAAAPh/AAAAAAAA+H8AAAAAAAD4fwAAAAAAAPh/AAAAAAAA+H8AAAAAAAD4fwAAAAAAAPh/AAAAAAAA+H8AAAAAAAD4fwAAAAAAAPh/C2MLQY6yhUAeigJ9Ip95QM4ZUdobD3FAn5PeN75ga0AKou4DkM5qQBXGFoIc1lpA7WRwlLwIVECPwvUoXL9SQAtGJXUC6FFA5EhnYOTlQ0A656c4Dug5QA==",
          "dtype": "f8"
         },
         "yaxis": "y"
        }
       ],
       "layout": {
        "annotations": [
         {
          "font": {
           "color": "#5571a1",
           "size": 15
          },
          "showarrow": false,
          "text": "Memory",
          "x": 1.01,
          "xanchor": "left",
          "xref": "paper",
          "y": 0.18,
          "yanchor": "middle",
          "yref": "paper"
         },
         {
          "font": {
           "color": "#b33c10",
           "size": 15
          },
          "showarrow": false,
          "text": "Flash",
          "x": 1.01,
          "xanchor": "left",
          "xref": "paper",
          "y": 0.12,
          "yanchor": "middle",
          "yref": "paper"
         },
         {
          "font": {
           "color": "#398b6e",
           "size": 15
          },
          "showarrow": false,
          "text": "Solid state",
          "x": 1.01,
          "xanchor": "left",
          "xref": "paper",
          "y": 0.08,
          "yanchor": "middle",
          "yref": "paper"
         },
         {
          "font": {
           "color": "#AB865B",
           "size": 15
          },
          "showarrow": false,
          "text": "Disk",
          "x": 1.01,
          "xanchor": "left",
          "xref": "paper",
          "y": 0.05,
          "yanchor": "middle",
          "yref": "paper"
         },
         {
          "align": "left",
          "showarrow": false,
          "text": "<span style='font-size:14px; color:#858585;'><b>Data source:</b> John C. McCallum (2023); U.S. Bureau of Labor Statistics (2024)                              OurWorldinData.org/internet | CC BY<br><br><b>Note:</b>For each year, the time series shows the cheapest historical price recorded until that year. This data is expressed in constant 2020<br>US$.</span>",
          "x": -0.18,
          "xref": "paper",
          "y": -0.2,
          "yref": "paper"
         }
        ],
        "height": 800,
        "hovermode": "x unified",
        "images": [
         {
          "layer": "above",
          "sizex": 0.08,
          "sizey": 0.08,
          "source": "figures/logo.png",
          "x": 1.1,
          "xanchor": "right",
          "xref": "paper",
          "y": 1.11,
          "yanchor": "bottom",
          "yref": "paper"
         }
        ],
        "legend": {
         "title": {
          "text": "Memory Type"
         },
         "tracegroupgap": 0
        },
        "margin": {
         "b": 120,
         "l": 80,
         "r": 120,
         "t": 120
        },
        "paper_bgcolor": "white",
        "plot_bgcolor": "white",
        "showlegend": false,
        "template": {
         "data": {
          "bar": [
           {
            "error_x": {
             "color": "#2a3f5f"
            },
            "error_y": {
             "color": "#2a3f5f"
            },
            "marker": {
             "line": {
              "color": "#E5ECF6",
              "width": 0.5
             },
             "pattern": {
              "fillmode": "overlay",
              "size": 10,
              "solidity": 0.2
             }
            },
            "type": "bar"
           }
          ],
          "barpolar": [
           {
            "marker": {
             "line": {
              "color": "#E5ECF6",
              "width": 0.5
             },
             "pattern": {
              "fillmode": "overlay",
              "size": 10,
              "solidity": 0.2
             }
            },
            "type": "barpolar"
           }
          ],
          "carpet": [
           {
            "aaxis": {
             "endlinecolor": "#2a3f5f",
             "gridcolor": "white",
             "linecolor": "white",
             "minorgridcolor": "white",
             "startlinecolor": "#2a3f5f"
            },
            "baxis": {
             "endlinecolor": "#2a3f5f",
             "gridcolor": "white",
             "linecolor": "white",
             "minorgridcolor": "white",
             "startlinecolor": "#2a3f5f"
            },
            "type": "carpet"
           }
          ],
          "choropleth": [
           {
            "colorbar": {
             "outlinewidth": 0,
             "ticks": ""
            },
            "type": "choropleth"
           }
          ],
          "contour": [
           {
            "colorbar": {
             "outlinewidth": 0,
             "ticks": ""
            },
            "colorscale": [
             [
              0,
              "#0d0887"
             ],
             [
              0.1111111111111111,
              "#46039f"
             ],
             [
              0.2222222222222222,
              "#7201a8"
             ],
             [
              0.3333333333333333,
              "#9c179e"
             ],
             [
              0.4444444444444444,
              "#bd3786"
             ],
             [
              0.5555555555555556,
              "#d8576b"
             ],
             [
              0.6666666666666666,
              "#ed7953"
             ],
             [
              0.7777777777777778,
              "#fb9f3a"
             ],
             [
              0.8888888888888888,
              "#fdca26"
             ],
             [
              1,
              "#f0f921"
             ]
            ],
            "type": "contour"
           }
          ],
          "contourcarpet": [
           {
            "colorbar": {
             "outlinewidth": 0,
             "ticks": ""
            },
            "type": "contourcarpet"
           }
          ],
          "heatmap": [
           {
            "colorbar": {
             "outlinewidth": 0,
             "ticks": ""
            },
            "colorscale": [
             [
              0,
              "#0d0887"
             ],
             [
              0.1111111111111111,
              "#46039f"
             ],
             [
              0.2222222222222222,
              "#7201a8"
             ],
             [
              0.3333333333333333,
              "#9c179e"
             ],
             [
              0.4444444444444444,
              "#bd3786"
             ],
             [
              0.5555555555555556,
              "#d8576b"
             ],
             [
              0.6666666666666666,
              "#ed7953"
             ],
             [
              0.7777777777777778,
              "#fb9f3a"
             ],
             [
              0.8888888888888888,
              "#fdca26"
             ],
             [
              1,
              "#f0f921"
             ]
            ],
            "type": "heatmap"
           }
          ],
          "histogram": [
           {
            "marker": {
             "pattern": {
              "fillmode": "overlay",
              "size": 10,
              "solidity": 0.2
             }
            },
            "type": "histogram"
           }
          ],
          "histogram2d": [
           {
            "colorbar": {
             "outlinewidth": 0,
             "ticks": ""
            },
            "colorscale": [
             [
              0,
              "#0d0887"
             ],
             [
              0.1111111111111111,
              "#46039f"
             ],
             [
              0.2222222222222222,
              "#7201a8"
             ],
             [
              0.3333333333333333,
              "#9c179e"
             ],
             [
              0.4444444444444444,
              "#bd3786"
             ],
             [
              0.5555555555555556,
              "#d8576b"
             ],
             [
              0.6666666666666666,
              "#ed7953"
             ],
             [
              0.7777777777777778,
              "#fb9f3a"
             ],
             [
              0.8888888888888888,
              "#fdca26"
             ],
             [
              1,
              "#f0f921"
             ]
            ],
            "type": "histogram2d"
           }
          ],
          "histogram2dcontour": [
           {
            "colorbar": {
             "outlinewidth": 0,
             "ticks": ""
            },
            "colorscale": [
             [
              0,
              "#0d0887"
             ],
             [
              0.1111111111111111,
              "#46039f"
             ],
             [
              0.2222222222222222,
              "#7201a8"
             ],
             [
              0.3333333333333333,
              "#9c179e"
             ],
             [
              0.4444444444444444,
              "#bd3786"
             ],
             [
              0.5555555555555556,
              "#d8576b"
             ],
             [
              0.6666666666666666,
              "#ed7953"
             ],
             [
              0.7777777777777778,
              "#fb9f3a"
             ],
             [
              0.8888888888888888,
              "#fdca26"
             ],
             [
              1,
              "#f0f921"
             ]
            ],
            "type": "histogram2dcontour"
           }
          ],
          "mesh3d": [
           {
            "colorbar": {
             "outlinewidth": 0,
             "ticks": ""
            },
            "type": "mesh3d"
           }
          ],
          "parcoords": [
           {
            "line": {
             "colorbar": {
              "outlinewidth": 0,
              "ticks": ""
             }
            },
            "type": "parcoords"
           }
          ],
          "pie": [
           {
            "automargin": true,
            "type": "pie"
           }
          ],
          "scatter": [
           {
            "fillpattern": {
             "fillmode": "overlay",
             "size": 10,
             "solidity": 0.2
            },
            "type": "scatter"
           }
          ],
          "scatter3d": [
           {
            "line": {
             "colorbar": {
              "outlinewidth": 0,
              "ticks": ""
             }
            },
            "marker": {
             "colorbar": {
              "outlinewidth": 0,
              "ticks": ""
             }
            },
            "type": "scatter3d"
           }
          ],
          "scattercarpet": [
           {
            "marker": {
             "colorbar": {
              "outlinewidth": 0,
              "ticks": ""
             }
            },
            "type": "scattercarpet"
           }
          ],
          "scattergeo": [
           {
            "marker": {
             "colorbar": {
              "outlinewidth": 0,
              "ticks": ""
             }
            },
            "type": "scattergeo"
           }
          ],
          "scattergl": [
           {
            "marker": {
             "colorbar": {
              "outlinewidth": 0,
              "ticks": ""
             }
            },
            "type": "scattergl"
           }
          ],
          "scattermap": [
           {
            "marker": {
             "colorbar": {
              "outlinewidth": 0,
              "ticks": ""
             }
            },
            "type": "scattermap"
           }
          ],
          "scattermapbox": [
           {
            "marker": {
             "colorbar": {
              "outlinewidth": 0,
              "ticks": ""
             }
            },
            "type": "scattermapbox"
           }
          ],
          "scatterpolar": [
           {
            "marker": {
             "colorbar": {
              "outlinewidth": 0,
              "ticks": ""
             }
            },
            "type": "scatterpolar"
           }
          ],
          "scatterpolargl": [
           {
            "marker": {
             "colorbar": {
              "outlinewidth": 0,
              "ticks": ""
             }
            },
            "type": "scatterpolargl"
           }
          ],
          "scatterternary": [
           {
            "marker": {
             "colorbar": {
              "outlinewidth": 0,
              "ticks": ""
             }
            },
            "type": "scatterternary"
           }
          ],
          "surface": [
           {
            "colorbar": {
             "outlinewidth": 0,
             "ticks": ""
            },
            "colorscale": [
             [
              0,
              "#0d0887"
             ],
             [
              0.1111111111111111,
              "#46039f"
             ],
             [
              0.2222222222222222,
              "#7201a8"
             ],
             [
              0.3333333333333333,
              "#9c179e"
             ],
             [
              0.4444444444444444,
              "#bd3786"
             ],
             [
              0.5555555555555556,
              "#d8576b"
             ],
             [
              0.6666666666666666,
              "#ed7953"
             ],
             [
              0.7777777777777778,
              "#fb9f3a"
             ],
             [
              0.8888888888888888,
              "#fdca26"
             ],
             [
              1,
              "#f0f921"
             ]
            ],
            "type": "surface"
           }
          ],
          "table": [
           {
            "cells": {
             "fill": {
              "color": "#EBF0F8"
             },
             "line": {
              "color": "white"
             }
            },
            "header": {
             "fill": {
              "color": "#C8D4E3"
             },
             "line": {
              "color": "white"
             }
            },
            "type": "table"
           }
          ]
         },
         "layout": {
          "annotationdefaults": {
           "arrowcolor": "#2a3f5f",
           "arrowhead": 0,
           "arrowwidth": 1
          },
          "autotypenumbers": "strict",
          "coloraxis": {
           "colorbar": {
            "outlinewidth": 0,
            "ticks": ""
           }
          },
          "colorscale": {
           "diverging": [
            [
             0,
             "#8e0152"
            ],
            [
             0.1,
             "#c51b7d"
            ],
            [
             0.2,
             "#de77ae"
            ],
            [
             0.3,
             "#f1b6da"
            ],
            [
             0.4,
             "#fde0ef"
            ],
            [
             0.5,
             "#f7f7f7"
            ],
            [
             0.6,
             "#e6f5d0"
            ],
            [
             0.7,
             "#b8e186"
            ],
            [
             0.8,
             "#7fbc41"
            ],
            [
             0.9,
             "#4d9221"
            ],
            [
             1,
             "#276419"
            ]
           ],
           "sequential": [
            [
             0,
             "#0d0887"
            ],
            [
             0.1111111111111111,
             "#46039f"
            ],
            [
             0.2222222222222222,
             "#7201a8"
            ],
            [
             0.3333333333333333,
             "#9c179e"
            ],
            [
             0.4444444444444444,
             "#bd3786"
            ],
            [
             0.5555555555555556,
             "#d8576b"
            ],
            [
             0.6666666666666666,
             "#ed7953"
            ],
            [
             0.7777777777777778,
             "#fb9f3a"
            ],
            [
             0.8888888888888888,
             "#fdca26"
            ],
            [
             1,
             "#f0f921"
            ]
           ],
           "sequentialminus": [
            [
             0,
             "#0d0887"
            ],
            [
             0.1111111111111111,
             "#46039f"
            ],
            [
             0.2222222222222222,
             "#7201a8"
            ],
            [
             0.3333333333333333,
             "#9c179e"
            ],
            [
             0.4444444444444444,
             "#bd3786"
            ],
            [
             0.5555555555555556,
             "#d8576b"
            ],
            [
             0.6666666666666666,
             "#ed7953"
            ],
            [
             0.7777777777777778,
             "#fb9f3a"
            ],
            [
             0.8888888888888888,
             "#fdca26"
            ],
            [
             1,
             "#f0f921"
            ]
           ]
          },
          "colorway": [
           "#636efa",
           "#EF553B",
           "#00cc96",
           "#ab63fa",
           "#FFA15A",
           "#19d3f3",
           "#FF6692",
           "#B6E880",
           "#FF97FF",
           "#FECB52"
          ],
          "font": {
           "color": "#2a3f5f"
          },
          "geo": {
           "bgcolor": "white",
           "lakecolor": "white",
           "landcolor": "#E5ECF6",
           "showlakes": true,
           "showland": true,
           "subunitcolor": "white"
          },
          "hoverlabel": {
           "align": "left"
          },
          "hovermode": "closest",
          "mapbox": {
           "style": "light"
          },
          "paper_bgcolor": "white",
          "plot_bgcolor": "#E5ECF6",
          "polar": {
           "angularaxis": {
            "gridcolor": "white",
            "linecolor": "white",
            "ticks": ""
           },
           "bgcolor": "#E5ECF6",
           "radialaxis": {
            "gridcolor": "white",
            "linecolor": "white",
            "ticks": ""
           }
          },
          "scene": {
           "xaxis": {
            "backgroundcolor": "#E5ECF6",
            "gridcolor": "white",
            "gridwidth": 2,
            "linecolor": "white",
            "showbackground": true,
            "ticks": "",
            "zerolinecolor": "white"
           },
           "yaxis": {
            "backgroundcolor": "#E5ECF6",
            "gridcolor": "white",
            "gridwidth": 2,
            "linecolor": "white",
            "showbackground": true,
            "ticks": "",
            "zerolinecolor": "white"
           },
           "zaxis": {
            "backgroundcolor": "#E5ECF6",
            "gridcolor": "white",
            "gridwidth": 2,
            "linecolor": "white",
            "showbackground": true,
            "ticks": "",
            "zerolinecolor": "white"
           }
          },
          "shapedefaults": {
           "line": {
            "color": "#2a3f5f"
           }
          },
          "ternary": {
           "aaxis": {
            "gridcolor": "white",
            "linecolor": "white",
            "ticks": ""
           },
           "baxis": {
            "gridcolor": "white",
            "linecolor": "white",
            "ticks": ""
           },
           "bgcolor": "#E5ECF6",
           "caxis": {
            "gridcolor": "white",
            "linecolor": "white",
            "ticks": ""
           }
          },
          "title": {
           "x": 0.05
          },
          "xaxis": {
           "automargin": true,
           "gridcolor": "white",
           "linecolor": "white",
           "ticks": "",
           "title": {
            "standoff": 15
           },
           "zerolinecolor": "white",
           "zerolinewidth": 2
          },
          "yaxis": {
           "automargin": true,
           "gridcolor": "white",
           "linecolor": "white",
           "ticks": "",
           "title": {
            "standoff": 15
           },
           "zerolinecolor": "white",
           "zerolinewidth": 2
          }
         }
        },
        "title": {
         "text": "<span style='font-size:28px; color:top_title; font-weight:bold;'>Historical price of computer memory and storage</span><span style='font-size:16px; color:sub_title;'><br><br>This data is expressed in US dollars per terabyte (TB), adjusted for inflation. \"Memory\" refers to random accces<br>memory (RAM), \"disc\" to magnetic storage, \"flash\" to special memory used for rapid data access and rewriting,<br>and \"solid state\" to solid-state drives (SSDs).</span>",
         "x": 0.01,
         "xanchor": "left",
         "y": 0.95
        },
        "width": 1000,
        "xaxis": {
         "anchor": "free",
         "domain": [
          0,
          1
         ],
         "linecolor": "#ccc",
         "position": 0.055,
         "range": [
          1956,
          2023.3
         ],
         "showline": false,
         "showticklabels": true,
         "tickfont": {
          "color": "#555555",
          "size": 15
         },
         "ticks": "outside",
         "ticktext": [
          "     1956",
          "1970",
          "1980",
          "1990",
          "2000",
          "2010",
          "2023      "
         ],
         "tickvals": [
          1956,
          1970,
          1980,
          1990,
          2000,
          2010,
          2023
         ],
         "title": {}
        },
        "yaxis": {
         "anchor": "x",
         "domain": [
          0,
          1
         ],
         "gridcolor": "#E5E5E5",
         "griddash": "dash",
         "gridwidth": 1,
         "showgrid": true,
         "showline": true,
         "tickfont": {
          "color": "#555555",
          "size": 15
         },
         "tickmode": "array",
         "ticktext": [
          "100 $/TB",
          "10,000 $/TB",
          "1 million $/TB",
          "100 million $/TB",
          "10 billion $/TB",
          "1 trillion $/TB",
          "100 trillion $/TB"
         ],
         "tickvals": [
          100,
          10000,
          1000000,
          100000000,
          10000000000,
          1000000000000,
          100000000000000
         ],
         "title": {},
         "type": "log"
        }
       }
      }
     },
     "metadata": {},
     "output_type": "display_data"
    }
   ],
   "source": [
    "import plotly.express as px\n",
    "import numpy as np\n",
    "\n",
    "top_title = \"#2D2E2D\"\n",
    "sub_title = \"#5B5B5B\"\n",
    "y_label_color = \"#555555\"\n",
    "explanations_color = \"#858585\"\n",
    "\n",
    "color_dict = {\n",
    "    \"Memory\": \"#5571a1\",\n",
    "    \"Flash\": \"#b33c10\",\n",
    "    \"Solid state\": \"#398b6e\",\n",
    "    \"Disk\": \"#AB865B\",\n",
    "    \n",
    "}\n",
    "\n",
    "\n",
    "# ----------------------------------------------------------#\n",
    "fig = px.line(\n",
    "    df_melted,\n",
    "    x=\"Year\",\n",
    "    y=\"Price\",\n",
    "    color=\"Memory Type\",\n",
    "    color_discrete_map=color_dict,\n",
    "    markers=True,\n",
    "    log_y=True,\n",
    "    \n",
    ")\n",
    "\n",
    "# Update the layout to avoid connecting gaps\n",
    "fig.update_traces(connectgaps=True)\n",
    "\n",
    "fig.update_layout(\n",
    "    width=1000,\n",
    "    height=800,\n",
    "    margin=dict(l=80,r=120,b=120,t=120),  # give space for text\n",
    "    plot_bgcolor=\"white\",\n",
    "    paper_bgcolor=\"white\",\n",
    "    showlegend=False\n",
    ")\n",
    "# ----------------------------------------------------------#\n",
    "\n",
    "# Define your tick positions (major ticks)\n",
    "tickvals = [100, 1e4, 1e6, 1e8, 1e10, 1e12, 1e14]\n",
    "\n",
    "# Define the matching labels\n",
    "ticktext = [\n",
    "    '100 $/TB',\n",
    "    '10,000 $/TB',\n",
    "    '1 million $/TB',\n",
    "    '100 million $/TB',\n",
    "    '10 billion $/TB',\n",
    "    '1 trillion $/TB',\n",
    "    '100 trillion $/TB'\n",
    "]\n",
    "\n",
    "\n",
    "# ----------------------------------------------------------#\n",
    "# Update layout with title\n",
    "fig.update_layout(\n",
    "    title=dict(\n",
    "        text=(\n",
    "            \"<span style='font-size:28px; color:top_title; font-weight:bold;'>\"\n",
    "            \"Historical price of computer memory and storage</span>\"\n",
    "            \"<span style='font-size:16px; color:sub_title;'>\"\n",
    "            '<br><br>This data is expressed in US dollars per terabyte (TB), adjusted for inflation. \"Memory\" refers to random accces'\n",
    "            '<br>memory (RAM), \"disc\" to magnetic storage, \"flash\" to special memory used for rapid data access and rewriting,'\n",
    "            '<br>and \"solid state\" to solid-state drives (SSDs).'\n",
    "            \"</span>\"\n",
    "        ),\n",
    "        x=0.01,  # Position title\n",
    "        y=0.95,\n",
    "        xanchor=\"left\",\n",
    "    ),\n",
    "    xaxis_title=None,\n",
    "    yaxis_title=None,\n",
    "    xaxis=dict(\n",
    "        range=[1956, 2023.3],  # Fix the x-axis to desired bounds\n",
    "        anchor=\"free\",\n",
    "        position = 0.055,\n",
    "        tickvals=[1956, 1970, 1980, 1990, 2000, 2010, 2023],  # or auto\n",
    "        ticktext=[\"     1956\", \"1970\", \"1980\", \"1990\", \"2000\",  \"2010\",\"2023      \"],\n",
    "        tickfont=dict(size=15, color=\"#555555\"),\n",
    "        ticks=\"outside\",\n",
    "        showticklabels=True,\n",
    "        showline=False,   \n",
    "        linecolor=\"#ccc\"    \n",
    "    ),\n",
    "    yaxis=dict(\n",
    "        tickmode='array',\n",
    "        tickvals=tickvals,\n",
    "        ticktext=ticktext,\n",
    "        tickfont=dict(size=15, color=y_label_color),\n",
    "        showgrid=True,\n",
    "        gridcolor=\"#E5E5E5\",  # optional: light gray grid lines\n",
    "        gridwidth=1,\n",
    "        griddash=\"dash\",\n",
    "        showline=True,   \n",
    "        \n",
    "    )\n",
    "\n",
    ")\n",
    "\n",
    "# List of entities in desired vertical order (top to bottom)\n",
    "entities_ordered = list(color_dict.keys()) \n",
    "# Custom vertical positions (same length as entities_ordered)\n",
    "custom_y_positions = [\n",
    "    0.18,  # Memory\n",
    "    0.12, # Flash\n",
    "    0.08,  # Solid state\n",
    "    0.05   # Disk\n",
    "]\n",
    "\n",
    "for i, entity in enumerate(entities_ordered):\n",
    "    y_pos = custom_y_positions[i]\n",
    "\n",
    "    # Draw the annotation\n",
    "    fig.add_annotation(\n",
    "        x=1.01,\n",
    "        y=y_pos,\n",
    "        xref=\"paper\",\n",
    "        yref=\"paper\",\n",
    "        text=entity,\n",
    "        font=dict(color=color_dict.get(entity, \"#000000\"), size=15),\n",
    "        showarrow=False,\n",
    "        xanchor=\"left\",\n",
    "        yanchor=\"middle\"\n",
    "    )\n",
    "\n",
    "\n",
    "# Update layout with bottom explanation text\n",
    "fig.add_annotation(\n",
    "    text=(\n",
    "        \"<span style='font-size:14px; color:\" + explanations_color + \";'>\"\n",
    "        \"<b>Data source:</b> John C. McCallum (2023); U.S. Bureau of Labor Statistics (2024)\"\n",
    "        \"                              OurWorldinData.org/internet | CC BY\"\n",
    "        \"<br>\"\n",
    "        \"<br><b>Note:</b>For each year, the time series shows the cheapest historical price recorded until that year. This data is expressed in constant 2020\"\n",
    "        \"<br>US$.\"\n",
    "        \"</span>\"\n",
    "    ),\n",
    "    xref=\"paper\",  # Relative to the plot width (0 to 1)\n",
    "    yref=\"paper\",  # Relative to the plot height (0 to 1)\n",
    "    x=-0.18,  # Match title x position (left-aligned)\n",
    "    y=-0.2,  # Below the plot (adjust as needed)\n",
    "    showarrow=False,\n",
    "    align=\"left\",\n",
    ")\n",
    "\n",
    "fig.add_layout_image(\n",
    "    dict(\n",
    "        source=\"figures/logo.png\",  \n",
    "        xref=\"paper\", yref=\"paper\",  # Relative to figure, not data\n",
    "        x=1.1, y=1.11,                  # Bottom-right corner\n",
    "        sizex=0.08, sizey=0.08,      # Adjust size as needed\n",
    "        xanchor=\"right\", yanchor=\"bottom\",\n",
    "        layer=\"above\"               # Draw above plot\n",
    "    )\n",
    ")\n",
    "\n",
    "fig.update_layout(hovermode=\"x unified\")\n",
    "\n",
    "# Optionally prepare a comment (or use literal string in template)\n",
    "usd_note = \"in constant 2020 US$ per terabyte\"\n",
    "\n",
    "\n",
    "for i, trace in enumerate(fig.data):\n",
    "    if i == 0:\n",
    "        trace.hovertemplate = (\n",
    "            usd_note + \"<br>\" +\n",
    "            trace.name + \": %{y:.2f} $/TB<br>\" +\"<extra></extra>\"\n",
    "        )\n",
    "    else:\n",
    "        trace.hovertemplate = (\n",
    "            trace.name + \": %{y:.2f} $/TB<br><extra></extra>\"\n",
    "        )\n",
    "\n",
    "fig.show()\n",
    "\n",
    "fig.write_html(\"interactive_figures/historical_price.html\")"
   ]
  },
  {
   "cell_type": "markdown",
   "id": "182bdb8a",
   "metadata": {},
   "source": [
    "## 2. Price on memory\n",
    "\n",
    "b) Apply storytelling principles to improve this visualization. You can make several variations if you want to tell different stories."
   ]
  },
  {
   "cell_type": "code",
   "execution_count": null,
   "id": "43df2272",
   "metadata": {},
   "outputs": [],
   "source": []
  }
 ],
 "metadata": {
  "kernelspec": {
   "display_name": ".venv",
   "language": "python",
   "name": "python3"
  },
  "language_info": {
   "codemirror_mode": {
    "name": "ipython",
    "version": 3
   },
   "file_extension": ".py",
   "mimetype": "text/x-python",
   "name": "python",
   "nbconvert_exporter": "python",
   "pygments_lexer": "ipython3",
   "version": "3.12.3"
  }
 },
 "nbformat": 4,
 "nbformat_minor": 5
}
