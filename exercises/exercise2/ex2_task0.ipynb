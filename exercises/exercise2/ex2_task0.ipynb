{
 "cells": [
  {
   "cell_type": "markdown",
   "id": "cb7fe042",
   "metadata": {},
   "source": [
    "# Exercise 2 - Interactive charting with plotly\n",
    "\n",
    "## 0. Internet usage"
   ]
  },
  {
   "cell_type": "code",
   "execution_count": 4,
   "id": "a99e6e6c",
   "metadata": {},
   "outputs": [
    {
     "data": {
      "text/html": [
       "<div>\n",
       "<style scoped>\n",
       "    .dataframe tbody tr th:only-of-type {\n",
       "        vertical-align: middle;\n",
       "    }\n",
       "\n",
       "    .dataframe tbody tr th {\n",
       "        vertical-align: top;\n",
       "    }\n",
       "\n",
       "    .dataframe thead th {\n",
       "        text-align: right;\n",
       "    }\n",
       "</style>\n",
       "<table border=\"1\" class=\"dataframe\">\n",
       "  <thead>\n",
       "    <tr style=\"text-align: right;\">\n",
       "      <th></th>\n",
       "      <th>Entity</th>\n",
       "      <th>Code</th>\n",
       "      <th>Year</th>\n",
       "      <th>Individuals using the Internet (% of population)</th>\n",
       "    </tr>\n",
       "  </thead>\n",
       "  <tbody>\n",
       "    <tr>\n",
       "      <th>0</th>\n",
       "      <td>Afghanistan</td>\n",
       "      <td>AFG</td>\n",
       "      <td>1990</td>\n",
       "      <td>0.0</td>\n",
       "    </tr>\n",
       "    <tr>\n",
       "      <th>1</th>\n",
       "      <td>Afghanistan</td>\n",
       "      <td>AFG</td>\n",
       "      <td>1991</td>\n",
       "      <td>0.0</td>\n",
       "    </tr>\n",
       "    <tr>\n",
       "      <th>2</th>\n",
       "      <td>Afghanistan</td>\n",
       "      <td>AFG</td>\n",
       "      <td>1992</td>\n",
       "      <td>0.0</td>\n",
       "    </tr>\n",
       "    <tr>\n",
       "      <th>3</th>\n",
       "      <td>Afghanistan</td>\n",
       "      <td>AFG</td>\n",
       "      <td>1993</td>\n",
       "      <td>0.0</td>\n",
       "    </tr>\n",
       "    <tr>\n",
       "      <th>4</th>\n",
       "      <td>Afghanistan</td>\n",
       "      <td>AFG</td>\n",
       "      <td>1994</td>\n",
       "      <td>0.0</td>\n",
       "    </tr>\n",
       "  </tbody>\n",
       "</table>\n",
       "</div>"
      ],
      "text/plain": [
       "        Entity Code  Year  Individuals using the Internet (% of population)\n",
       "0  Afghanistan  AFG  1990                                               0.0\n",
       "1  Afghanistan  AFG  1991                                               0.0\n",
       "2  Afghanistan  AFG  1992                                               0.0\n",
       "3  Afghanistan  AFG  1993                                               0.0\n",
       "4  Afghanistan  AFG  1994                                               0.0"
      ]
     },
     "execution_count": 4,
     "metadata": {},
     "output_type": "execute_result"
    }
   ],
   "source": [
    "# a) Recreate this visualization using plotly, make it as close as possible to the image.\n",
    "\n",
    "import pandas as pd\n",
    "\n",
    "df_internet = pd.read_csv(\"data/share-of-individuals-using-the-internet.csv\")\n",
    "df_internet.head()"
   ]
  },
  {
   "cell_type": "code",
   "execution_count": 5,
   "id": "4d40537d",
   "metadata": {},
   "outputs": [
    {
     "data": {
      "text/html": [
       "<div>\n",
       "<style scoped>\n",
       "    .dataframe tbody tr th:only-of-type {\n",
       "        vertical-align: middle;\n",
       "    }\n",
       "\n",
       "    .dataframe tbody tr th {\n",
       "        vertical-align: top;\n",
       "    }\n",
       "\n",
       "    .dataframe thead th {\n",
       "        text-align: right;\n",
       "    }\n",
       "</style>\n",
       "<table border=\"1\" class=\"dataframe\">\n",
       "  <thead>\n",
       "    <tr style=\"text-align: right;\">\n",
       "      <th></th>\n",
       "      <th>Entity</th>\n",
       "      <th>Year</th>\n",
       "      <th>Individuals using the Internet (% of population)</th>\n",
       "    </tr>\n",
       "  </thead>\n",
       "  <tbody>\n",
       "    <tr>\n",
       "      <th>0</th>\n",
       "      <td>Europe and Central Asia (WB)</td>\n",
       "      <td>1990</td>\n",
       "      <td>0.048031</td>\n",
       "    </tr>\n",
       "    <tr>\n",
       "      <th>1</th>\n",
       "      <td>Europe and Central Asia (WB)</td>\n",
       "      <td>1991</td>\n",
       "      <td>0.101868</td>\n",
       "    </tr>\n",
       "    <tr>\n",
       "      <th>2</th>\n",
       "      <td>Europe and Central Asia (WB)</td>\n",
       "      <td>1992</td>\n",
       "      <td>0.180602</td>\n",
       "    </tr>\n",
       "    <tr>\n",
       "      <th>3</th>\n",
       "      <td>Europe and Central Asia (WB)</td>\n",
       "      <td>1993</td>\n",
       "      <td>0.279651</td>\n",
       "    </tr>\n",
       "    <tr>\n",
       "      <th>4</th>\n",
       "      <td>Europe and Central Asia (WB)</td>\n",
       "      <td>1994</td>\n",
       "      <td>0.524235</td>\n",
       "    </tr>\n",
       "    <tr>\n",
       "      <th>...</th>\n",
       "      <td>...</td>\n",
       "      <td>...</td>\n",
       "      <td>...</td>\n",
       "    </tr>\n",
       "    <tr>\n",
       "      <th>265</th>\n",
       "      <td>World</td>\n",
       "      <td>2019</td>\n",
       "      <td>53.200000</td>\n",
       "    </tr>\n",
       "    <tr>\n",
       "      <th>266</th>\n",
       "      <td>World</td>\n",
       "      <td>2020</td>\n",
       "      <td>59.300000</td>\n",
       "    </tr>\n",
       "    <tr>\n",
       "      <th>267</th>\n",
       "      <td>World</td>\n",
       "      <td>2021</td>\n",
       "      <td>62.200000</td>\n",
       "    </tr>\n",
       "    <tr>\n",
       "      <th>268</th>\n",
       "      <td>World</td>\n",
       "      <td>2022</td>\n",
       "      <td>64.400000</td>\n",
       "    </tr>\n",
       "    <tr>\n",
       "      <th>269</th>\n",
       "      <td>World</td>\n",
       "      <td>2023</td>\n",
       "      <td>67.400000</td>\n",
       "    </tr>\n",
       "  </tbody>\n",
       "</table>\n",
       "<p>270 rows × 3 columns</p>\n",
       "</div>"
      ],
      "text/plain": [
       "                           Entity  Year  \\\n",
       "0    Europe and Central Asia (WB)  1990   \n",
       "1    Europe and Central Asia (WB)  1991   \n",
       "2    Europe and Central Asia (WB)  1992   \n",
       "3    Europe and Central Asia (WB)  1993   \n",
       "4    Europe and Central Asia (WB)  1994   \n",
       "..                            ...   ...   \n",
       "265                         World  2019   \n",
       "266                         World  2020   \n",
       "267                         World  2021   \n",
       "268                         World  2022   \n",
       "269                         World  2023   \n",
       "\n",
       "     Individuals using the Internet (% of population)  \n",
       "0                                            0.048031  \n",
       "1                                            0.101868  \n",
       "2                                            0.180602  \n",
       "3                                            0.279651  \n",
       "4                                            0.524235  \n",
       "..                                                ...  \n",
       "265                                         53.200000  \n",
       "266                                         59.300000  \n",
       "267                                         62.200000  \n",
       "268                                         64.400000  \n",
       "269                                         67.400000  \n",
       "\n",
       "[270 rows x 3 columns]"
      ]
     },
     "execution_count": 5,
     "metadata": {},
     "output_type": "execute_result"
    }
   ],
   "source": [
    "import duckdb\n",
    "\n",
    "df_selection = duckdb.query(\"\"\"--sql\n",
    "    SELECT \n",
    "        Entity,\n",
    "        Year,\n",
    "        \"Individuals using the Internet (% of population)\"\n",
    "    FROM df_internet\n",
    "    WHERE Entity IN (\n",
    "                    'East Asia and Pacific (WB)',\n",
    "                    'Europe and Central Asia (WB)', \n",
    "                    'Latin America and Caribbean (WB)',\n",
    "                    'Middle East and North Africa (WB)',\n",
    "                    'North America (WB)',\n",
    "                    'South Asia (WB)',\n",
    "                    'Sub-Saharan Africa (WB)',\n",
    "                    'World'  )\n",
    "\"\"\").to_df()\n",
    "\n",
    "df_selection"
   ]
  },
  {
   "cell_type": "code",
   "execution_count": 6,
   "id": "a615d8fb",
   "metadata": {},
   "outputs": [
    {
     "data": {
      "text/html": [
       "<div>\n",
       "<style scoped>\n",
       "    .dataframe tbody tr th:only-of-type {\n",
       "        vertical-align: middle;\n",
       "    }\n",
       "\n",
       "    .dataframe tbody tr th {\n",
       "        vertical-align: top;\n",
       "    }\n",
       "\n",
       "    .dataframe thead th {\n",
       "        text-align: right;\n",
       "    }\n",
       "</style>\n",
       "<table border=\"1\" class=\"dataframe\">\n",
       "  <thead>\n",
       "    <tr style=\"text-align: right;\">\n",
       "      <th></th>\n",
       "      <th>Entity</th>\n",
       "      <th>round(\"Individuals using the Internet (% of population)\", 1)</th>\n",
       "    </tr>\n",
       "  </thead>\n",
       "  <tbody>\n",
       "    <tr>\n",
       "      <th>0</th>\n",
       "      <td>North America (WB)</td>\n",
       "      <td>97.3</td>\n",
       "    </tr>\n",
       "    <tr>\n",
       "      <th>1</th>\n",
       "      <td>North America (WB)</td>\n",
       "      <td>96.4</td>\n",
       "    </tr>\n",
       "    <tr>\n",
       "      <th>2</th>\n",
       "      <td>Europe and Central Asia (WB)</td>\n",
       "      <td>90.1</td>\n",
       "    </tr>\n",
       "    <tr>\n",
       "      <th>3</th>\n",
       "      <td>Europe and Central Asia (WB)</td>\n",
       "      <td>86.0</td>\n",
       "    </tr>\n",
       "    <tr>\n",
       "      <th>4</th>\n",
       "      <td>Latin America and Caribbean (WB)</td>\n",
       "      <td>81.0</td>\n",
       "    </tr>\n",
       "    <tr>\n",
       "      <th>5</th>\n",
       "      <td>East Asia and Pacific (WB)</td>\n",
       "      <td>79.0</td>\n",
       "    </tr>\n",
       "    <tr>\n",
       "      <th>6</th>\n",
       "      <td>Middle East and North Africa (WB)</td>\n",
       "      <td>77.7</td>\n",
       "    </tr>\n",
       "    <tr>\n",
       "      <th>7</th>\n",
       "      <td>Latin America and Caribbean (WB)</td>\n",
       "      <td>76.0</td>\n",
       "    </tr>\n",
       "    <tr>\n",
       "      <th>8</th>\n",
       "      <td>East Asia and Pacific (WB)</td>\n",
       "      <td>72.8</td>\n",
       "    </tr>\n",
       "    <tr>\n",
       "      <th>9</th>\n",
       "      <td>Middle East and North Africa (WB)</td>\n",
       "      <td>72.6</td>\n",
       "    </tr>\n",
       "    <tr>\n",
       "      <th>10</th>\n",
       "      <td>World</td>\n",
       "      <td>67.4</td>\n",
       "    </tr>\n",
       "    <tr>\n",
       "      <th>11</th>\n",
       "      <td>World</td>\n",
       "      <td>62.2</td>\n",
       "    </tr>\n",
       "    <tr>\n",
       "      <th>12</th>\n",
       "      <td>South Asia (WB)</td>\n",
       "      <td>42.9</td>\n",
       "    </tr>\n",
       "    <tr>\n",
       "      <th>13</th>\n",
       "      <td>Sub-Saharan Africa (WB)</td>\n",
       "      <td>36.7</td>\n",
       "    </tr>\n",
       "    <tr>\n",
       "      <th>14</th>\n",
       "      <td>Sub-Saharan Africa (WB)</td>\n",
       "      <td>31.4</td>\n",
       "    </tr>\n",
       "  </tbody>\n",
       "</table>\n",
       "</div>"
      ],
      "text/plain": [
       "                               Entity  \\\n",
       "0                  North America (WB)   \n",
       "1                  North America (WB)   \n",
       "2        Europe and Central Asia (WB)   \n",
       "3        Europe and Central Asia (WB)   \n",
       "4    Latin America and Caribbean (WB)   \n",
       "5          East Asia and Pacific (WB)   \n",
       "6   Middle East and North Africa (WB)   \n",
       "7    Latin America and Caribbean (WB)   \n",
       "8          East Asia and Pacific (WB)   \n",
       "9   Middle East and North Africa (WB)   \n",
       "10                              World   \n",
       "11                              World   \n",
       "12                    South Asia (WB)   \n",
       "13            Sub-Saharan Africa (WB)   \n",
       "14            Sub-Saharan Africa (WB)   \n",
       "\n",
       "    round(\"Individuals using the Internet (% of population)\", 1)  \n",
       "0                                                97.3             \n",
       "1                                                96.4             \n",
       "2                                                90.1             \n",
       "3                                                86.0             \n",
       "4                                                81.0             \n",
       "5                                                79.0             \n",
       "6                                                77.7             \n",
       "7                                                76.0             \n",
       "8                                                72.8             \n",
       "9                                                72.6             \n",
       "10                                               67.4             \n",
       "11                                               62.2             \n",
       "12                                               42.9             \n",
       "13                                               36.7             \n",
       "14                                               31.4             "
      ]
     },
     "execution_count": 6,
     "metadata": {},
     "output_type": "execute_result"
    }
   ],
   "source": [
    "df_visualize_old = duckdb.query(\"\"\"--sql\n",
    "    SELECT \n",
    "        Entity,\n",
    "        ROUND(\"Individuals using the Internet (% of population)\",1)\n",
    "    FROM df_selection\n",
    "    WHERE Year IN (2021, 2023)\n",
    "    ORDER BY \"Individuals using the Internet (% of population)\" DESC\n",
    "\"\"\").to_df()         \n",
    "\n",
    "df_visualize_old"
   ]
  },
  {
   "cell_type": "code",
   "execution_count": 7,
   "id": "49259c1d",
   "metadata": {},
   "outputs": [
    {
     "data": {
      "text/html": [
       "<div>\n",
       "<style scoped>\n",
       "    .dataframe tbody tr th:only-of-type {\n",
       "        vertical-align: middle;\n",
       "    }\n",
       "\n",
       "    .dataframe tbody tr th {\n",
       "        vertical-align: top;\n",
       "    }\n",
       "\n",
       "    .dataframe thead th {\n",
       "        text-align: right;\n",
       "    }\n",
       "</style>\n",
       "<table border=\"1\" class=\"dataframe\">\n",
       "  <thead>\n",
       "    <tr style=\"text-align: right;\">\n",
       "      <th></th>\n",
       "      <th>Entity</th>\n",
       "      <th>Individuals using the Internet (% of population)</th>\n",
       "    </tr>\n",
       "  </thead>\n",
       "  <tbody>\n",
       "    <tr>\n",
       "      <th>0</th>\n",
       "      <td>Sub-Saharan Africa (WB)</td>\n",
       "      <td>36.7</td>\n",
       "    </tr>\n",
       "    <tr>\n",
       "      <th>1</th>\n",
       "      <td>South Asia (WB)</td>\n",
       "      <td>42.9</td>\n",
       "    </tr>\n",
       "    <tr>\n",
       "      <th>2</th>\n",
       "      <td>World</td>\n",
       "      <td>67.4</td>\n",
       "    </tr>\n",
       "    <tr>\n",
       "      <th>3</th>\n",
       "      <td>Middle East and North Africa (WB)</td>\n",
       "      <td>77.7</td>\n",
       "    </tr>\n",
       "    <tr>\n",
       "      <th>4</th>\n",
       "      <td>East Asia and Pacific (WB)</td>\n",
       "      <td>79.0</td>\n",
       "    </tr>\n",
       "    <tr>\n",
       "      <th>5</th>\n",
       "      <td>Latin America and Caribbean (WB)</td>\n",
       "      <td>81.0</td>\n",
       "    </tr>\n",
       "    <tr>\n",
       "      <th>6</th>\n",
       "      <td>Europe and Central Asia (WB)</td>\n",
       "      <td>90.1</td>\n",
       "    </tr>\n",
       "    <tr>\n",
       "      <th>7</th>\n",
       "      <td>North America (WB)</td>\n",
       "      <td>97.3</td>\n",
       "    </tr>\n",
       "  </tbody>\n",
       "</table>\n",
       "</div>"
      ],
      "text/plain": [
       "                              Entity  \\\n",
       "0            Sub-Saharan Africa (WB)   \n",
       "1                    South Asia (WB)   \n",
       "2                              World   \n",
       "3  Middle East and North Africa (WB)   \n",
       "4         East Asia and Pacific (WB)   \n",
       "5   Latin America and Caribbean (WB)   \n",
       "6       Europe and Central Asia (WB)   \n",
       "7                 North America (WB)   \n",
       "\n",
       "   Individuals using the Internet (% of population)  \n",
       "0                                              36.7  \n",
       "1                                              42.9  \n",
       "2                                              67.4  \n",
       "3                                              77.7  \n",
       "4                                              79.0  \n",
       "5                                              81.0  \n",
       "6                                              90.1  \n",
       "7                                              97.3  "
      ]
     },
     "execution_count": 7,
     "metadata": {},
     "output_type": "execute_result"
    }
   ],
   "source": [
    "df_visualize = duckdb.query(\"\"\"--sql\n",
    "    WITH ranked_data AS (\n",
    "        SELECT \n",
    "            Entity,\n",
    "            \"Individuals using the Internet (% of population)\",\n",
    "            Year,\n",
    "            ROW_NUMBER() OVER (PARTITION BY Entity ORDER BY Year DESC) AS rn\n",
    "        FROM df_selection\n",
    "        WHERE Year IN (2021, 2023)\n",
    "    )\n",
    "    SELECT \n",
    "        Entity,\n",
    "        ROUND(\"Individuals using the Internet (% of population)\",1) AS \"Individuals using the Internet (% of population)\"\n",
    "    FROM ranked_data\n",
    "    WHERE rn = 1\n",
    "    ORDER BY \"Individuals using the Internet (% of population)\" ASC\n",
    "\"\"\").to_df()\n",
    "\n",
    "df_visualize\n"
   ]
  },
  {
   "cell_type": "code",
   "execution_count": 74,
   "id": "ac74f8df",
   "metadata": {},
   "outputs": [
    {
     "data": {
      "application/vnd.plotly.v1+json": {
       "config": {
        "plotlyServerURL": "https://plot.ly"
       },
       "data": [
        {
         "cliponaxis": false,
         "hovertemplate": "Individuals using the Internet (% of population)=%{text}<br>Entity=%{y}<extra></extra>",
         "legendgroup": "",
         "marker": {
          "color": "#7088B0",
          "pattern": {
           "shape": ""
          }
         },
         "name": "",
         "orientation": "h",
         "showlegend": false,
         "text": {
          "bdata": "mpmZmZlZQkAzMzMzM3NFQJqZmZmZ2VBAzczMzMxsU0AAAAAAAMBTQAAAAAAAQFRAZmZmZmaGVkAzMzMzM1NYQA==",
          "dtype": "f8"
         },
         "textfont": {
          "color": "#444444",
          "size": 14
         },
         "textposition": "outside",
         "texttemplate": "%{text:.1f}%",
         "type": "bar",
         "x": {
          "bdata": "mpmZmZlZQkAzMzMzM3NFQJqZmZmZ2VBAzczMzMxsU0AAAAAAAMBTQAAAAAAAQFRAZmZmZmaGVkAzMzMzM1NYQA==",
          "dtype": "f8"
         },
         "xaxis": "x",
         "y": [
          "Sub-Saharan Africa (WB)",
          "South Asia (WB)",
          "World",
          "Middle East and North Africa (WB)",
          "East Asia and Pacific (WB)",
          "Latin America and Caribbean (WB)",
          "Europe and Central Asia (WB)",
          "North America (WB)"
         ],
         "yaxis": "y"
        }
       ],
       "layout": {
        "annotations": [
         {
          "align": "left",
          "showarrow": false,
          "text": "<span style='font-size:16px; color:#858585;'><b>Data source:</b> International Telecommunication Union (via World Bank) (2025)                              OurWorldinData.org/internet | CC BY</span>",
          "x": -0.4,
          "xref": "paper",
          "y": -0.06,
          "yref": "paper"
         },
         {
          "align": "left",
          "showarrow": false,
          "text": "<span style='font-size:15px; color:#858585;'><b>1. Internet user:</b>An internet user is defined by the International Telecommunication Union as anyone who has accessed the internet from any<br>location in the last three months. This can be from any type of device, including a computer, mobile phone, personal digital asssistant, games<br>machine, digital TV, and other technological devices.</span>",
          "x": -0.4,
          "xref": "paper",
          "y": -0.17,
          "yref": "paper"
         }
        ],
        "barmode": "relative",
        "height": 800,
        "hovermode": false,
        "images": [
         {
          "layer": "above",
          "sizex": 0.12,
          "sizey": 0.12,
          "source": "figures/logo.png",
          "x": 1.05,
          "xanchor": "right",
          "xref": "paper",
          "y": 0.95,
          "yanchor": "bottom",
          "yref": "paper"
         }
        ],
        "legend": {
         "tracegroupgap": 0
        },
        "margin": {
         "b": 120,
         "r": 80,
         "t": 60
        },
        "paper_bgcolor": "white",
        "plot_bgcolor": "white",
        "shapes": [
         {
          "line": {
           "color": "#858585",
           "width": 1
          },
          "type": "line",
          "x0": -0.4,
          "x1": 0.99,
          "xref": "paper",
          "y0": -0.08,
          "y1": -0.08,
          "yref": "paper"
         }
        ],
        "template": {
         "data": {
          "bar": [
           {
            "error_x": {
             "color": "#2a3f5f"
            },
            "error_y": {
             "color": "#2a3f5f"
            },
            "marker": {
             "line": {
              "color": "#E5ECF6",
              "width": 0.5
             },
             "pattern": {
              "fillmode": "overlay",
              "size": 10,
              "solidity": 0.2
             }
            },
            "type": "bar"
           }
          ],
          "barpolar": [
           {
            "marker": {
             "line": {
              "color": "#E5ECF6",
              "width": 0.5
             },
             "pattern": {
              "fillmode": "overlay",
              "size": 10,
              "solidity": 0.2
             }
            },
            "type": "barpolar"
           }
          ],
          "carpet": [
           {
            "aaxis": {
             "endlinecolor": "#2a3f5f",
             "gridcolor": "white",
             "linecolor": "white",
             "minorgridcolor": "white",
             "startlinecolor": "#2a3f5f"
            },
            "baxis": {
             "endlinecolor": "#2a3f5f",
             "gridcolor": "white",
             "linecolor": "white",
             "minorgridcolor": "white",
             "startlinecolor": "#2a3f5f"
            },
            "type": "carpet"
           }
          ],
          "choropleth": [
           {
            "colorbar": {
             "outlinewidth": 0,
             "ticks": ""
            },
            "type": "choropleth"
           }
          ],
          "contour": [
           {
            "colorbar": {
             "outlinewidth": 0,
             "ticks": ""
            },
            "colorscale": [
             [
              0,
              "#0d0887"
             ],
             [
              0.1111111111111111,
              "#46039f"
             ],
             [
              0.2222222222222222,
              "#7201a8"
             ],
             [
              0.3333333333333333,
              "#9c179e"
             ],
             [
              0.4444444444444444,
              "#bd3786"
             ],
             [
              0.5555555555555556,
              "#d8576b"
             ],
             [
              0.6666666666666666,
              "#ed7953"
             ],
             [
              0.7777777777777778,
              "#fb9f3a"
             ],
             [
              0.8888888888888888,
              "#fdca26"
             ],
             [
              1,
              "#f0f921"
             ]
            ],
            "type": "contour"
           }
          ],
          "contourcarpet": [
           {
            "colorbar": {
             "outlinewidth": 0,
             "ticks": ""
            },
            "type": "contourcarpet"
           }
          ],
          "heatmap": [
           {
            "colorbar": {
             "outlinewidth": 0,
             "ticks": ""
            },
            "colorscale": [
             [
              0,
              "#0d0887"
             ],
             [
              0.1111111111111111,
              "#46039f"
             ],
             [
              0.2222222222222222,
              "#7201a8"
             ],
             [
              0.3333333333333333,
              "#9c179e"
             ],
             [
              0.4444444444444444,
              "#bd3786"
             ],
             [
              0.5555555555555556,
              "#d8576b"
             ],
             [
              0.6666666666666666,
              "#ed7953"
             ],
             [
              0.7777777777777778,
              "#fb9f3a"
             ],
             [
              0.8888888888888888,
              "#fdca26"
             ],
             [
              1,
              "#f0f921"
             ]
            ],
            "type": "heatmap"
           }
          ],
          "histogram": [
           {
            "marker": {
             "pattern": {
              "fillmode": "overlay",
              "size": 10,
              "solidity": 0.2
             }
            },
            "type": "histogram"
           }
          ],
          "histogram2d": [
           {
            "colorbar": {
             "outlinewidth": 0,
             "ticks": ""
            },
            "colorscale": [
             [
              0,
              "#0d0887"
             ],
             [
              0.1111111111111111,
              "#46039f"
             ],
             [
              0.2222222222222222,
              "#7201a8"
             ],
             [
              0.3333333333333333,
              "#9c179e"
             ],
             [
              0.4444444444444444,
              "#bd3786"
             ],
             [
              0.5555555555555556,
              "#d8576b"
             ],
             [
              0.6666666666666666,
              "#ed7953"
             ],
             [
              0.7777777777777778,
              "#fb9f3a"
             ],
             [
              0.8888888888888888,
              "#fdca26"
             ],
             [
              1,
              "#f0f921"
             ]
            ],
            "type": "histogram2d"
           }
          ],
          "histogram2dcontour": [
           {
            "colorbar": {
             "outlinewidth": 0,
             "ticks": ""
            },
            "colorscale": [
             [
              0,
              "#0d0887"
             ],
             [
              0.1111111111111111,
              "#46039f"
             ],
             [
              0.2222222222222222,
              "#7201a8"
             ],
             [
              0.3333333333333333,
              "#9c179e"
             ],
             [
              0.4444444444444444,
              "#bd3786"
             ],
             [
              0.5555555555555556,
              "#d8576b"
             ],
             [
              0.6666666666666666,
              "#ed7953"
             ],
             [
              0.7777777777777778,
              "#fb9f3a"
             ],
             [
              0.8888888888888888,
              "#fdca26"
             ],
             [
              1,
              "#f0f921"
             ]
            ],
            "type": "histogram2dcontour"
           }
          ],
          "mesh3d": [
           {
            "colorbar": {
             "outlinewidth": 0,
             "ticks": ""
            },
            "type": "mesh3d"
           }
          ],
          "parcoords": [
           {
            "line": {
             "colorbar": {
              "outlinewidth": 0,
              "ticks": ""
             }
            },
            "type": "parcoords"
           }
          ],
          "pie": [
           {
            "automargin": true,
            "type": "pie"
           }
          ],
          "scatter": [
           {
            "fillpattern": {
             "fillmode": "overlay",
             "size": 10,
             "solidity": 0.2
            },
            "type": "scatter"
           }
          ],
          "scatter3d": [
           {
            "line": {
             "colorbar": {
              "outlinewidth": 0,
              "ticks": ""
             }
            },
            "marker": {
             "colorbar": {
              "outlinewidth": 0,
              "ticks": ""
             }
            },
            "type": "scatter3d"
           }
          ],
          "scattercarpet": [
           {
            "marker": {
             "colorbar": {
              "outlinewidth": 0,
              "ticks": ""
             }
            },
            "type": "scattercarpet"
           }
          ],
          "scattergeo": [
           {
            "marker": {
             "colorbar": {
              "outlinewidth": 0,
              "ticks": ""
             }
            },
            "type": "scattergeo"
           }
          ],
          "scattergl": [
           {
            "marker": {
             "colorbar": {
              "outlinewidth": 0,
              "ticks": ""
             }
            },
            "type": "scattergl"
           }
          ],
          "scattermap": [
           {
            "marker": {
             "colorbar": {
              "outlinewidth": 0,
              "ticks": ""
             }
            },
            "type": "scattermap"
           }
          ],
          "scattermapbox": [
           {
            "marker": {
             "colorbar": {
              "outlinewidth": 0,
              "ticks": ""
             }
            },
            "type": "scattermapbox"
           }
          ],
          "scatterpolar": [
           {
            "marker": {
             "colorbar": {
              "outlinewidth": 0,
              "ticks": ""
             }
            },
            "type": "scatterpolar"
           }
          ],
          "scatterpolargl": [
           {
            "marker": {
             "colorbar": {
              "outlinewidth": 0,
              "ticks": ""
             }
            },
            "type": "scatterpolargl"
           }
          ],
          "scatterternary": [
           {
            "marker": {
             "colorbar": {
              "outlinewidth": 0,
              "ticks": ""
             }
            },
            "type": "scatterternary"
           }
          ],
          "surface": [
           {
            "colorbar": {
             "outlinewidth": 0,
             "ticks": ""
            },
            "colorscale": [
             [
              0,
              "#0d0887"
             ],
             [
              0.1111111111111111,
              "#46039f"
             ],
             [
              0.2222222222222222,
              "#7201a8"
             ],
             [
              0.3333333333333333,
              "#9c179e"
             ],
             [
              0.4444444444444444,
              "#bd3786"
             ],
             [
              0.5555555555555556,
              "#d8576b"
             ],
             [
              0.6666666666666666,
              "#ed7953"
             ],
             [
              0.7777777777777778,
              "#fb9f3a"
             ],
             [
              0.8888888888888888,
              "#fdca26"
             ],
             [
              1,
              "#f0f921"
             ]
            ],
            "type": "surface"
           }
          ],
          "table": [
           {
            "cells": {
             "fill": {
              "color": "#EBF0F8"
             },
             "line": {
              "color": "white"
             }
            },
            "header": {
             "fill": {
              "color": "#C8D4E3"
             },
             "line": {
              "color": "white"
             }
            },
            "type": "table"
           }
          ]
         },
         "layout": {
          "annotationdefaults": {
           "arrowcolor": "#2a3f5f",
           "arrowhead": 0,
           "arrowwidth": 1
          },
          "autotypenumbers": "strict",
          "coloraxis": {
           "colorbar": {
            "outlinewidth": 0,
            "ticks": ""
           }
          },
          "colorscale": {
           "diverging": [
            [
             0,
             "#8e0152"
            ],
            [
             0.1,
             "#c51b7d"
            ],
            [
             0.2,
             "#de77ae"
            ],
            [
             0.3,
             "#f1b6da"
            ],
            [
             0.4,
             "#fde0ef"
            ],
            [
             0.5,
             "#f7f7f7"
            ],
            [
             0.6,
             "#e6f5d0"
            ],
            [
             0.7,
             "#b8e186"
            ],
            [
             0.8,
             "#7fbc41"
            ],
            [
             0.9,
             "#4d9221"
            ],
            [
             1,
             "#276419"
            ]
           ],
           "sequential": [
            [
             0,
             "#0d0887"
            ],
            [
             0.1111111111111111,
             "#46039f"
            ],
            [
             0.2222222222222222,
             "#7201a8"
            ],
            [
             0.3333333333333333,
             "#9c179e"
            ],
            [
             0.4444444444444444,
             "#bd3786"
            ],
            [
             0.5555555555555556,
             "#d8576b"
            ],
            [
             0.6666666666666666,
             "#ed7953"
            ],
            [
             0.7777777777777778,
             "#fb9f3a"
            ],
            [
             0.8888888888888888,
             "#fdca26"
            ],
            [
             1,
             "#f0f921"
            ]
           ],
           "sequentialminus": [
            [
             0,
             "#0d0887"
            ],
            [
             0.1111111111111111,
             "#46039f"
            ],
            [
             0.2222222222222222,
             "#7201a8"
            ],
            [
             0.3333333333333333,
             "#9c179e"
            ],
            [
             0.4444444444444444,
             "#bd3786"
            ],
            [
             0.5555555555555556,
             "#d8576b"
            ],
            [
             0.6666666666666666,
             "#ed7953"
            ],
            [
             0.7777777777777778,
             "#fb9f3a"
            ],
            [
             0.8888888888888888,
             "#fdca26"
            ],
            [
             1,
             "#f0f921"
            ]
           ]
          },
          "colorway": [
           "#636efa",
           "#EF553B",
           "#00cc96",
           "#ab63fa",
           "#FFA15A",
           "#19d3f3",
           "#FF6692",
           "#B6E880",
           "#FF97FF",
           "#FECB52"
          ],
          "font": {
           "color": "#2a3f5f"
          },
          "geo": {
           "bgcolor": "white",
           "lakecolor": "white",
           "landcolor": "#E5ECF6",
           "showlakes": true,
           "showland": true,
           "subunitcolor": "white"
          },
          "hoverlabel": {
           "align": "left"
          },
          "hovermode": "closest",
          "mapbox": {
           "style": "light"
          },
          "paper_bgcolor": "white",
          "plot_bgcolor": "#E5ECF6",
          "polar": {
           "angularaxis": {
            "gridcolor": "white",
            "linecolor": "white",
            "ticks": ""
           },
           "bgcolor": "#E5ECF6",
           "radialaxis": {
            "gridcolor": "white",
            "linecolor": "white",
            "ticks": ""
           }
          },
          "scene": {
           "xaxis": {
            "backgroundcolor": "#E5ECF6",
            "gridcolor": "white",
            "gridwidth": 2,
            "linecolor": "white",
            "showbackground": true,
            "ticks": "",
            "zerolinecolor": "white"
           },
           "yaxis": {
            "backgroundcolor": "#E5ECF6",
            "gridcolor": "white",
            "gridwidth": 2,
            "linecolor": "white",
            "showbackground": true,
            "ticks": "",
            "zerolinecolor": "white"
           },
           "zaxis": {
            "backgroundcolor": "#E5ECF6",
            "gridcolor": "white",
            "gridwidth": 2,
            "linecolor": "white",
            "showbackground": true,
            "ticks": "",
            "zerolinecolor": "white"
           }
          },
          "shapedefaults": {
           "line": {
            "color": "#2a3f5f"
           }
          },
          "ternary": {
           "aaxis": {
            "gridcolor": "white",
            "linecolor": "white",
            "ticks": ""
           },
           "baxis": {
            "gridcolor": "white",
            "linecolor": "white",
            "ticks": ""
           },
           "bgcolor": "#E5ECF6",
           "caxis": {
            "gridcolor": "white",
            "linecolor": "white",
            "ticks": ""
           }
          },
          "title": {
           "x": 0.05
          },
          "xaxis": {
           "automargin": true,
           "gridcolor": "white",
           "linecolor": "white",
           "ticks": "",
           "title": {
            "standoff": 15
           },
           "zerolinecolor": "white",
           "zerolinewidth": 2
          },
          "yaxis": {
           "automargin": true,
           "gridcolor": "white",
           "linecolor": "white",
           "ticks": "",
           "title": {
            "standoff": 15
           },
           "zerolinecolor": "white",
           "zerolinewidth": 2
          }
         }
        },
        "title": {
         "text": "<span style='font-size:30px; color:top_title;font-weight:bold;'>Share of the population using the Internet, 2023</span><br><br><span style='font-size:24px; color:sub_title;'>Share of the population who used the Internet<sup>1</sup> in the last three months.</span>",
         "x": 0.01,
         "xanchor": "left",
         "y": 0.9
        },
        "width": 1200,
        "xaxis": {
         "anchor": "y",
         "domain": [
          0,
          1
         ],
         "showgrid": false,
         "showline": false,
         "showticklabels": false,
         "title": {}
        },
        "yaxis": {
         "anchor": "x",
         "domain": [
          0,
          0.85
         ],
         "showgrid": false,
         "showline": false,
         "showticklabels": true,
         "tickfont": {
          "color": "#555555",
          "size": 16,
          "weight": "bold"
         },
         "title": {}
        }
       }
      }
     },
     "metadata": {},
     "output_type": "display_data"
    }
   ],
   "source": [
    "import plotly.express as px\n",
    "\n",
    "bar_color = \"#7088B0\"\n",
    "top_title = \"#2D2E2D\"\n",
    "sub_title = \"#5B5B5B\"\n",
    "y_label_color = \"#555555\"\n",
    "explanations_color = \"#858585\"\n",
    "\n",
    "# Plot horizontal bar chart\n",
    "fig = px.bar(\n",
    "    df_visualize,\n",
    "    x=\"Individuals using the Internet (% of population)\",\n",
    "    y=\"Entity\",\n",
    "    orientation=\"h\",\n",
    "    color_discrete_sequence=[bar_color],\n",
    "    text=\"Individuals using the Internet (% of population)\",\n",
    ")\n",
    "\n",
    "fig.update_traces(\n",
    "    textposition=\"outside\",  # place values at end of each bar\n",
    "    texttemplate=\"%{text:.1f}%\",  # format as percentage with 1 decimal\n",
    "    textfont=dict(size=14, color=\"#444444\"),\n",
    "    cliponaxis=False)\n",
    "\n",
    "\n",
    "\n",
    "fig.update_layout(\n",
    "    xaxis=dict(showticklabels=False),  # optional: hide axis ticks\n",
    "    margin=dict(r=100),  # give space for text\n",
    "    plot_bgcolor=\"white\",\n",
    "    paper_bgcolor=\"white\"\n",
    ")\n",
    "\n",
    "\n",
    "# Update layout with title, font, size, color, and position, as well as removing labels\n",
    "fig.update_layout(\n",
    "    title=dict(\n",
    "        text=(\n",
    "            \"<span style='font-size:30px; color:top_title;font-weight:bold;'>\"\n",
    "            \"Share of the population using the Internet, 2023\"\n",
    "            \"</span><br><br>\"\n",
    "            \"<span style='font-size:24px; color:sub_title;'>\"\n",
    "            \"Share of the population who used the Internet<sup>1</sup> in the last three months.\"\n",
    "            \"</span>\"\n",
    "        ),\n",
    "        x=0.01,  # Position title \n",
    "        y=0.9,\n",
    "        xanchor=\"left\"  \n",
    "    ),\n",
    "    xaxis_title=None,\n",
    "    yaxis_title=None,\n",
    "    yaxis=dict(\n",
    "        showgrid=False,\n",
    "        showline=False,\n",
    "        showticklabels=True,\n",
    "        tickfont=dict(size=16, color=y_label_color, weight= \"bold\"),# family=\"Lato\"\n",
    "        domain=[0, 0.85],\n",
    "    ),\n",
    "    xaxis=dict(\n",
    "        showgrid=False,\n",
    "        showline=False,\n",
    "        showticklabels=False, \n",
    "    ),\n",
    ")\n",
    "\n",
    "fig.add_annotation(\n",
    "    text=(\n",
    "        \"<span style='font-size:16px; color:\" + explanations_color + \";'>\"\n",
    "        \"<b>Data source:</b> International Telecommunication Union (via World Bank) (2025)\"\n",
    "        \"                              OurWorldinData.org/internet | CC BY\"\n",
    "        \"</span>\"\n",
    "    ),\n",
    "    xref=\"paper\",  # Relative to the plot width (0 to 1)\n",
    "    yref=\"paper\",  # Relative to the plot height (0 to 1)\n",
    "    x=- 0.4,        # Match title x position (left-aligned)\n",
    "    y=-0.06,       # Below the plot (adjust as needed)\n",
    "    showarrow=False,\n",
    "    align=\"left\"\n",
    ")\n",
    "\n",
    "# Separation line\n",
    "fig.add_shape(\n",
    "    type=\"line\",\n",
    "    xref=\"paper\",\n",
    "    yref=\"paper\",\n",
    "    x0=-0.4,\n",
    "    x1=0.99,\n",
    "    y0=-0.08,\n",
    "    y1=-0.08,\n",
    "    line=dict(color=explanations_color, width=1)\n",
    ")\n",
    "\n",
    "# Additional explanatory text\n",
    "fig.add_annotation(\n",
    "    text=\"<span style='font-size:15px; color:\" + explanations_color + \";'>\"\n",
    "         \"<b>1. Internet user:</b>An internet user is defined by the International Telecommunication Union as anyone who has accessed the internet from any<br>\"\n",
    "         \"location in the last three months. This can be from any type of device, including a computer, mobile phone, personal digital asssistant, games<br>\"\n",
    "         \"machine, digital TV, and other technological devices.</span>\",\n",
    "    xref=\"paper\",\n",
    "    yref=\"paper\",\n",
    "    x=-0.4,\n",
    "    y=-0.17,\n",
    "    showarrow=False,\n",
    "    align=\"left\"\n",
    ")\n",
    "fig.add_layout_image(\n",
    "    dict(\n",
    "        source=\"figures/logo.png\",  \n",
    "        xref=\"paper\", yref=\"paper\",  # Relative to figure, not data\n",
    "        x=1.05, y=.95,                  # Bottom-right corner\n",
    "        sizex=0.12, sizey=0.12,      # Adjust size as needed\n",
    "        xanchor=\"right\", yanchor=\"bottom\",\n",
    "        layer=\"above\"               # Draw above plot\n",
    "    )\n",
    ")\n",
    "\n",
    "# Ensure enough space at bottom\n",
    "fig.update_layout(margin=dict(b=120,r=80))\n",
    "\n",
    "fig.update_layout(paper_bgcolor=\"white\", plot_bgcolor=\"white\", hovermode=False)\n",
    "fig.update_layout(width=1200, height=800)\n",
    "\n",
    "\n",
    "# Show the plot\n",
    "fig.show()\n"
   ]
  },
  {
   "cell_type": "code",
   "execution_count": null,
   "id": "73245dfc",
   "metadata": {},
   "outputs": [],
   "source": []
  }
 ],
 "metadata": {
  "kernelspec": {
   "display_name": ".venv",
   "language": "python",
   "name": "python3"
  },
  "language_info": {
   "codemirror_mode": {
    "name": "ipython",
    "version": 3
   },
   "file_extension": ".py",
   "mimetype": "text/x-python",
   "name": "python",
   "nbconvert_exporter": "python",
   "pygments_lexer": "ipython3",
   "version": "3.12.3"
  }
 },
 "nbformat": 4,
 "nbformat_minor": 5
}
