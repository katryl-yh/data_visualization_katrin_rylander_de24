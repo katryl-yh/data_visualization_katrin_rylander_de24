{
 "cells": [
  {
   "cell_type": "markdown",
   "id": "cb7fe042",
   "metadata": {},
   "source": [
    "# Exercise 2 - Interactive charting with plotly\n",
    "\n",
    "## 0. Internet usage"
   ]
  },
  {
   "cell_type": "code",
   "execution_count": null,
   "id": "a99e6e6c",
   "metadata": {},
   "outputs": [],
   "source": [
    "# a) Recreate this visualization using plotly, make it as close as possible to the image.\n",
    "\n"
   ]
  },
  {
   "cell_type": "markdown",
   "id": "3b96e7c2",
   "metadata": {},
   "source": []
  }
 ],
 "metadata": {
  "kernelspec": {
   "display_name": ".venv",
   "language": "python",
   "name": "python3"
  },
  "language_info": {
   "name": "python",
   "version": "3.12.3"
  }
 },
 "nbformat": 4,
 "nbformat_minor": 5
}
