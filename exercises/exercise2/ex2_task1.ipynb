{
 "cells": [
  {
   "cell_type": "markdown",
   "id": "0c954d88",
   "metadata": {},
   "source": [
    "# Exercise 2 - Interactive charting with plotly\n",
    "\n",
    "## 1. Internet usage historical"
   ]
  },
  {
   "cell_type": "code",
   "execution_count": 1,
   "id": "c855b28b",
   "metadata": {},
   "outputs": [],
   "source": [
    "#   a) Recreate this visualization using plotly, make it as close as possible to the image.\n",
    "import pandas as pd\n",
    "\n",
    "df_internet = pd.read_csv(\"data/share-of-individuals-using-the-internet.csv\")"
   ]
  },
  {
   "cell_type": "code",
   "execution_count": 2,
   "id": "796e5ec3",
   "metadata": {},
   "outputs": [
    {
     "data": {
      "text/html": [
       "<div>\n",
       "<style scoped>\n",
       "    .dataframe tbody tr th:only-of-type {\n",
       "        vertical-align: middle;\n",
       "    }\n",
       "\n",
       "    .dataframe tbody tr th {\n",
       "        vertical-align: top;\n",
       "    }\n",
       "\n",
       "    .dataframe thead th {\n",
       "        text-align: right;\n",
       "    }\n",
       "</style>\n",
       "<table border=\"1\" class=\"dataframe\">\n",
       "  <thead>\n",
       "    <tr style=\"text-align: right;\">\n",
       "      <th></th>\n",
       "      <th>Entity</th>\n",
       "      <th>Year</th>\n",
       "      <th>Individuals using the Internet (% of population)</th>\n",
       "    </tr>\n",
       "  </thead>\n",
       "  <tbody>\n",
       "    <tr>\n",
       "      <th>0</th>\n",
       "      <td>Europe and Central Asia (WB)</td>\n",
       "      <td>1990</td>\n",
       "      <td>0.048031</td>\n",
       "    </tr>\n",
       "    <tr>\n",
       "      <th>1</th>\n",
       "      <td>Europe and Central Asia (WB)</td>\n",
       "      <td>1991</td>\n",
       "      <td>0.101868</td>\n",
       "    </tr>\n",
       "    <tr>\n",
       "      <th>2</th>\n",
       "      <td>Europe and Central Asia (WB)</td>\n",
       "      <td>1992</td>\n",
       "      <td>0.180602</td>\n",
       "    </tr>\n",
       "    <tr>\n",
       "      <th>3</th>\n",
       "      <td>Europe and Central Asia (WB)</td>\n",
       "      <td>1993</td>\n",
       "      <td>0.279651</td>\n",
       "    </tr>\n",
       "    <tr>\n",
       "      <th>4</th>\n",
       "      <td>Europe and Central Asia (WB)</td>\n",
       "      <td>1994</td>\n",
       "      <td>0.524235</td>\n",
       "    </tr>\n",
       "    <tr>\n",
       "      <th>...</th>\n",
       "      <td>...</td>\n",
       "      <td>...</td>\n",
       "      <td>...</td>\n",
       "    </tr>\n",
       "    <tr>\n",
       "      <th>265</th>\n",
       "      <td>World</td>\n",
       "      <td>2019</td>\n",
       "      <td>53.200000</td>\n",
       "    </tr>\n",
       "    <tr>\n",
       "      <th>266</th>\n",
       "      <td>World</td>\n",
       "      <td>2020</td>\n",
       "      <td>59.300000</td>\n",
       "    </tr>\n",
       "    <tr>\n",
       "      <th>267</th>\n",
       "      <td>World</td>\n",
       "      <td>2021</td>\n",
       "      <td>62.200000</td>\n",
       "    </tr>\n",
       "    <tr>\n",
       "      <th>268</th>\n",
       "      <td>World</td>\n",
       "      <td>2022</td>\n",
       "      <td>64.400000</td>\n",
       "    </tr>\n",
       "    <tr>\n",
       "      <th>269</th>\n",
       "      <td>World</td>\n",
       "      <td>2023</td>\n",
       "      <td>67.400000</td>\n",
       "    </tr>\n",
       "  </tbody>\n",
       "</table>\n",
       "<p>270 rows × 3 columns</p>\n",
       "</div>"
      ],
      "text/plain": [
       "                           Entity  Year  \\\n",
       "0    Europe and Central Asia (WB)  1990   \n",
       "1    Europe and Central Asia (WB)  1991   \n",
       "2    Europe and Central Asia (WB)  1992   \n",
       "3    Europe and Central Asia (WB)  1993   \n",
       "4    Europe and Central Asia (WB)  1994   \n",
       "..                            ...   ...   \n",
       "265                         World  2019   \n",
       "266                         World  2020   \n",
       "267                         World  2021   \n",
       "268                         World  2022   \n",
       "269                         World  2023   \n",
       "\n",
       "     Individuals using the Internet (% of population)  \n",
       "0                                            0.048031  \n",
       "1                                            0.101868  \n",
       "2                                            0.180602  \n",
       "3                                            0.279651  \n",
       "4                                            0.524235  \n",
       "..                                                ...  \n",
       "265                                         53.200000  \n",
       "266                                         59.300000  \n",
       "267                                         62.200000  \n",
       "268                                         64.400000  \n",
       "269                                         67.400000  \n",
       "\n",
       "[270 rows x 3 columns]"
      ]
     },
     "execution_count": 2,
     "metadata": {},
     "output_type": "execute_result"
    }
   ],
   "source": [
    "import duckdb\n",
    "\n",
    "df_selection = duckdb.query(\"\"\"--sql\n",
    "    SELECT \n",
    "        Entity,\n",
    "        Year,\n",
    "        \"Individuals using the Internet (% of population)\"\n",
    "    FROM df_internet\n",
    "    WHERE Entity IN (\n",
    "                    'East Asia and Pacific (WB)',\n",
    "                    'Europe and Central Asia (WB)', \n",
    "                    'Latin America and Caribbean (WB)',\n",
    "                    'Middle East and North Africa (WB)',\n",
    "                    'North America (WB)',\n",
    "                    'South Asia (WB)',\n",
    "                    'Sub-Saharan Africa (WB)',\n",
    "                    'World'  )\n",
    "\"\"\").to_df()\n",
    "\n",
    "df_selection"
   ]
  },
  {
   "cell_type": "code",
   "execution_count": null,
   "id": "df0c7455",
   "metadata": {},
   "outputs": [
    {
     "data": {
      "application/vnd.plotly.v1+json": {
       "config": {
        "plotlyServerURL": "https://plot.ly"
       },
       "data": [
        {
         "hovertemplate": "Entity=Europe and Central Asia (WB)<br>Year=%{x}<br>Individuals using the Internet (% of population)=%{y}<extra></extra>",
         "legendgroup": "Europe and Central Asia (WB)",
         "line": {
          "color": "#cb7b5d",
          "dash": "solid"
         },
         "marker": {
          "symbol": "circle"
         },
         "mode": "lines+markers",
         "name": "Europe and Central Asia (WB)",
         "orientation": "v",
         "showlegend": true,
         "type": "scatter",
         "x": {
          "bdata": "xgfHB8gHyQfKB8sHzAfNB84HzwfQB9EH0gfTB9QH1QfWB9cH2AfZB9oH2wfcB90H3gffB+AH4QfiB+MH5AflB+YH5wc=",
          "dtype": "i2"
         },
         "xaxis": "x",
         "y": {
          "bdata": "uZQMY3+XqD+Elvk3/RO6PycyMWX5Hcc/KyvykM7l0T/N6h1uh8bgP4pt9xfmqe8/ph6z/XVY/T8AcsKE0bwKQIURVr7CpRVAavgW1o1nIkDZJD/iV0QqQA05tp4hXDBA+5KNB1v4NkB3acNhaUA8QCv2l92TH0BAmpmZmZlZQUAAAAAAAABDQM3MzMzMzEVAzczMzMwMSECamZmZmVlKQAAAAAAAgExAmpmZmZkZTkAzMzMzM/NPQDMzMzMzk1BAMzMzMzMzUUAzMzMzM3NRQDMzMzMzE1JAmpmZmZmZUkBmZmZmZoZTQDMzMzMzE1RAmpmZmZnZVEAAAAAAAIBVQJqZmZmZ+VVAZmZmZmaGVkA=",
          "dtype": "f8"
         },
         "yaxis": "y"
        },
        {
         "hovertemplate": "Entity=Latin America and Caribbean (WB)<br>Year=%{x}<br>Individuals using the Internet (% of population)=%{y}<extra></extra>",
         "legendgroup": "Latin America and Caribbean (WB)",
         "line": {
          "color": "#c1a788",
          "dash": "solid"
         },
         "marker": {
          "symbol": "circle"
         },
         "mode": "lines+markers",
         "name": "Latin America and Caribbean (WB)",
         "orientation": "v",
         "showlegend": true,
         "type": "scatter",
         "x": {
          "bdata": "xgfHB8gHyQfKB8sHzAfNB84HzwfQB9EH0gfTB9QH1QfWB9cH2AfZB9oH2wfcB90H3gffB+AH4QfiB+MH5AflB+YH5wc=",
          "dtype": "i2"
         },
         "xaxis": "x",
         "y": {
          "bdata": "AAAAAAAAAAAPh+rDQR1iPzd7hsETsoM/vqFTBPaglT9ccoviHSymP3D8eej1Brs/JQgVJM/Y0z//D2bJ0n3jPz8DRYcbq/M/UC4ypgVkAEA23JH7ZxcPQH5VLlT+hRZAelbSim+4IUDyBwPPvYcmQPJfIAiQySxAmpmZmZmZMEAzMzMzM7M0QDMzMzMzszdAAAAAAACAOkAAAAAAAAA/QJqZmZmZWUFAZmZmZmamQ0AAAAAAAIBFQM3MzMzMDEdAmpmZmZlZSEBmZmZmZiZLQAAAAAAAwExAZmZmZmYmT0AzMzMzM1NQQAAAAAAAAFFAZmZmZmaGUkAAAAAAAABTQGZmZmZmZlNAAAAAAABAVEA=",
          "dtype": "f8"
         },
         "yaxis": "y"
        },
        {
         "hovertemplate": "Entity=Middle East and North Africa (WB)<br>Year=%{x}<br>Individuals using the Internet (% of population)=%{y}<extra></extra>",
         "legendgroup": "Middle East and North Africa (WB)",
         "line": {
          "color": "#6eaa95",
          "dash": "solid"
         },
         "marker": {
          "symbol": "circle"
         },
         "mode": "lines+markers",
         "name": "Middle East and North Africa (WB)",
         "orientation": "v",
         "showlegend": true,
         "type": "scatter",
         "x": {
          "bdata": "xgfHB8gHyQfKB8sHzAfNB84HzwfQB9EH0gfTB9QH1QfWB9cH2AfZB9oH2wfcB90H3gffB+AH4QfiB+MH5AflB+YH5wc=",
          "dtype": "i2"
         },
         "xaxis": "x",
         "y": {
          "bdata": "TXyU3m76YD/+hs0jJnhwP4QFq7731nc/KvoOQX/ogD9BGWn9u6uLP6wYMkckRKA/W49GLs3ntT+2CJRmVuPNP7uPipwR598/S+TlXbMk7j9WPaqrTIL7P0D8/PfglQBA9k1QeSoGDkByCAvd23MUQEJ8YMd/0SBAmpmZmZmZI0CamZmZmZknQDMzMzMzMy5AzczMzMzMMkAzMzMzM7M1QGZmZmZm5jhAzczMzMzMO0AzMzMzMzM/QJqZmZmZmUFAMzMzMzPzQ0DNzMzMzAxGQJqZmZmZGUhAZmZmZmZmS0DNzMzMzAxNQDMzMzMzs09AMzMzMzNzUUBmZmZmZiZSQAAAAAAA4FJAzczMzMxsU0A=",
          "dtype": "f8"
         },
         "yaxis": "y"
        },
        {
         "hovertemplate": "Entity=North America (WB)<br>Year=%{x}<br>Individuals using the Internet (% of population)=%{y}<extra></extra>",
         "legendgroup": "North America (WB)",
         "line": {
          "color": "#ab8fbf",
          "dash": "solid"
         },
         "marker": {
          "symbol": "circle"
         },
         "mode": "lines+markers",
         "name": "North America (WB)",
         "orientation": "v",
         "showlegend": true,
         "type": "scatter",
         "x": {
          "bdata": "xgfHB8gHyQfKB8sHzAfNB84HzwfQB9EH0gfTB9QH1QfWB9cH2AfZB9oH2wfcB90H3gffB+AH4QfiB+MH5AflB+YH5wc=",
          "dtype": "i2"
         },
         "xaxis": "x",
         "y": {
          "bdata": "IS0hYRC/5z/5JvLJL6jxPykaEMb0Sfo/esybHm9NAUBA2v8Aa3USQHxkc9U8dyFAPwCpTZzsLkCFlnX/WPg0QJxrmKHxlD1AW8064/vwQUA8TtGRXPJFQHrCEg8oF0lAvwrw3eaHTUBK0cq9wPhOQKDgYkUNOFBAMzMzMzMTUUAzMzMzM1NRQDMzMzMzs1JAMzMzMzOTUkCamZmZmflRQAAAAAAAIFJAAAAAAADAUUAAAAAAAOBSQDMzMzMzM1JAmpmZmZmZUkBmZmZmZgZTQGZmZmZmhlVAMzMzMzPzVUBmZmZmZkZWQM3MzMzMbFZAZmZmZmYGWECamZmZmRlYQDMzMzMzM1hAMzMzMzNTWEA=",
          "dtype": "f8"
         },
         "yaxis": "y"
        },
        {
         "hovertemplate": "Entity=South Asia (WB)<br>Year=%{x}<br>Individuals using the Internet (% of population)=%{y}<extra></extra>",
         "legendgroup": "South Asia (WB)",
         "line": {
          "color": "#b0777d",
          "dash": "solid"
         },
         "marker": {
          "symbol": "circle"
         },
         "mode": "lines+markers",
         "name": "South Asia (WB)",
         "orientation": "v",
         "showlegend": true,
         "type": "scatter",
         "x": {
          "bdata": "xgfHB8gHyQfKB8sHzAfNB84HzwfQB9EH0gfTB9QH1QfWB9cH2AfZB9oH2wfcB90H3gffB+AH4QfiB+MH5AflBw==",
          "dtype": "i2"
         },
         "xaxis": "x",
         "y": {
          "bdata": "AAAAAAAAAAAAAAAAAAAAAEwi4wCENRY/Fn7AqW66JT+3ZKk6CuVLP1KyiKDrdJQ/4lOJfcXEpD91dcwbVb2uP1Qq8jUV870/DJ2uWfTvzD8yzvgh40/eP6UUdHtJY+U/ZVr2f2mM9z9NbJlngOb9P3aTc73IvwFANlCF5AmpBEAHlPL/TyoIQAeaz7nbBRBAxpOTP866EUAKdNzfj5EUQCvZsRGIpxxApDUGnRBqIkAkRWRYxSskQF9gVijSlSZAGCe+2lGkKUBhpu1fWWEsQIpW7gVmMTBAG2SSkbMQMkCXqN4a2C40QNS7eD9u9ztAzGH3HcOHQ0BjuDoA4mxFQA==",
          "dtype": "f8"
         },
         "yaxis": "y"
        },
        {
         "hovertemplate": "Entity=Sub-Saharan Africa (WB)<br>Year=%{x}<br>Individuals using the Internet (% of population)=%{y}<extra></extra>",
         "legendgroup": "Sub-Saharan Africa (WB)",
         "line": {
          "color": "#405e84",
          "dash": "solid"
         },
         "marker": {
          "symbol": "circle"
         },
         "mode": "lines+markers",
         "name": "Sub-Saharan Africa (WB)",
         "orientation": "v",
         "showlegend": true,
         "type": "scatter",
         "x": {
          "bdata": "xgfHB8gHyQfKB8sHzAfNB84HzwfQB9EH0gfTB9QH1QfWB9cH2AfZB9oH2wfcB90H3gffB+AH4QfiB+MH5AflB+YH5wc=",
          "dtype": "i2"
         },
         "xaxis": "x",
         "y": {
          "bdata": "AAAAAAAAAACWwUEQWu5QP2oBhlcloGg/pOfogSfegT+fEc2Fj12TP+uvkQP6bao/BByEsWyDsj9hFTW5lErBP/UQbOA3U88/fJR0QTvv1z+fPZepSXDgP9R8OsN53eQ/CTyLOWOz6j++q9Si9LvxP+yEPCdi1vc/AAAAAAAAAEAAAAAAAAAEQGZmZmZmZgpAZmZmZmZmDkCamZmZmZkRQGZmZmZmZhhAZmZmZmZmHkBmZmZmZmYiQDMzMzMzMyZAZmZmZmZmKkAAAAAAAAAvQGZmZmZmZjFAMzMzMzOzM0AzMzMzMzM2QM3MzMzMTDlAmpmZmZmZPEBmZmZmZmY/QM3MzMzMzEBAmpmZmZlZQkA=",
          "dtype": "f8"
         },
         "yaxis": "y"
        },
        {
         "hovertemplate": "Entity=East Asia and Pacific (WB)<br>Year=%{x}<br>Individuals using the Internet (% of population)=%{y}<extra></extra>",
         "legendgroup": "East Asia and Pacific (WB)",
         "line": {
          "color": "#a1b0ca",
          "dash": "solid"
         },
         "marker": {
          "symbol": "circle"
         },
         "mode": "lines+markers",
         "name": "East Asia and Pacific (WB)",
         "orientation": "v",
         "showlegend": true,
         "type": "scatter",
         "x": {
          "bdata": "xgfHB8gHyQfKB8sHzAfNB84HzwfQB9EH0gfTB9QH1QfWB9cH2AfZB9oH2wfcB90H3gffB+AH4QfiB+MH5AflB+YH5wc=",
          "dtype": "i2"
         },
         "xaxis": "x",
         "y": {
          "bdata": "MrV//i8Zfj8YOxQX3QCPP01yjb2BQ6A/JO1nLdwksD8qDxzh/u27P0+8NXaq+Mg/jmJvGLsz3j/aCYp6HIHxPyhtYGF3cP4/ymKsgIyKC0BGfZI7bIIWQIVgVb38Lh1A9KPhlLkRIkBp4h3gSTclQDscXaW7SylAZmZmZmZmLUAzMzMzM7MwQM3MzMzMzDRAzczMzMxMOUAAAAAAAIA9QJqZmZmZGUFAZmZmZmamQkAzMzMzMzNEQGZmZmZmpkVAAAAAAADARkBmZmZmZiZIQJqZmZmZ2UlAZmZmZmbmSkAzMzMzM3NNQGZmZmZm5k9AAAAAAABAUUAzMzMzMzNSQGZmZmZm5lJAAAAAAADAU0A=",
          "dtype": "f8"
         },
         "yaxis": "y"
        },
        {
         "hovertemplate": "Entity=World<br>Year=%{x}<br>Individuals using the Internet (% of population)=%{y}<extra></extra>",
         "legendgroup": "World",
         "line": {
          "color": "#c99dc5",
          "dash": "solid"
         },
         "marker": {
          "symbol": "circle"
         },
         "mode": "lines+markers",
         "name": "World",
         "orientation": "v",
         "showlegend": true,
         "type": "scatter",
         "x": {
          "bdata": "xgfHB8gHyQfKB8sHzAfNB84HzwfQB9EH0gfTB9QH1QfWB9cH2AfZB9oH2wfcB90H3gffB+AH4QfiB+MH5AflB+YH5wc=",
          "dtype": "i2"
         },
         "xaxis": "x",
         "y": {
          "bdata": "0DXv34z/qD/s9Afz7Cy0P10+J/caBsA/7cku3rDpxj96ec+7kBLXP2weyd3O2+U/AiQ/h5459T83GVWGcVcAQBja7z/oHwlApzaCnheIEkAUzm4tk+EaQIJxcOmYCyBAdelfksr0JEAKhQg4hFIoQFWEm4wqEyxAMzMzMzMzL0DNzMzMzEwxQM3MzMzMTDRAzczMzMzMNkBmZmZmZmY5QAAAAAAAgDxAAAAAAAAAP0AAAAAAAMBAQDMzMzMzs0FAAAAAAADAQkAzMzMzM/NDQDMzMzMzc0VAMzMzMzOzRkDNzMzMzExIQJqZmZmZmUpAZmZmZmamTUCamZmZmRlPQJqZmZmZGVBAmpmZmZnZUEA=",
          "dtype": "f8"
         },
         "yaxis": "y"
        }
       ],
       "layout": {
        "annotations": [
         {
          "font": {
           "color": "#ab8fbf",
           "size": 14
          },
          "showarrow": false,
          "text": "North America (WB)",
          "x": 0.817,
          "xanchor": "left",
          "xref": "paper",
          "y": 0.96,
          "yref": "paper"
         },
         {
          "font": {
           "color": "#cb7b5d",
           "size": 14
          },
          "showarrow": false,
          "text": "Europe and Central Asia (WB)",
          "x": 0.817,
          "xanchor": "left",
          "xref": "paper",
          "y": 0.89,
          "yref": "paper"
         },
         {
          "font": {
           "color": "#c1a788",
           "size": 14
          },
          "showarrow": false,
          "text": "Latin America and Caribbean (WB)",
          "x": 0.817,
          "xanchor": "left",
          "xref": "paper",
          "y": 0.82,
          "yref": "paper"
         },
         {
          "font": {
           "color": "#a1b0ca",
           "size": 14
          },
          "showarrow": false,
          "text": "East Asia and Pacific (WB)",
          "x": 0.817,
          "xanchor": "left",
          "xref": "paper",
          "y": 0.79,
          "yref": "paper"
         },
         {
          "font": {
           "color": "#6eaa95",
           "size": 14
          },
          "showarrow": false,
          "text": "Middle East and North Africa (WB)",
          "x": 0.817,
          "xanchor": "left",
          "xref": "paper",
          "y": 0.76,
          "yref": "paper"
         },
         {
          "font": {
           "color": "#c99dc5",
           "size": 14
          },
          "showarrow": false,
          "text": "World",
          "x": 0.817,
          "xanchor": "left",
          "xref": "paper",
          "y": 0.68,
          "yref": "paper"
         },
         {
          "font": {
           "color": "#b0777d",
           "size": 14
          },
          "showarrow": false,
          "text": "South Asia (WB)",
          "x": 0.817,
          "xanchor": "left",
          "xref": "paper",
          "y": 0.46,
          "yref": "paper"
         },
         {
          "font": {
           "color": "#405e84",
           "size": 14
          },
          "showarrow": false,
          "text": "Sub-Saharan Africa (WB)",
          "x": 0.817,
          "xanchor": "left",
          "xref": "paper",
          "y": 0.4,
          "yref": "paper"
         },
         {
          "align": "left",
          "showarrow": false,
          "text": "<span style='font-size:14px; color:#858585;'><b>Data source:</b> International Telecommunication Union (via World Bank) (2025)                              OurWorldinData.org/internet | CC BY</span>",
          "x": -0.06,
          "xref": "paper",
          "y": -0.04,
          "yref": "paper"
         },
         {
          "align": "left",
          "showarrow": false,
          "text": "<span style='font-size:13px; color:#858585;'><b>1. Internet user:</b>An internet user is defined by the International Telecommunication Union as anyone who has accessed the internet from any<br>location in the last three months. This can be from any type of device, including a computer, mobile phone, personal digital asssistant, games<br>machine, digital TV, and other technological devices.</span>",
          "x": -0.06,
          "xref": "paper",
          "y": -0.16,
          "yref": "paper"
         }
        ],
        "height": 800,
        "images": [
         {
          "layer": "above",
          "sizex": 0.08,
          "sizey": 0.08,
          "source": "figures/logo.png",
          "x": 1.1,
          "xanchor": "right",
          "xref": "paper",
          "y": 1.04,
          "yanchor": "bottom",
          "yref": "paper"
         }
        ],
        "legend": {
         "title": {
          "text": "Entity"
         },
         "tracegroupgap": 0
        },
        "margin": {
         "b": 120,
         "l": 40,
         "r": 120,
         "t": 80
        },
        "paper_bgcolor": "white",
        "plot_bgcolor": "white",
        "shapes": [
         {
          "layer": "above",
          "line": {
           "color": "#545252",
           "width": 1
          },
          "type": "line",
          "x0": 0.795,
          "x1": 0.812,
          "xref": "paper",
          "y0": 0.95,
          "y1": 0.95,
          "yref": "paper"
         },
         {
          "layer": "above",
          "line": {
           "color": "#545252",
           "width": 1
          },
          "type": "line",
          "x0": 0.795,
          "x1": 0.812,
          "xref": "paper",
          "y0": 0.88,
          "y1": 0.88,
          "yref": "paper"
         },
         {
          "layer": "above",
          "line": {
           "color": "#545252",
           "width": 1
          },
          "type": "line",
          "x0": 0.795,
          "x1": 0.812,
          "xref": "paper",
          "y0": 0.8099999999999999,
          "y1": 0.8099999999999999,
          "yref": "paper"
         },
         {
          "layer": "above",
          "line": {
           "color": "#545252",
           "width": 1
          },
          "type": "line",
          "x0": 0.795,
          "x1": 0.812,
          "xref": "paper",
          "y0": 0.78,
          "y1": 0.78,
          "yref": "paper"
         },
         {
          "layer": "above",
          "line": {
           "color": "#545252",
           "width": 1
          },
          "type": "line",
          "x0": 0.795,
          "x1": 0.812,
          "xref": "paper",
          "y0": 0.75,
          "y1": 0.75,
          "yref": "paper"
         },
         {
          "layer": "above",
          "line": {
           "color": "#545252",
           "width": 1
          },
          "type": "line",
          "x0": 0.795,
          "x1": 0.812,
          "xref": "paper",
          "y0": 0.67,
          "y1": 0.67,
          "yref": "paper"
         },
         {
          "layer": "above",
          "line": {
           "color": "#545252",
           "width": 1
          },
          "type": "line",
          "x0": 0.795,
          "x1": 0.812,
          "xref": "paper",
          "y0": 0.45,
          "y1": 0.45,
          "yref": "paper"
         },
         {
          "layer": "above",
          "line": {
           "color": "#545252",
           "width": 1
          },
          "type": "line",
          "x0": 0.795,
          "x1": 0.812,
          "xref": "paper",
          "y0": 0.39,
          "y1": 0.39,
          "yref": "paper"
         },
         {
          "line": {
           "color": "#858585",
           "width": 1
          },
          "type": "line",
          "x0": -0.06,
          "x1": 1.12,
          "xref": "paper",
          "y0": -0.06,
          "y1": -0.06,
          "yref": "paper"
         }
        ],
        "showlegend": false,
        "template": {
         "data": {
          "bar": [
           {
            "error_x": {
             "color": "#2a3f5f"
            },
            "error_y": {
             "color": "#2a3f5f"
            },
            "marker": {
             "line": {
              "color": "#E5ECF6",
              "width": 0.5
             },
             "pattern": {
              "fillmode": "overlay",
              "size": 10,
              "solidity": 0.2
             }
            },
            "type": "bar"
           }
          ],
          "barpolar": [
           {
            "marker": {
             "line": {
              "color": "#E5ECF6",
              "width": 0.5
             },
             "pattern": {
              "fillmode": "overlay",
              "size": 10,
              "solidity": 0.2
             }
            },
            "type": "barpolar"
           }
          ],
          "carpet": [
           {
            "aaxis": {
             "endlinecolor": "#2a3f5f",
             "gridcolor": "white",
             "linecolor": "white",
             "minorgridcolor": "white",
             "startlinecolor": "#2a3f5f"
            },
            "baxis": {
             "endlinecolor": "#2a3f5f",
             "gridcolor": "white",
             "linecolor": "white",
             "minorgridcolor": "white",
             "startlinecolor": "#2a3f5f"
            },
            "type": "carpet"
           }
          ],
          "choropleth": [
           {
            "colorbar": {
             "outlinewidth": 0,
             "ticks": ""
            },
            "type": "choropleth"
           }
          ],
          "contour": [
           {
            "colorbar": {
             "outlinewidth": 0,
             "ticks": ""
            },
            "colorscale": [
             [
              0,
              "#0d0887"
             ],
             [
              0.1111111111111111,
              "#46039f"
             ],
             [
              0.2222222222222222,
              "#7201a8"
             ],
             [
              0.3333333333333333,
              "#9c179e"
             ],
             [
              0.4444444444444444,
              "#bd3786"
             ],
             [
              0.5555555555555556,
              "#d8576b"
             ],
             [
              0.6666666666666666,
              "#ed7953"
             ],
             [
              0.7777777777777778,
              "#fb9f3a"
             ],
             [
              0.8888888888888888,
              "#fdca26"
             ],
             [
              1,
              "#f0f921"
             ]
            ],
            "type": "contour"
           }
          ],
          "contourcarpet": [
           {
            "colorbar": {
             "outlinewidth": 0,
             "ticks": ""
            },
            "type": "contourcarpet"
           }
          ],
          "heatmap": [
           {
            "colorbar": {
             "outlinewidth": 0,
             "ticks": ""
            },
            "colorscale": [
             [
              0,
              "#0d0887"
             ],
             [
              0.1111111111111111,
              "#46039f"
             ],
             [
              0.2222222222222222,
              "#7201a8"
             ],
             [
              0.3333333333333333,
              "#9c179e"
             ],
             [
              0.4444444444444444,
              "#bd3786"
             ],
             [
              0.5555555555555556,
              "#d8576b"
             ],
             [
              0.6666666666666666,
              "#ed7953"
             ],
             [
              0.7777777777777778,
              "#fb9f3a"
             ],
             [
              0.8888888888888888,
              "#fdca26"
             ],
             [
              1,
              "#f0f921"
             ]
            ],
            "type": "heatmap"
           }
          ],
          "histogram": [
           {
            "marker": {
             "pattern": {
              "fillmode": "overlay",
              "size": 10,
              "solidity": 0.2
             }
            },
            "type": "histogram"
           }
          ],
          "histogram2d": [
           {
            "colorbar": {
             "outlinewidth": 0,
             "ticks": ""
            },
            "colorscale": [
             [
              0,
              "#0d0887"
             ],
             [
              0.1111111111111111,
              "#46039f"
             ],
             [
              0.2222222222222222,
              "#7201a8"
             ],
             [
              0.3333333333333333,
              "#9c179e"
             ],
             [
              0.4444444444444444,
              "#bd3786"
             ],
             [
              0.5555555555555556,
              "#d8576b"
             ],
             [
              0.6666666666666666,
              "#ed7953"
             ],
             [
              0.7777777777777778,
              "#fb9f3a"
             ],
             [
              0.8888888888888888,
              "#fdca26"
             ],
             [
              1,
              "#f0f921"
             ]
            ],
            "type": "histogram2d"
           }
          ],
          "histogram2dcontour": [
           {
            "colorbar": {
             "outlinewidth": 0,
             "ticks": ""
            },
            "colorscale": [
             [
              0,
              "#0d0887"
             ],
             [
              0.1111111111111111,
              "#46039f"
             ],
             [
              0.2222222222222222,
              "#7201a8"
             ],
             [
              0.3333333333333333,
              "#9c179e"
             ],
             [
              0.4444444444444444,
              "#bd3786"
             ],
             [
              0.5555555555555556,
              "#d8576b"
             ],
             [
              0.6666666666666666,
              "#ed7953"
             ],
             [
              0.7777777777777778,
              "#fb9f3a"
             ],
             [
              0.8888888888888888,
              "#fdca26"
             ],
             [
              1,
              "#f0f921"
             ]
            ],
            "type": "histogram2dcontour"
           }
          ],
          "mesh3d": [
           {
            "colorbar": {
             "outlinewidth": 0,
             "ticks": ""
            },
            "type": "mesh3d"
           }
          ],
          "parcoords": [
           {
            "line": {
             "colorbar": {
              "outlinewidth": 0,
              "ticks": ""
             }
            },
            "type": "parcoords"
           }
          ],
          "pie": [
           {
            "automargin": true,
            "type": "pie"
           }
          ],
          "scatter": [
           {
            "fillpattern": {
             "fillmode": "overlay",
             "size": 10,
             "solidity": 0.2
            },
            "type": "scatter"
           }
          ],
          "scatter3d": [
           {
            "line": {
             "colorbar": {
              "outlinewidth": 0,
              "ticks": ""
             }
            },
            "marker": {
             "colorbar": {
              "outlinewidth": 0,
              "ticks": ""
             }
            },
            "type": "scatter3d"
           }
          ],
          "scattercarpet": [
           {
            "marker": {
             "colorbar": {
              "outlinewidth": 0,
              "ticks": ""
             }
            },
            "type": "scattercarpet"
           }
          ],
          "scattergeo": [
           {
            "marker": {
             "colorbar": {
              "outlinewidth": 0,
              "ticks": ""
             }
            },
            "type": "scattergeo"
           }
          ],
          "scattergl": [
           {
            "marker": {
             "colorbar": {
              "outlinewidth": 0,
              "ticks": ""
             }
            },
            "type": "scattergl"
           }
          ],
          "scattermap": [
           {
            "marker": {
             "colorbar": {
              "outlinewidth": 0,
              "ticks": ""
             }
            },
            "type": "scattermap"
           }
          ],
          "scattermapbox": [
           {
            "marker": {
             "colorbar": {
              "outlinewidth": 0,
              "ticks": ""
             }
            },
            "type": "scattermapbox"
           }
          ],
          "scatterpolar": [
           {
            "marker": {
             "colorbar": {
              "outlinewidth": 0,
              "ticks": ""
             }
            },
            "type": "scatterpolar"
           }
          ],
          "scatterpolargl": [
           {
            "marker": {
             "colorbar": {
              "outlinewidth": 0,
              "ticks": ""
             }
            },
            "type": "scatterpolargl"
           }
          ],
          "scatterternary": [
           {
            "marker": {
             "colorbar": {
              "outlinewidth": 0,
              "ticks": ""
             }
            },
            "type": "scatterternary"
           }
          ],
          "surface": [
           {
            "colorbar": {
             "outlinewidth": 0,
             "ticks": ""
            },
            "colorscale": [
             [
              0,
              "#0d0887"
             ],
             [
              0.1111111111111111,
              "#46039f"
             ],
             [
              0.2222222222222222,
              "#7201a8"
             ],
             [
              0.3333333333333333,
              "#9c179e"
             ],
             [
              0.4444444444444444,
              "#bd3786"
             ],
             [
              0.5555555555555556,
              "#d8576b"
             ],
             [
              0.6666666666666666,
              "#ed7953"
             ],
             [
              0.7777777777777778,
              "#fb9f3a"
             ],
             [
              0.8888888888888888,
              "#fdca26"
             ],
             [
              1,
              "#f0f921"
             ]
            ],
            "type": "surface"
           }
          ],
          "table": [
           {
            "cells": {
             "fill": {
              "color": "#EBF0F8"
             },
             "line": {
              "color": "white"
             }
            },
            "header": {
             "fill": {
              "color": "#C8D4E3"
             },
             "line": {
              "color": "white"
             }
            },
            "type": "table"
           }
          ]
         },
         "layout": {
          "annotationdefaults": {
           "arrowcolor": "#2a3f5f",
           "arrowhead": 0,
           "arrowwidth": 1
          },
          "autotypenumbers": "strict",
          "coloraxis": {
           "colorbar": {
            "outlinewidth": 0,
            "ticks": ""
           }
          },
          "colorscale": {
           "diverging": [
            [
             0,
             "#8e0152"
            ],
            [
             0.1,
             "#c51b7d"
            ],
            [
             0.2,
             "#de77ae"
            ],
            [
             0.3,
             "#f1b6da"
            ],
            [
             0.4,
             "#fde0ef"
            ],
            [
             0.5,
             "#f7f7f7"
            ],
            [
             0.6,
             "#e6f5d0"
            ],
            [
             0.7,
             "#b8e186"
            ],
            [
             0.8,
             "#7fbc41"
            ],
            [
             0.9,
             "#4d9221"
            ],
            [
             1,
             "#276419"
            ]
           ],
           "sequential": [
            [
             0,
             "#0d0887"
            ],
            [
             0.1111111111111111,
             "#46039f"
            ],
            [
             0.2222222222222222,
             "#7201a8"
            ],
            [
             0.3333333333333333,
             "#9c179e"
            ],
            [
             0.4444444444444444,
             "#bd3786"
            ],
            [
             0.5555555555555556,
             "#d8576b"
            ],
            [
             0.6666666666666666,
             "#ed7953"
            ],
            [
             0.7777777777777778,
             "#fb9f3a"
            ],
            [
             0.8888888888888888,
             "#fdca26"
            ],
            [
             1,
             "#f0f921"
            ]
           ],
           "sequentialminus": [
            [
             0,
             "#0d0887"
            ],
            [
             0.1111111111111111,
             "#46039f"
            ],
            [
             0.2222222222222222,
             "#7201a8"
            ],
            [
             0.3333333333333333,
             "#9c179e"
            ],
            [
             0.4444444444444444,
             "#bd3786"
            ],
            [
             0.5555555555555556,
             "#d8576b"
            ],
            [
             0.6666666666666666,
             "#ed7953"
            ],
            [
             0.7777777777777778,
             "#fb9f3a"
            ],
            [
             0.8888888888888888,
             "#fdca26"
            ],
            [
             1,
             "#f0f921"
            ]
           ]
          },
          "colorway": [
           "#636efa",
           "#EF553B",
           "#00cc96",
           "#ab63fa",
           "#FFA15A",
           "#19d3f3",
           "#FF6692",
           "#B6E880",
           "#FF97FF",
           "#FECB52"
          ],
          "font": {
           "color": "#2a3f5f"
          },
          "geo": {
           "bgcolor": "white",
           "lakecolor": "white",
           "landcolor": "#E5ECF6",
           "showlakes": true,
           "showland": true,
           "subunitcolor": "white"
          },
          "hoverlabel": {
           "align": "left"
          },
          "hovermode": "closest",
          "mapbox": {
           "style": "light"
          },
          "paper_bgcolor": "white",
          "plot_bgcolor": "#E5ECF6",
          "polar": {
           "angularaxis": {
            "gridcolor": "white",
            "linecolor": "white",
            "ticks": ""
           },
           "bgcolor": "#E5ECF6",
           "radialaxis": {
            "gridcolor": "white",
            "linecolor": "white",
            "ticks": ""
           }
          },
          "scene": {
           "xaxis": {
            "backgroundcolor": "#E5ECF6",
            "gridcolor": "white",
            "gridwidth": 2,
            "linecolor": "white",
            "showbackground": true,
            "ticks": "",
            "zerolinecolor": "white"
           },
           "yaxis": {
            "backgroundcolor": "#E5ECF6",
            "gridcolor": "white",
            "gridwidth": 2,
            "linecolor": "white",
            "showbackground": true,
            "ticks": "",
            "zerolinecolor": "white"
           },
           "zaxis": {
            "backgroundcolor": "#E5ECF6",
            "gridcolor": "white",
            "gridwidth": 2,
            "linecolor": "white",
            "showbackground": true,
            "ticks": "",
            "zerolinecolor": "white"
           }
          },
          "shapedefaults": {
           "line": {
            "color": "#2a3f5f"
           }
          },
          "ternary": {
           "aaxis": {
            "gridcolor": "white",
            "linecolor": "white",
            "ticks": ""
           },
           "baxis": {
            "gridcolor": "white",
            "linecolor": "white",
            "ticks": ""
           },
           "bgcolor": "#E5ECF6",
           "caxis": {
            "gridcolor": "white",
            "linecolor": "white",
            "ticks": ""
           }
          },
          "title": {
           "x": 0.05
          },
          "xaxis": {
           "automargin": true,
           "gridcolor": "white",
           "linecolor": "white",
           "ticks": "",
           "title": {
            "standoff": 15
           },
           "zerolinecolor": "white",
           "zerolinewidth": 2
          },
          "yaxis": {
           "automargin": true,
           "gridcolor": "white",
           "linecolor": "white",
           "ticks": "",
           "title": {
            "standoff": 15
           },
           "zerolinecolor": "white",
           "zerolinewidth": 2
          }
         }
        },
        "title": {
         "text": "<span style='font-size:28px; color:top_title;font-weight:bold;'>Share of the population using the Internet</span><br><span style='font-size:17px; color:sub_title;'>Share of the population who used the Internet<sup>1</sup> in the last three months.</span>",
         "x": 0.01,
         "xanchor": "left",
         "y": 0.95
        },
        "width": 1000,
        "xaxis": {
         "anchor": "free",
         "domain": [
          0,
          0.8
         ],
         "linecolor": "#ccc",
         "position": 0.055,
         "range": [
          1990,
          2023.2
         ],
         "showgrid": false,
         "showline": true,
         "showticklabels": true,
         "tickfont": {
          "color": "#555555",
          "size": 14
         },
         "ticks": "outside",
         "ticktext": [
          "1990",
          "1995",
          "2000",
          "2005",
          "2010",
          "2015",
          "2023"
         ],
         "tickvals": [
          1990,
          1995,
          2000,
          2005,
          2010,
          2015,
          2023
         ],
         "title": {}
        },
        "yaxis": {
         "anchor": "x",
         "domain": [
          0,
          0.99
         ],
         "gridcolor": "#E5E5E5",
         "griddash": "dash",
         "gridwidth": 1,
         "showgrid": true,
         "showline": true,
         "showticklabels": true,
         "tickfont": {
          "color": "#555555",
          "size": 16
         },
         "ticktext": [
          "0%",
          "10%",
          "20%",
          "30%",
          "40%",
          "50%",
          "60%",
          "70%",
          "80%",
          "90%",
          "100%"
         ],
         "tickvals": [
          0,
          10,
          20,
          30,
          40,
          50,
          60,
          70,
          80,
          90,
          100
         ],
         "title": {}
        }
       }
      }
     },
     "metadata": {},
     "output_type": "display_data"
    }
   ],
   "source": [
    "import plotly.express as px\n",
    "\n",
    "top_title = \"#2D2E2D\"\n",
    "sub_title = \"#5B5B5B\"\n",
    "y_label_color = \"#555555\"\n",
    "explanations_color = \"#858585\"\n",
    "\n",
    "color_dict = {\n",
    "    \"North America (WB)\": \"#ab8fbf\",\n",
    "    \"Europe and Central Asia (WB)\": \"#cb7b5d\",\n",
    "    \"Latin America and Caribbean (WB)\": \"#c1a788\",\n",
    "    \"East Asia and Pacific (WB)\": \"#a1b0ca\" ,\n",
    "    \"Middle East and North Africa (WB)\": \"#6eaa95\",\n",
    "    \"World\": \"#c99dc5\",\n",
    "    \"South Asia (WB)\": \"#b0777d\",\n",
    "    \"Sub-Saharan Africa (WB)\": \"#405e84\"\n",
    "}\n",
    "\n",
    "\n",
    "# ----------------------------------------------------------#\n",
    "\n",
    "fig = px.line(\n",
    "    df_selection,\n",
    "    x=\"Year\",\n",
    "    y=\"Individuals using the Internet (% of population)\",\n",
    "    color=\"Entity\",  # This lets you draw a separate line per region or group\n",
    "    color_discrete_map=color_dict,\n",
    "    markers=True\n",
    ")\n",
    "\n",
    "fig.update_layout(\n",
    "    width=1000,\n",
    "    height=800,\n",
    "    margin=dict(r=120, l=40,b=120,t=80),  # give space for text\n",
    "    plot_bgcolor=\"white\",\n",
    "    paper_bgcolor=\"white\",\n",
    "    showlegend=False\n",
    ")\n",
    "\n",
    "\n",
    "# Get default tick values based on your data range\n",
    "tickvals = list(range(0, 101, 10))  # Adjust range/step as needed\n",
    "ticktext = [f\"{v}%\" for v in tickvals]\n",
    "\n",
    "# Update layout with title\n",
    "fig.update_layout(\n",
    "    title=dict(\n",
    "        text=(\n",
    "            \"<span style='font-size:28px; color:top_title;font-weight:bold;'>\"\n",
    "            \"Share of the population using the Internet\"\n",
    "            \"</span><br>\"\n",
    "            \"<span style='font-size:17px; color:sub_title;'>\"\n",
    "            \"Share of the population who used the Internet<sup>1</sup> in the last three months.\"\n",
    "            \"</span>\"\n",
    "        ),\n",
    "        x=0.01,  # Position title\n",
    "        y=0.95,\n",
    "        xanchor=\"left\",\n",
    "    ),\n",
    "    xaxis_title=None,\n",
    "    yaxis_title=None,\n",
    "    yaxis=dict(\n",
    "        tickvals=tickvals,\n",
    "        ticktext=ticktext,\n",
    "        tickfont=dict(size=16, color=y_label_color),\n",
    "        showgrid=True,\n",
    "        gridcolor=\"#E5E5E5\",  # optional: light gray grid lines\n",
    "        gridwidth=1,\n",
    "        griddash=\"dash\",\n",
    "        showline=True,\n",
    "        showticklabels=True,\n",
    "        domain=[0.0, 0.99],\n",
    "    ),\n",
    "    xaxis=dict(\n",
    "        range=[1990, 2023.2],  # Fix the x-axis to desired bounds\n",
    "        showgrid=False,\n",
    "        showline=True,\n",
    "        showticklabels=False, \n",
    "        domain=[0, 0.8],   \n",
    "        linecolor=\"#ccc\"\n",
    "    ),\n",
    ")\n",
    "\n",
    "fig.update_xaxes(\n",
    "    anchor=\"free\",\n",
    "    position = 0.055,\n",
    "    tickvals=[1990, 1995, 2000, 2005, 2010, 2015, 2023],  # or auto\n",
    "    ticktext=[\"1990\", \"1995\", \"2000\", \"2005\", \"2010\",  \"2015\",\"2023\"],\n",
    "    tickfont=dict(size=14, color=\"#555555\"),\n",
    "    ticks=\"outside\",\n",
    "    showticklabels=True)\n",
    "\n",
    "# Annotate each line with its label\n",
    "# List of entities in desired vertical order (top to bottom)\n",
    "entities_ordered = list(color_dict.keys())  # You can reorder manually if you like\n",
    "\n",
    "# Custom vertical positions (same length as entities_ordered)\n",
    "custom_y_positions = [\n",
    "    0.96,  # North America\n",
    "    0.89,  # Europe and Central Asia\n",
    "    0.82,  # Latin America and Caribbean\n",
    "    0.79,  # East Asia and Pacific\n",
    "    0.76,  # Middle East and North Africa\n",
    "    0.68,  # World\n",
    "    0.46,  # South Asia\n",
    "    0.4   # Sub-Saharan Africa\n",
    "]\n",
    "\n",
    "for i, entity in enumerate(entities_ordered):\n",
    "    y_pos = custom_y_positions[i]\n",
    "\n",
    "    # Draw the annotation\n",
    "    fig.add_annotation(\n",
    "        x=0.817,\n",
    "        y=y_pos,\n",
    "        xref=\"paper\",\n",
    "        yref=\"paper\",\n",
    "        text=entity,\n",
    "        font=dict(color=color_dict.get(entity, \"#000000\"), size=14),\n",
    "        showarrow=False,\n",
    "        xanchor=\"left\"\n",
    "    )\n",
    "\n",
    "    # Draw a short gray line from near the right edge of the plot to the label\n",
    "    fig.add_shape(\n",
    "        type=\"line\",\n",
    "        xref=\"paper\",\n",
    "        yref=\"paper\",\n",
    "        x0=0.795,  # end of data area (~0.8), adjust if needed\n",
    "        x1=0.812,  # just before the label\n",
    "        y0= y_pos,\n",
    "        y1= y_pos,\n",
    "        line=dict(color=\"#545252\", width=1),\n",
    "        layer=\"above\"\n",
    "    )\n",
    "\n",
    "# Update layout with bottom explanation text\n",
    "fig.add_annotation(\n",
    "    text=(\n",
    "        \"<span style='font-size:14px; color:\" + explanations_color + \";'>\"\n",
    "        \"<b>Data source:</b> International Telecommunication Union (via World Bank) (2025)\"\n",
    "        \"                              OurWorldinData.org/internet | CC BY\"\n",
    "        \"</span>\"\n",
    "    ),\n",
    "    xref=\"paper\",  # Relative to the plot width (0 to 1)\n",
    "    yref=\"paper\",  # Relative to the plot height (0 to 1)\n",
    "    x=-0.06,  # Match title x position (left-aligned)\n",
    "    y=-0.04,  # Below the plot (adjust as needed)\n",
    "    showarrow=False,\n",
    "    align=\"left\",\n",
    ")\n",
    "\n",
    "# Separation line\n",
    "fig.add_shape(\n",
    "    type=\"line\",\n",
    "    xref=\"paper\",\n",
    "    yref=\"paper\",\n",
    "    x0= -0.06,\n",
    "    x1= 1.12,\n",
    "    y0= -0.06,\n",
    "    y1= -0.06,\n",
    "    line=dict(color=explanations_color, width=1)\n",
    ")\n",
    "\n",
    "# Additional explanatory text\n",
    "fig.add_annotation(\n",
    "    text=\"<span style='font-size:13px; color:\" + explanations_color + \";'>\"\n",
    "         \"<b>1. Internet user:</b>An internet user is defined by the International Telecommunication Union as anyone who has accessed the internet from any<br>\"\n",
    "         \"location in the last three months. This can be from any type of device, including a computer, mobile phone, personal digital asssistant, games<br>\"\n",
    "         \"machine, digital TV, and other technological devices.</span>\",\n",
    "    xref=\"paper\",\n",
    "    yref=\"paper\",\n",
    "    x=-0.06,\n",
    "    y=-0.16,\n",
    "    showarrow=False,\n",
    "    align=\"left\"\n",
    ")\n",
    "fig.add_layout_image(\n",
    "    dict(\n",
    "        source=\"figures/logo.png\",  \n",
    "        xref=\"paper\", yref=\"paper\",  # Relative to figure, not data\n",
    "        x=1.1, y=1.04,                  # Bottom-right corner\n",
    "        sizex=0.08, sizey=0.08,      # Adjust size as needed\n",
    "        xanchor=\"right\", yanchor=\"bottom\",\n",
    "        layer=\"above\"               # Draw above plot\n",
    "    )\n",
    ")\n",
    "fig.show()"
   ]
  },
  {
   "cell_type": "code",
   "execution_count": null,
   "id": "78246f15",
   "metadata": {},
   "outputs": [],
   "source": []
  }
 ],
 "metadata": {
  "kernelspec": {
   "display_name": ".venv",
   "language": "python",
   "name": "python3"
  },
  "language_info": {
   "codemirror_mode": {
    "name": "ipython",
    "version": 3
   },
   "file_extension": ".py",
   "mimetype": "text/x-python",
   "name": "python",
   "nbconvert_exporter": "python",
   "pygments_lexer": "ipython3",
   "version": "3.12.3"
  }
 },
 "nbformat": 4,
 "nbformat_minor": 5
}
