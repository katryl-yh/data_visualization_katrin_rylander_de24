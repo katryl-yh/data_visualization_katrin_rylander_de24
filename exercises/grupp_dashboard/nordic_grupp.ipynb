{
 "cells": [
  {
   "cell_type": "markdown",
   "id": "81b7a83f",
   "metadata": {},
   "source": [
    "# Skapa en dashboard med datan\n",
    "\n",
    "Fritt hur dashboarden ska se ut, men gärna\n",
    ". dropdown för att filtrera data\n",
    "- sliders för att filtrera data\n",
    "- några KPIer\n",
    "- någon/några visualiseringar"
   ]
  },
  {
   "cell_type": "code",
   "execution_count": 5,
   "id": "0c5fe322",
   "metadata": {},
   "outputs": [
    {
     "data": {
      "text/html": [
       "<div>\n",
       "<style scoped>\n",
       "    .dataframe tbody tr th:only-of-type {\n",
       "        vertical-align: middle;\n",
       "    }\n",
       "\n",
       "    .dataframe tbody tr th {\n",
       "        vertical-align: top;\n",
       "    }\n",
       "\n",
       "    .dataframe thead th {\n",
       "        text-align: right;\n",
       "    }\n",
       "</style>\n",
       "<table border=\"1\" class=\"dataframe\">\n",
       "  <thead>\n",
       "    <tr style=\"text-align: right;\">\n",
       "      <th></th>\n",
       "      <th>Rank</th>\n",
       "      <th>Company</th>\n",
       "      <th>Headquarters</th>\n",
       "      <th>Industry</th>\n",
       "      <th>Revenue (billion $)</th>\n",
       "      <th>Profits (billion $)</th>\n",
       "      <th>Assets (billion $)</th>\n",
       "      <th>Market value (billion $)</th>\n",
       "    </tr>\n",
       "  </thead>\n",
       "  <tbody>\n",
       "    <tr>\n",
       "      <th>0</th>\n",
       "      <td>01 (41)</td>\n",
       "      <td>Equinor</td>\n",
       "      <td>Stavanger, Norway</td>\n",
       "      <td>Oil and gas</td>\n",
       "      <td>111.6</td>\n",
       "      <td>13.1</td>\n",
       "      <td>127.8</td>\n",
       "      <td>81.4[2]</td>\n",
       "    </tr>\n",
       "    <tr>\n",
       "      <th>1</th>\n",
       "      <td>02 (135)</td>\n",
       "      <td>Nordea</td>\n",
       "      <td>Helsinki, Finland</td>\n",
       "      <td>Banking</td>\n",
       "      <td>21.7</td>\n",
       "      <td>3.4</td>\n",
       "      <td>933.8</td>\n",
       "      <td>39.7[3]</td>\n",
       "    </tr>\n",
       "    <tr>\n",
       "      <th>2</th>\n",
       "      <td>03 (152)</td>\n",
       "      <td>A.P. Møller-Maersk</td>\n",
       "      <td>Copenhagen, Denmark</td>\n",
       "      <td>Transportation</td>\n",
       "      <td>56.1</td>\n",
       "      <td>2.6</td>\n",
       "      <td>69.8</td>\n",
       "      <td>33.7[4][5]</td>\n",
       "    </tr>\n",
       "    <tr>\n",
       "      <th>3</th>\n",
       "      <td>04 (183)</td>\n",
       "      <td>Volvo</td>\n",
       "      <td>Gothenburg, Sweden</td>\n",
       "      <td>Automotive</td>\n",
       "      <td>45.0</td>\n",
       "      <td>2.6</td>\n",
       "      <td>49.7</td>\n",
       "      <td>30.2[6][7]</td>\n",
       "    </tr>\n",
       "    <tr>\n",
       "      <th>4</th>\n",
       "      <td>05 (239)</td>\n",
       "      <td>Ericsson</td>\n",
       "      <td>Stockholm, Sweden</td>\n",
       "      <td>Telecommunication</td>\n",
       "      <td>32.9</td>\n",
       "      <td>1.8</td>\n",
       "      <td>19.0</td>\n",
       "      <td>19.4[8][9]</td>\n",
       "    </tr>\n",
       "  </tbody>\n",
       "</table>\n",
       "</div>"
      ],
      "text/plain": [
       "       Rank             Company         Headquarters           Industry  \\\n",
       "0   01 (41)             Equinor    Stavanger, Norway        Oil and gas   \n",
       "1  02 (135)              Nordea    Helsinki, Finland            Banking   \n",
       "2  03 (152)  A.P. Møller-Maersk  Copenhagen, Denmark     Transportation   \n",
       "3  04 (183)               Volvo   Gothenburg, Sweden         Automotive   \n",
       "4  05 (239)            Ericsson    Stockholm, Sweden  Telecommunication   \n",
       "\n",
       "   Revenue (billion $)  Profits (billion $)  Assets (billion $)  \\\n",
       "0                111.6                 13.1               127.8   \n",
       "1                 21.7                  3.4               933.8   \n",
       "2                 56.1                  2.6                69.8   \n",
       "3                 45.0                  2.6                49.7   \n",
       "4                 32.9                  1.8                19.0   \n",
       "\n",
       "  Market value (billion $)  \n",
       "0                  81.4[2]  \n",
       "1                  39.7[3]  \n",
       "2               33.7[4][5]  \n",
       "3               30.2[6][7]  \n",
       "4               19.4[8][9]  "
      ]
     },
     "execution_count": 5,
     "metadata": {},
     "output_type": "execute_result"
    }
   ],
   "source": [
    "import pandas as pd\n",
    "# Load into DataFrame\n",
    "df = pd.read_csv(\"nordic_company_rankings.csv\")\n",
    "df.head()"
   ]
  },
  {
   "cell_type": "code",
   "execution_count": 6,
   "id": "8209f89f",
   "metadata": {},
   "outputs": [
    {
     "data": {
      "text/html": [
       "<div>\n",
       "<style scoped>\n",
       "    .dataframe tbody tr th:only-of-type {\n",
       "        vertical-align: middle;\n",
       "    }\n",
       "\n",
       "    .dataframe tbody tr th {\n",
       "        vertical-align: top;\n",
       "    }\n",
       "\n",
       "    .dataframe thead th {\n",
       "        text-align: right;\n",
       "    }\n",
       "</style>\n",
       "<table border=\"1\" class=\"dataframe\">\n",
       "  <thead>\n",
       "    <tr style=\"text-align: right;\">\n",
       "      <th></th>\n",
       "      <th>Rank</th>\n",
       "      <th>Company</th>\n",
       "      <th>Headquarters</th>\n",
       "      <th>Industry</th>\n",
       "      <th>Revenue (billion $)</th>\n",
       "      <th>Profits (billion $)</th>\n",
       "      <th>Assets (billion $)</th>\n",
       "      <th>Market value (billion $)</th>\n",
       "      <th>Rank in Scandinavia</th>\n",
       "      <th>Rank in Forbes 2000</th>\n",
       "      <th>City</th>\n",
       "      <th>Country</th>\n",
       "    </tr>\n",
       "  </thead>\n",
       "  <tbody>\n",
       "    <tr>\n",
       "      <th>0</th>\n",
       "      <td>01 (41)</td>\n",
       "      <td>Equinor</td>\n",
       "      <td>Stavanger, Norway</td>\n",
       "      <td>Oil and gas</td>\n",
       "      <td>111.6</td>\n",
       "      <td>13.1</td>\n",
       "      <td>127.8</td>\n",
       "      <td>81.4[2]</td>\n",
       "      <td>1</td>\n",
       "      <td>41</td>\n",
       "      <td>Stavanger</td>\n",
       "      <td>Norway</td>\n",
       "    </tr>\n",
       "    <tr>\n",
       "      <th>1</th>\n",
       "      <td>02 (135)</td>\n",
       "      <td>Nordea</td>\n",
       "      <td>Helsinki, Finland</td>\n",
       "      <td>Banking</td>\n",
       "      <td>21.7</td>\n",
       "      <td>3.4</td>\n",
       "      <td>933.8</td>\n",
       "      <td>39.7[3]</td>\n",
       "      <td>2</td>\n",
       "      <td>135</td>\n",
       "      <td>Helsinki</td>\n",
       "      <td>Finland</td>\n",
       "    </tr>\n",
       "    <tr>\n",
       "      <th>2</th>\n",
       "      <td>03 (152)</td>\n",
       "      <td>A.P. Møller-Maersk</td>\n",
       "      <td>Copenhagen, Denmark</td>\n",
       "      <td>Transportation</td>\n",
       "      <td>56.1</td>\n",
       "      <td>2.6</td>\n",
       "      <td>69.8</td>\n",
       "      <td>33.7[4][5]</td>\n",
       "      <td>3</td>\n",
       "      <td>152</td>\n",
       "      <td>Copenhagen</td>\n",
       "      <td>Denmark</td>\n",
       "    </tr>\n",
       "    <tr>\n",
       "      <th>3</th>\n",
       "      <td>04 (183)</td>\n",
       "      <td>Volvo</td>\n",
       "      <td>Gothenburg, Sweden</td>\n",
       "      <td>Automotive</td>\n",
       "      <td>45.0</td>\n",
       "      <td>2.6</td>\n",
       "      <td>49.7</td>\n",
       "      <td>30.2[6][7]</td>\n",
       "      <td>4</td>\n",
       "      <td>183</td>\n",
       "      <td>Gothenburg</td>\n",
       "      <td>Sweden</td>\n",
       "    </tr>\n",
       "    <tr>\n",
       "      <th>4</th>\n",
       "      <td>05 (239)</td>\n",
       "      <td>Ericsson</td>\n",
       "      <td>Stockholm, Sweden</td>\n",
       "      <td>Telecommunication</td>\n",
       "      <td>32.9</td>\n",
       "      <td>1.8</td>\n",
       "      <td>19.0</td>\n",
       "      <td>19.4[8][9]</td>\n",
       "      <td>5</td>\n",
       "      <td>239</td>\n",
       "      <td>Stockholm</td>\n",
       "      <td>Sweden</td>\n",
       "    </tr>\n",
       "  </tbody>\n",
       "</table>\n",
       "</div>"
      ],
      "text/plain": [
       "       Rank             Company         Headquarters           Industry  \\\n",
       "0   01 (41)             Equinor    Stavanger, Norway        Oil and gas   \n",
       "1  02 (135)              Nordea    Helsinki, Finland            Banking   \n",
       "2  03 (152)  A.P. Møller-Maersk  Copenhagen, Denmark     Transportation   \n",
       "3  04 (183)               Volvo   Gothenburg, Sweden         Automotive   \n",
       "4  05 (239)            Ericsson    Stockholm, Sweden  Telecommunication   \n",
       "\n",
       "   Revenue (billion $)  Profits (billion $)  Assets (billion $)  \\\n",
       "0                111.6                 13.1               127.8   \n",
       "1                 21.7                  3.4               933.8   \n",
       "2                 56.1                  2.6                69.8   \n",
       "3                 45.0                  2.6                49.7   \n",
       "4                 32.9                  1.8                19.0   \n",
       "\n",
       "  Market value (billion $)  Rank in Scandinavia  Rank in Forbes 2000  \\\n",
       "0                  81.4[2]                    1                   41   \n",
       "1                  39.7[3]                    2                  135   \n",
       "2               33.7[4][5]                    3                  152   \n",
       "3               30.2[6][7]                    4                  183   \n",
       "4               19.4[8][9]                    5                  239   \n",
       "\n",
       "         City  Country  \n",
       "0   Stavanger   Norway  \n",
       "1    Helsinki  Finland  \n",
       "2  Copenhagen  Denmark  \n",
       "3  Gothenburg   Sweden  \n",
       "4   Stockholm   Sweden  "
      ]
     },
     "execution_count": 6,
     "metadata": {},
     "output_type": "execute_result"
    }
   ],
   "source": [
    "# --- Directly add columns to df ---\n",
    "\n",
    "# Split Rank into Main Rank and Sub Rank\n",
    "df['Rank in Scandinavia'] = df['Rank'].str.extract(r'(\\d+)').astype(int)\n",
    "df['Rank in Forbes 2000'] = df['Rank'].str.extract(r'\\((\\d+)\\)').astype(int)\n",
    "\n",
    "# Split Headquarters into City and Country\n",
    "df[['City', 'Country']] = df['Headquarters'].str.split(',', n=1, expand=True)\n",
    "df['City'] = df['City'].str.strip()\n",
    "df['Country'] = df['Country'].str.strip()\n",
    "\n",
    "# Check result\n",
    "df.head()"
   ]
  },
  {
   "cell_type": "code",
   "execution_count": 7,
   "id": "4ef636fd",
   "metadata": {},
   "outputs": [
    {
     "data": {
      "text/html": [
       "<div>\n",
       "<style scoped>\n",
       "    .dataframe tbody tr th:only-of-type {\n",
       "        vertical-align: middle;\n",
       "    }\n",
       "\n",
       "    .dataframe tbody tr th {\n",
       "        vertical-align: top;\n",
       "    }\n",
       "\n",
       "    .dataframe thead th {\n",
       "        text-align: right;\n",
       "    }\n",
       "</style>\n",
       "<table border=\"1\" class=\"dataframe\">\n",
       "  <thead>\n",
       "    <tr style=\"text-align: right;\">\n",
       "      <th></th>\n",
       "      <th>Rank</th>\n",
       "      <th>Company</th>\n",
       "      <th>Headquarters</th>\n",
       "      <th>Industry</th>\n",
       "      <th>Revenue (billion $)</th>\n",
       "      <th>Profits (billion $)</th>\n",
       "      <th>Assets (billion $)</th>\n",
       "      <th>Market value (billion $)</th>\n",
       "      <th>Rank in Scandinavia</th>\n",
       "      <th>Rank in Forbes 2000</th>\n",
       "      <th>City</th>\n",
       "      <th>Country</th>\n",
       "    </tr>\n",
       "  </thead>\n",
       "  <tbody>\n",
       "    <tr>\n",
       "      <th>0</th>\n",
       "      <td>01 (41)</td>\n",
       "      <td>Equinor</td>\n",
       "      <td>Stavanger, Norway</td>\n",
       "      <td>Oil and gas</td>\n",
       "      <td>111.6</td>\n",
       "      <td>13.1</td>\n",
       "      <td>127.8</td>\n",
       "      <td>81.4</td>\n",
       "      <td>1</td>\n",
       "      <td>41</td>\n",
       "      <td>Stavanger</td>\n",
       "      <td>Norway</td>\n",
       "    </tr>\n",
       "    <tr>\n",
       "      <th>1</th>\n",
       "      <td>02 (135)</td>\n",
       "      <td>Nordea</td>\n",
       "      <td>Helsinki, Finland</td>\n",
       "      <td>Banking</td>\n",
       "      <td>21.7</td>\n",
       "      <td>3.4</td>\n",
       "      <td>933.8</td>\n",
       "      <td>39.7</td>\n",
       "      <td>2</td>\n",
       "      <td>135</td>\n",
       "      <td>Helsinki</td>\n",
       "      <td>Finland</td>\n",
       "    </tr>\n",
       "    <tr>\n",
       "      <th>2</th>\n",
       "      <td>03 (152)</td>\n",
       "      <td>A.P. Møller-Maersk</td>\n",
       "      <td>Copenhagen, Denmark</td>\n",
       "      <td>Transportation</td>\n",
       "      <td>56.1</td>\n",
       "      <td>2.6</td>\n",
       "      <td>69.8</td>\n",
       "      <td>33.7</td>\n",
       "      <td>3</td>\n",
       "      <td>152</td>\n",
       "      <td>Copenhagen</td>\n",
       "      <td>Denmark</td>\n",
       "    </tr>\n",
       "    <tr>\n",
       "      <th>3</th>\n",
       "      <td>04 (183)</td>\n",
       "      <td>Volvo</td>\n",
       "      <td>Gothenburg, Sweden</td>\n",
       "      <td>Automotive</td>\n",
       "      <td>45.0</td>\n",
       "      <td>2.6</td>\n",
       "      <td>49.7</td>\n",
       "      <td>30.2</td>\n",
       "      <td>4</td>\n",
       "      <td>183</td>\n",
       "      <td>Gothenburg</td>\n",
       "      <td>Sweden</td>\n",
       "    </tr>\n",
       "    <tr>\n",
       "      <th>4</th>\n",
       "      <td>05 (239)</td>\n",
       "      <td>Ericsson</td>\n",
       "      <td>Stockholm, Sweden</td>\n",
       "      <td>Telecommunication</td>\n",
       "      <td>32.9</td>\n",
       "      <td>1.8</td>\n",
       "      <td>19.0</td>\n",
       "      <td>19.4</td>\n",
       "      <td>5</td>\n",
       "      <td>239</td>\n",
       "      <td>Stockholm</td>\n",
       "      <td>Sweden</td>\n",
       "    </tr>\n",
       "  </tbody>\n",
       "</table>\n",
       "</div>"
      ],
      "text/plain": [
       "       Rank             Company         Headquarters           Industry  \\\n",
       "0   01 (41)             Equinor    Stavanger, Norway        Oil and gas   \n",
       "1  02 (135)              Nordea    Helsinki, Finland            Banking   \n",
       "2  03 (152)  A.P. Møller-Maersk  Copenhagen, Denmark     Transportation   \n",
       "3  04 (183)               Volvo   Gothenburg, Sweden         Automotive   \n",
       "4  05 (239)            Ericsson    Stockholm, Sweden  Telecommunication   \n",
       "\n",
       "   Revenue (billion $)  Profits (billion $)  Assets (billion $)  \\\n",
       "0                111.6                 13.1               127.8   \n",
       "1                 21.7                  3.4               933.8   \n",
       "2                 56.1                  2.6                69.8   \n",
       "3                 45.0                  2.6                49.7   \n",
       "4                 32.9                  1.8                19.0   \n",
       "\n",
       "   Market value (billion $)  Rank in Scandinavia  Rank in Forbes 2000  \\\n",
       "0                      81.4                    1                   41   \n",
       "1                      39.7                    2                  135   \n",
       "2                      33.7                    3                  152   \n",
       "3                      30.2                    4                  183   \n",
       "4                      19.4                    5                  239   \n",
       "\n",
       "         City  Country  \n",
       "0   Stavanger   Norway  \n",
       "1    Helsinki  Finland  \n",
       "2  Copenhagen  Denmark  \n",
       "3  Gothenburg   Sweden  \n",
       "4   Stockholm   Sweden  "
      ]
     },
     "execution_count": 7,
     "metadata": {},
     "output_type": "execute_result"
    }
   ],
   "source": [
    "# Clean 'Market value (billion $)' column:\n",
    "# Keep only the numeric part before any '['\n",
    "df['Market value (billion $)'] = df['Market value (billion $)'].str.extract(r'([\\d.]+)').astype(float)\n",
    "\n",
    "df.head()"
   ]
  },
  {
   "cell_type": "code",
   "execution_count": 8,
   "id": "844b67cc",
   "metadata": {},
   "outputs": [
    {
     "data": {
      "text/html": [
       "<div>\n",
       "<style scoped>\n",
       "    .dataframe tbody tr th:only-of-type {\n",
       "        vertical-align: middle;\n",
       "    }\n",
       "\n",
       "    .dataframe tbody tr th {\n",
       "        vertical-align: top;\n",
       "    }\n",
       "\n",
       "    .dataframe thead th {\n",
       "        text-align: right;\n",
       "    }\n",
       "</style>\n",
       "<table border=\"1\" class=\"dataframe\">\n",
       "  <thead>\n",
       "    <tr style=\"text-align: right;\">\n",
       "      <th></th>\n",
       "      <th>Company</th>\n",
       "      <th>Industry</th>\n",
       "      <th>Revenue (billion $)</th>\n",
       "      <th>Profits (billion $)</th>\n",
       "      <th>Assets (billion $)</th>\n",
       "      <th>Market value (billion $)</th>\n",
       "      <th>Rank in Scandinavia</th>\n",
       "      <th>Rank in Forbes 2000</th>\n",
       "      <th>City</th>\n",
       "      <th>Country</th>\n",
       "    </tr>\n",
       "  </thead>\n",
       "  <tbody>\n",
       "    <tr>\n",
       "      <th>0</th>\n",
       "      <td>Equinor</td>\n",
       "      <td>Oil and gas</td>\n",
       "      <td>111.6</td>\n",
       "      <td>13.1</td>\n",
       "      <td>127.8</td>\n",
       "      <td>81.4</td>\n",
       "      <td>1</td>\n",
       "      <td>41</td>\n",
       "      <td>Stavanger</td>\n",
       "      <td>Norway</td>\n",
       "    </tr>\n",
       "    <tr>\n",
       "      <th>1</th>\n",
       "      <td>Nordea</td>\n",
       "      <td>Banking</td>\n",
       "      <td>21.7</td>\n",
       "      <td>3.4</td>\n",
       "      <td>933.8</td>\n",
       "      <td>39.7</td>\n",
       "      <td>2</td>\n",
       "      <td>135</td>\n",
       "      <td>Helsinki</td>\n",
       "      <td>Finland</td>\n",
       "    </tr>\n",
       "    <tr>\n",
       "      <th>2</th>\n",
       "      <td>A.P. Møller-Maersk</td>\n",
       "      <td>Transportation</td>\n",
       "      <td>56.1</td>\n",
       "      <td>2.6</td>\n",
       "      <td>69.8</td>\n",
       "      <td>33.7</td>\n",
       "      <td>3</td>\n",
       "      <td>152</td>\n",
       "      <td>Copenhagen</td>\n",
       "      <td>Denmark</td>\n",
       "    </tr>\n",
       "    <tr>\n",
       "      <th>3</th>\n",
       "      <td>Volvo</td>\n",
       "      <td>Automotive</td>\n",
       "      <td>45.0</td>\n",
       "      <td>2.6</td>\n",
       "      <td>49.7</td>\n",
       "      <td>30.2</td>\n",
       "      <td>4</td>\n",
       "      <td>183</td>\n",
       "      <td>Gothenburg</td>\n",
       "      <td>Sweden</td>\n",
       "    </tr>\n",
       "    <tr>\n",
       "      <th>4</th>\n",
       "      <td>Ericsson</td>\n",
       "      <td>Telecommunication</td>\n",
       "      <td>32.9</td>\n",
       "      <td>1.8</td>\n",
       "      <td>19.0</td>\n",
       "      <td>19.4</td>\n",
       "      <td>5</td>\n",
       "      <td>239</td>\n",
       "      <td>Stockholm</td>\n",
       "      <td>Sweden</td>\n",
       "    </tr>\n",
       "  </tbody>\n",
       "</table>\n",
       "</div>"
      ],
      "text/plain": [
       "              Company           Industry  Revenue (billion $)  \\\n",
       "0             Equinor        Oil and gas                111.6   \n",
       "1              Nordea            Banking                 21.7   \n",
       "2  A.P. Møller-Maersk     Transportation                 56.1   \n",
       "3               Volvo         Automotive                 45.0   \n",
       "4            Ericsson  Telecommunication                 32.9   \n",
       "\n",
       "   Profits (billion $)  Assets (billion $)  Market value (billion $)  \\\n",
       "0                 13.1               127.8                      81.4   \n",
       "1                  3.4               933.8                      39.7   \n",
       "2                  2.6                69.8                      33.7   \n",
       "3                  2.6                49.7                      30.2   \n",
       "4                  1.8                19.0                      19.4   \n",
       "\n",
       "   Rank in Scandinavia  Rank in Forbes 2000        City  Country  \n",
       "0                    1                   41   Stavanger   Norway  \n",
       "1                    2                  135    Helsinki  Finland  \n",
       "2                    3                  152  Copenhagen  Denmark  \n",
       "3                    4                  183  Gothenburg   Sweden  \n",
       "4                    5                  239   Stockholm   Sweden  "
      ]
     },
     "execution_count": 8,
     "metadata": {},
     "output_type": "execute_result"
    }
   ],
   "source": [
    "# Create a new DataFrame, dropping 'Headquarters' and 'Rank'\n",
    "df_new = df.drop(columns=['Headquarters', 'Rank'])\n",
    "\n",
    "df_new.head()"
   ]
  },
  {
   "cell_type": "code",
   "execution_count": 13,
   "id": "4313c8ae",
   "metadata": {},
   "outputs": [
    {
     "data": {
      "text/html": [
       "<div>\n",
       "<style scoped>\n",
       "    .dataframe tbody tr th:only-of-type {\n",
       "        vertical-align: middle;\n",
       "    }\n",
       "\n",
       "    .dataframe tbody tr th {\n",
       "        vertical-align: top;\n",
       "    }\n",
       "\n",
       "    .dataframe thead th {\n",
       "        text-align: right;\n",
       "    }\n",
       "</style>\n",
       "<table border=\"1\" class=\"dataframe\">\n",
       "  <thead>\n",
       "    <tr style=\"text-align: right;\">\n",
       "      <th></th>\n",
       "      <th>Company</th>\n",
       "      <th>Industry</th>\n",
       "      <th>Revenue (billion $)</th>\n",
       "      <th>Profits (billion $)</th>\n",
       "      <th>Assets (billion $)</th>\n",
       "      <th>Market value (billion $)</th>\n",
       "      <th>Rank in Scandinavia</th>\n",
       "      <th>Rank in Forbes 2000</th>\n",
       "      <th>City Headquarters</th>\n",
       "      <th>Country Headquarters</th>\n",
       "    </tr>\n",
       "  </thead>\n",
       "  <tbody>\n",
       "    <tr>\n",
       "      <th>0</th>\n",
       "      <td>Equinor</td>\n",
       "      <td>Oil and gas</td>\n",
       "      <td>111.6</td>\n",
       "      <td>13.1</td>\n",
       "      <td>127.8</td>\n",
       "      <td>81.4</td>\n",
       "      <td>1</td>\n",
       "      <td>41</td>\n",
       "      <td>Stavanger</td>\n",
       "      <td>Norway</td>\n",
       "    </tr>\n",
       "    <tr>\n",
       "      <th>1</th>\n",
       "      <td>Nordea</td>\n",
       "      <td>Banking</td>\n",
       "      <td>21.7</td>\n",
       "      <td>3.4</td>\n",
       "      <td>933.8</td>\n",
       "      <td>39.7</td>\n",
       "      <td>2</td>\n",
       "      <td>135</td>\n",
       "      <td>Helsinki</td>\n",
       "      <td>Finland</td>\n",
       "    </tr>\n",
       "    <tr>\n",
       "      <th>2</th>\n",
       "      <td>A.P. Møller-Maersk</td>\n",
       "      <td>Transportation</td>\n",
       "      <td>56.1</td>\n",
       "      <td>2.6</td>\n",
       "      <td>69.8</td>\n",
       "      <td>33.7</td>\n",
       "      <td>3</td>\n",
       "      <td>152</td>\n",
       "      <td>Copenhagen</td>\n",
       "      <td>Denmark</td>\n",
       "    </tr>\n",
       "    <tr>\n",
       "      <th>3</th>\n",
       "      <td>Volvo</td>\n",
       "      <td>Automotive</td>\n",
       "      <td>45.0</td>\n",
       "      <td>2.6</td>\n",
       "      <td>49.7</td>\n",
       "      <td>30.2</td>\n",
       "      <td>4</td>\n",
       "      <td>183</td>\n",
       "      <td>Gothenburg</td>\n",
       "      <td>Sweden</td>\n",
       "    </tr>\n",
       "    <tr>\n",
       "      <th>4</th>\n",
       "      <td>Ericsson</td>\n",
       "      <td>Telecommunication</td>\n",
       "      <td>32.9</td>\n",
       "      <td>1.8</td>\n",
       "      <td>19.0</td>\n",
       "      <td>19.4</td>\n",
       "      <td>5</td>\n",
       "      <td>239</td>\n",
       "      <td>Stockholm</td>\n",
       "      <td>Sweden</td>\n",
       "    </tr>\n",
       "  </tbody>\n",
       "</table>\n",
       "</div>"
      ],
      "text/plain": [
       "              Company           Industry  Revenue (billion $)  \\\n",
       "0             Equinor        Oil and gas                111.6   \n",
       "1              Nordea            Banking                 21.7   \n",
       "2  A.P. Møller-Maersk     Transportation                 56.1   \n",
       "3               Volvo         Automotive                 45.0   \n",
       "4            Ericsson  Telecommunication                 32.9   \n",
       "\n",
       "   Profits (billion $)  Assets (billion $)  Market value (billion $)  \\\n",
       "0                 13.1               127.8                      81.4   \n",
       "1                  3.4               933.8                      39.7   \n",
       "2                  2.6                69.8                      33.7   \n",
       "3                  2.6                49.7                      30.2   \n",
       "4                  1.8                19.0                      19.4   \n",
       "\n",
       "   Rank in Scandinavia  Rank in Forbes 2000 City Headquarters  \\\n",
       "0                    1                   41         Stavanger   \n",
       "1                    2                  135          Helsinki   \n",
       "2                    3                  152        Copenhagen   \n",
       "3                    4                  183        Gothenburg   \n",
       "4                    5                  239         Stockholm   \n",
       "\n",
       "  Country Headquarters  \n",
       "0               Norway  \n",
       "1              Finland  \n",
       "2              Denmark  \n",
       "3               Sweden  \n",
       "4               Sweden  "
      ]
     },
     "execution_count": 13,
     "metadata": {},
     "output_type": "execute_result"
    }
   ],
   "source": [
    "df_new.rename(columns={'City': 'City Headquarters', 'Country': 'Country Headquarters'}, inplace=True)\n",
    "df_new.head()"
   ]
  },
  {
   "cell_type": "code",
   "execution_count": 14,
   "id": "b5014a77",
   "metadata": {},
   "outputs": [
    {
     "name": "stdout",
     "output_type": "stream",
     "text": [
      "<class 'pandas.core.frame.DataFrame'>\n",
      "RangeIndex: 56 entries, 0 to 55\n",
      "Data columns (total 10 columns):\n",
      " #   Column                    Non-Null Count  Dtype  \n",
      "---  ------                    --------------  -----  \n",
      " 0   Company                   56 non-null     object \n",
      " 1   Industry                  56 non-null     object \n",
      " 2   Revenue (billion $)       56 non-null     float64\n",
      " 3   Profits (billion $)       56 non-null     float64\n",
      " 4   Assets (billion $)        56 non-null     float64\n",
      " 5   Market value (billion $)  56 non-null     float64\n",
      " 6   Rank in Scandinavia       56 non-null     int64  \n",
      " 7   Rank in Forbes 2000       56 non-null     int64  \n",
      " 8   City Headquarters         56 non-null     object \n",
      " 9   Country Headquarters      56 non-null     object \n",
      "dtypes: float64(4), int64(2), object(4)\n",
      "memory usage: 4.5+ KB\n"
     ]
    }
   ],
   "source": [
    "df_new.info()"
   ]
  },
  {
   "cell_type": "code",
   "execution_count": 24,
   "id": "376fd24e",
   "metadata": {},
   "outputs": [
    {
     "data": {
      "text/html": [
       "<div>\n",
       "<style scoped>\n",
       "    .dataframe tbody tr th:only-of-type {\n",
       "        vertical-align: middle;\n",
       "    }\n",
       "\n",
       "    .dataframe tbody tr th {\n",
       "        vertical-align: top;\n",
       "    }\n",
       "\n",
       "    .dataframe thead th {\n",
       "        text-align: right;\n",
       "    }\n",
       "</style>\n",
       "<table border=\"1\" class=\"dataframe\">\n",
       "  <thead>\n",
       "    <tr style=\"text-align: right;\">\n",
       "      <th></th>\n",
       "      <th>Company</th>\n",
       "      <th>Revenue (billion $)</th>\n",
       "    </tr>\n",
       "  </thead>\n",
       "  <tbody>\n",
       "    <tr>\n",
       "      <th>52</th>\n",
       "      <td>Sydbank</td>\n",
       "      <td>1.0</td>\n",
       "    </tr>\n",
       "    <tr>\n",
       "      <th>35</th>\n",
       "      <td>Kinnevik</td>\n",
       "      <td>1.3</td>\n",
       "    </tr>\n",
       "    <tr>\n",
       "      <th>46</th>\n",
       "      <td>Jyske Bank</td>\n",
       "      <td>1.6</td>\n",
       "    </tr>\n",
       "    <tr>\n",
       "      <th>47</th>\n",
       "      <td>Swedish Match</td>\n",
       "      <td>1.7</td>\n",
       "    </tr>\n",
       "    <tr>\n",
       "      <th>54</th>\n",
       "      <td>Coloplast</td>\n",
       "      <td>1.8</td>\n",
       "    </tr>\n",
       "  </tbody>\n",
       "</table>\n",
       "</div>"
      ],
      "text/plain": [
       "          Company  Revenue (billion $)\n",
       "52        Sydbank                  1.0\n",
       "35       Kinnevik                  1.3\n",
       "46     Jyske Bank                  1.6\n",
       "47  Swedish Match                  1.7\n",
       "54      Coloplast                  1.8"
      ]
     },
     "execution_count": 24,
     "metadata": {},
     "output_type": "execute_result"
    }
   ],
   "source": [
    "def filter_df_new(df, metric=\"Revenue (billion $)\"):\n",
    "    return df[[\"Company\", metric]].sort_values(by=metric, ascending=True)\n",
    "\n",
    "df_revenue = filter_df_new(df_new)\n",
    "df_revenue.head()"
   ]
  },
  {
   "cell_type": "code",
   "execution_count": 25,
   "id": "5506e2ff",
   "metadata": {},
   "outputs": [
    {
     "data": {
      "application/vnd.plotly.v1+json": {
       "config": {
        "plotlyServerURL": "https://plot.ly"
       },
       "data": [
        {
         "hovertemplate": "Revenue (billion $)=%{x}<br>Company=%{y}<extra></extra>",
         "legendgroup": "",
         "marker": {
          "color": "#636efa",
          "pattern": {
           "shape": ""
          }
         },
         "name": "",
         "orientation": "h",
         "showlegend": false,
         "textposition": "auto",
         "type": "bar",
         "x": {
          "bdata": "AAAAAAAA8D/NzMzMzMz0P5qZmZmZmfk/MzMzMzMz+z/NzMzMzMz8Pw==",
          "dtype": "f8"
         },
         "xaxis": "x",
         "y": [
          "Sydbank",
          "Kinnevik",
          "Jyske Bank",
          "Swedish Match",
          "Coloplast"
         ],
         "yaxis": "y"
        }
       ],
       "layout": {
        "barmode": "relative",
        "legend": {
         "tracegroupgap": 0
        },
        "margin": {
         "t": 60
        },
        "template": {
         "data": {
          "bar": [
           {
            "error_x": {
             "color": "#2a3f5f"
            },
            "error_y": {
             "color": "#2a3f5f"
            },
            "marker": {
             "line": {
              "color": "#E5ECF6",
              "width": 0.5
             },
             "pattern": {
              "fillmode": "overlay",
              "size": 10,
              "solidity": 0.2
             }
            },
            "type": "bar"
           }
          ],
          "barpolar": [
           {
            "marker": {
             "line": {
              "color": "#E5ECF6",
              "width": 0.5
             },
             "pattern": {
              "fillmode": "overlay",
              "size": 10,
              "solidity": 0.2
             }
            },
            "type": "barpolar"
           }
          ],
          "carpet": [
           {
            "aaxis": {
             "endlinecolor": "#2a3f5f",
             "gridcolor": "white",
             "linecolor": "white",
             "minorgridcolor": "white",
             "startlinecolor": "#2a3f5f"
            },
            "baxis": {
             "endlinecolor": "#2a3f5f",
             "gridcolor": "white",
             "linecolor": "white",
             "minorgridcolor": "white",
             "startlinecolor": "#2a3f5f"
            },
            "type": "carpet"
           }
          ],
          "choropleth": [
           {
            "colorbar": {
             "outlinewidth": 0,
             "ticks": ""
            },
            "type": "choropleth"
           }
          ],
          "contour": [
           {
            "colorbar": {
             "outlinewidth": 0,
             "ticks": ""
            },
            "colorscale": [
             [
              0,
              "#0d0887"
             ],
             [
              0.1111111111111111,
              "#46039f"
             ],
             [
              0.2222222222222222,
              "#7201a8"
             ],
             [
              0.3333333333333333,
              "#9c179e"
             ],
             [
              0.4444444444444444,
              "#bd3786"
             ],
             [
              0.5555555555555556,
              "#d8576b"
             ],
             [
              0.6666666666666666,
              "#ed7953"
             ],
             [
              0.7777777777777778,
              "#fb9f3a"
             ],
             [
              0.8888888888888888,
              "#fdca26"
             ],
             [
              1,
              "#f0f921"
             ]
            ],
            "type": "contour"
           }
          ],
          "contourcarpet": [
           {
            "colorbar": {
             "outlinewidth": 0,
             "ticks": ""
            },
            "type": "contourcarpet"
           }
          ],
          "heatmap": [
           {
            "colorbar": {
             "outlinewidth": 0,
             "ticks": ""
            },
            "colorscale": [
             [
              0,
              "#0d0887"
             ],
             [
              0.1111111111111111,
              "#46039f"
             ],
             [
              0.2222222222222222,
              "#7201a8"
             ],
             [
              0.3333333333333333,
              "#9c179e"
             ],
             [
              0.4444444444444444,
              "#bd3786"
             ],
             [
              0.5555555555555556,
              "#d8576b"
             ],
             [
              0.6666666666666666,
              "#ed7953"
             ],
             [
              0.7777777777777778,
              "#fb9f3a"
             ],
             [
              0.8888888888888888,
              "#fdca26"
             ],
             [
              1,
              "#f0f921"
             ]
            ],
            "type": "heatmap"
           }
          ],
          "histogram": [
           {
            "marker": {
             "pattern": {
              "fillmode": "overlay",
              "size": 10,
              "solidity": 0.2
             }
            },
            "type": "histogram"
           }
          ],
          "histogram2d": [
           {
            "colorbar": {
             "outlinewidth": 0,
             "ticks": ""
            },
            "colorscale": [
             [
              0,
              "#0d0887"
             ],
             [
              0.1111111111111111,
              "#46039f"
             ],
             [
              0.2222222222222222,
              "#7201a8"
             ],
             [
              0.3333333333333333,
              "#9c179e"
             ],
             [
              0.4444444444444444,
              "#bd3786"
             ],
             [
              0.5555555555555556,
              "#d8576b"
             ],
             [
              0.6666666666666666,
              "#ed7953"
             ],
             [
              0.7777777777777778,
              "#fb9f3a"
             ],
             [
              0.8888888888888888,
              "#fdca26"
             ],
             [
              1,
              "#f0f921"
             ]
            ],
            "type": "histogram2d"
           }
          ],
          "histogram2dcontour": [
           {
            "colorbar": {
             "outlinewidth": 0,
             "ticks": ""
            },
            "colorscale": [
             [
              0,
              "#0d0887"
             ],
             [
              0.1111111111111111,
              "#46039f"
             ],
             [
              0.2222222222222222,
              "#7201a8"
             ],
             [
              0.3333333333333333,
              "#9c179e"
             ],
             [
              0.4444444444444444,
              "#bd3786"
             ],
             [
              0.5555555555555556,
              "#d8576b"
             ],
             [
              0.6666666666666666,
              "#ed7953"
             ],
             [
              0.7777777777777778,
              "#fb9f3a"
             ],
             [
              0.8888888888888888,
              "#fdca26"
             ],
             [
              1,
              "#f0f921"
             ]
            ],
            "type": "histogram2dcontour"
           }
          ],
          "mesh3d": [
           {
            "colorbar": {
             "outlinewidth": 0,
             "ticks": ""
            },
            "type": "mesh3d"
           }
          ],
          "parcoords": [
           {
            "line": {
             "colorbar": {
              "outlinewidth": 0,
              "ticks": ""
             }
            },
            "type": "parcoords"
           }
          ],
          "pie": [
           {
            "automargin": true,
            "type": "pie"
           }
          ],
          "scatter": [
           {
            "fillpattern": {
             "fillmode": "overlay",
             "size": 10,
             "solidity": 0.2
            },
            "type": "scatter"
           }
          ],
          "scatter3d": [
           {
            "line": {
             "colorbar": {
              "outlinewidth": 0,
              "ticks": ""
             }
            },
            "marker": {
             "colorbar": {
              "outlinewidth": 0,
              "ticks": ""
             }
            },
            "type": "scatter3d"
           }
          ],
          "scattercarpet": [
           {
            "marker": {
             "colorbar": {
              "outlinewidth": 0,
              "ticks": ""
             }
            },
            "type": "scattercarpet"
           }
          ],
          "scattergeo": [
           {
            "marker": {
             "colorbar": {
              "outlinewidth": 0,
              "ticks": ""
             }
            },
            "type": "scattergeo"
           }
          ],
          "scattergl": [
           {
            "marker": {
             "colorbar": {
              "outlinewidth": 0,
              "ticks": ""
             }
            },
            "type": "scattergl"
           }
          ],
          "scattermap": [
           {
            "marker": {
             "colorbar": {
              "outlinewidth": 0,
              "ticks": ""
             }
            },
            "type": "scattermap"
           }
          ],
          "scattermapbox": [
           {
            "marker": {
             "colorbar": {
              "outlinewidth": 0,
              "ticks": ""
             }
            },
            "type": "scattermapbox"
           }
          ],
          "scatterpolar": [
           {
            "marker": {
             "colorbar": {
              "outlinewidth": 0,
              "ticks": ""
             }
            },
            "type": "scatterpolar"
           }
          ],
          "scatterpolargl": [
           {
            "marker": {
             "colorbar": {
              "outlinewidth": 0,
              "ticks": ""
             }
            },
            "type": "scatterpolargl"
           }
          ],
          "scatterternary": [
           {
            "marker": {
             "colorbar": {
              "outlinewidth": 0,
              "ticks": ""
             }
            },
            "type": "scatterternary"
           }
          ],
          "surface": [
           {
            "colorbar": {
             "outlinewidth": 0,
             "ticks": ""
            },
            "colorscale": [
             [
              0,
              "#0d0887"
             ],
             [
              0.1111111111111111,
              "#46039f"
             ],
             [
              0.2222222222222222,
              "#7201a8"
             ],
             [
              0.3333333333333333,
              "#9c179e"
             ],
             [
              0.4444444444444444,
              "#bd3786"
             ],
             [
              0.5555555555555556,
              "#d8576b"
             ],
             [
              0.6666666666666666,
              "#ed7953"
             ],
             [
              0.7777777777777778,
              "#fb9f3a"
             ],
             [
              0.8888888888888888,
              "#fdca26"
             ],
             [
              1,
              "#f0f921"
             ]
            ],
            "type": "surface"
           }
          ],
          "table": [
           {
            "cells": {
             "fill": {
              "color": "#EBF0F8"
             },
             "line": {
              "color": "white"
             }
            },
            "header": {
             "fill": {
              "color": "#C8D4E3"
             },
             "line": {
              "color": "white"
             }
            },
            "type": "table"
           }
          ]
         },
         "layout": {
          "annotationdefaults": {
           "arrowcolor": "#2a3f5f",
           "arrowhead": 0,
           "arrowwidth": 1
          },
          "autotypenumbers": "strict",
          "coloraxis": {
           "colorbar": {
            "outlinewidth": 0,
            "ticks": ""
           }
          },
          "colorscale": {
           "diverging": [
            [
             0,
             "#8e0152"
            ],
            [
             0.1,
             "#c51b7d"
            ],
            [
             0.2,
             "#de77ae"
            ],
            [
             0.3,
             "#f1b6da"
            ],
            [
             0.4,
             "#fde0ef"
            ],
            [
             0.5,
             "#f7f7f7"
            ],
            [
             0.6,
             "#e6f5d0"
            ],
            [
             0.7,
             "#b8e186"
            ],
            [
             0.8,
             "#7fbc41"
            ],
            [
             0.9,
             "#4d9221"
            ],
            [
             1,
             "#276419"
            ]
           ],
           "sequential": [
            [
             0,
             "#0d0887"
            ],
            [
             0.1111111111111111,
             "#46039f"
            ],
            [
             0.2222222222222222,
             "#7201a8"
            ],
            [
             0.3333333333333333,
             "#9c179e"
            ],
            [
             0.4444444444444444,
             "#bd3786"
            ],
            [
             0.5555555555555556,
             "#d8576b"
            ],
            [
             0.6666666666666666,
             "#ed7953"
            ],
            [
             0.7777777777777778,
             "#fb9f3a"
            ],
            [
             0.8888888888888888,
             "#fdca26"
            ],
            [
             1,
             "#f0f921"
            ]
           ],
           "sequentialminus": [
            [
             0,
             "#0d0887"
            ],
            [
             0.1111111111111111,
             "#46039f"
            ],
            [
             0.2222222222222222,
             "#7201a8"
            ],
            [
             0.3333333333333333,
             "#9c179e"
            ],
            [
             0.4444444444444444,
             "#bd3786"
            ],
            [
             0.5555555555555556,
             "#d8576b"
            ],
            [
             0.6666666666666666,
             "#ed7953"
            ],
            [
             0.7777777777777778,
             "#fb9f3a"
            ],
            [
             0.8888888888888888,
             "#fdca26"
            ],
            [
             1,
             "#f0f921"
            ]
           ]
          },
          "colorway": [
           "#636efa",
           "#EF553B",
           "#00cc96",
           "#ab63fa",
           "#FFA15A",
           "#19d3f3",
           "#FF6692",
           "#B6E880",
           "#FF97FF",
           "#FECB52"
          ],
          "font": {
           "color": "#2a3f5f"
          },
          "geo": {
           "bgcolor": "white",
           "lakecolor": "white",
           "landcolor": "#E5ECF6",
           "showlakes": true,
           "showland": true,
           "subunitcolor": "white"
          },
          "hoverlabel": {
           "align": "left"
          },
          "hovermode": "closest",
          "mapbox": {
           "style": "light"
          },
          "paper_bgcolor": "white",
          "plot_bgcolor": "#E5ECF6",
          "polar": {
           "angularaxis": {
            "gridcolor": "white",
            "linecolor": "white",
            "ticks": ""
           },
           "bgcolor": "#E5ECF6",
           "radialaxis": {
            "gridcolor": "white",
            "linecolor": "white",
            "ticks": ""
           }
          },
          "scene": {
           "xaxis": {
            "backgroundcolor": "#E5ECF6",
            "gridcolor": "white",
            "gridwidth": 2,
            "linecolor": "white",
            "showbackground": true,
            "ticks": "",
            "zerolinecolor": "white"
           },
           "yaxis": {
            "backgroundcolor": "#E5ECF6",
            "gridcolor": "white",
            "gridwidth": 2,
            "linecolor": "white",
            "showbackground": true,
            "ticks": "",
            "zerolinecolor": "white"
           },
           "zaxis": {
            "backgroundcolor": "#E5ECF6",
            "gridcolor": "white",
            "gridwidth": 2,
            "linecolor": "white",
            "showbackground": true,
            "ticks": "",
            "zerolinecolor": "white"
           }
          },
          "shapedefaults": {
           "line": {
            "color": "#2a3f5f"
           }
          },
          "ternary": {
           "aaxis": {
            "gridcolor": "white",
            "linecolor": "white",
            "ticks": ""
           },
           "baxis": {
            "gridcolor": "white",
            "linecolor": "white",
            "ticks": ""
           },
           "bgcolor": "#E5ECF6",
           "caxis": {
            "gridcolor": "white",
            "linecolor": "white",
            "ticks": ""
           }
          },
          "title": {
           "x": 0.05
          },
          "xaxis": {
           "automargin": true,
           "gridcolor": "white",
           "linecolor": "white",
           "ticks": "",
           "title": {
            "standoff": 15
           },
           "zerolinecolor": "white",
           "zerolinewidth": 2
          },
          "yaxis": {
           "automargin": true,
           "gridcolor": "white",
           "linecolor": "white",
           "ticks": "",
           "title": {
            "standoff": 15
           },
           "zerolinecolor": "white",
           "zerolinewidth": 2
          }
         }
        },
        "title": {
         "text": "Largest Nordic Companies by Revenue"
        },
        "xaxis": {
         "anchor": "y",
         "domain": [
          0,
          1
         ],
         "title": {
          "text": "Revenue (billion $)"
         }
        },
        "yaxis": {
         "anchor": "x",
         "domain": [
          0,
          1
         ],
         "title": {
          "text": "Company"
         }
        }
       }
      }
     },
     "metadata": {},
     "output_type": "display_data"
    }
   ],
   "source": [
    "import plotly.express as px\n",
    "\n",
    "fig = px.bar(\n",
    "        df_revenue.head(),\n",
    "        y=\"Company\",\n",
    "        x=\"Revenue (billion $)\",\n",
    "    )\n",
    "\n",
    "fig.update_layout(\n",
    "    title=\"Largest Nordic Companies by Revenue\",\n",
    ")\n",
    "fig.show()"
   ]
  },
  {
   "cell_type": "code",
   "execution_count": 31,
   "id": "66ae470a",
   "metadata": {},
   "outputs": [
    {
     "name": "stdout",
     "output_type": "stream",
     "text": [
      "<class 'pandas.core.frame.DataFrame'>\n",
      "RangeIndex: 31 entries, 0 to 30\n",
      "Data columns (total 2 columns):\n",
      " #   Column               Non-Null Count  Dtype  \n",
      "---  ------               --------------  -----  \n",
      " 0   Industry             31 non-null     object \n",
      " 1   Revenue (billion $)  31 non-null     float64\n",
      "dtypes: float64(1), object(1)\n",
      "memory usage: 628.0+ bytes\n"
     ]
    }
   ],
   "source": [
    "# GROUP BY inductry OR country \n",
    "\n",
    "\n",
    "def group_and_filter(df, grouping=\"Industry\" , metric=\"Revenue (billion $)\"):\n",
    "    df_temp =  df[[\"Company\",\"Industry\", metric]].sort_values(by=metric, ascending=True)\n",
    "    # group by industry\n",
    "    df_grouped = df_temp.groupby(\"Industry\")[metric].sum().reset_index()\n",
    "\n",
    "    return df_grouped\n",
    "\n",
    "df_grouped = group_and_filter(df_new)\n",
    "df_grouped.info()\n"
   ]
  },
  {
   "cell_type": "code",
   "execution_count": 30,
   "id": "82a4346c",
   "metadata": {},
   "outputs": [
    {
     "data": {
      "application/vnd.plotly.v1+json": {
       "config": {
        "plotlyServerURL": "https://plot.ly"
       },
       "data": [
        {
         "hovertemplate": "Revenue (billion $)=%{x}<br>Industry=%{y}<extra></extra>",
         "legendgroup": "",
         "marker": {
          "color": "#636efa",
          "pattern": {
           "shape": ""
          }
         },
         "name": "",
         "orientation": "h",
         "showlegend": false,
         "textposition": "auto",
         "type": "bar",
         "x": {
          "bdata": "mpmZmZmZSkAAAAAAAMBTQDMzMzMzMyZAZmZmZmbmQUAAAAAAAAAqQA==",
          "dtype": "f8"
         },
         "xaxis": "x",
         "y": [
          "Automotive",
          "Banking",
          "Brewery",
          "Capital goods",
          "Chemical industry"
         ],
         "yaxis": "y"
        }
       ],
       "layout": {
        "barmode": "relative",
        "legend": {
         "tracegroupgap": 0
        },
        "margin": {
         "t": 60
        },
        "template": {
         "data": {
          "bar": [
           {
            "error_x": {
             "color": "#2a3f5f"
            },
            "error_y": {
             "color": "#2a3f5f"
            },
            "marker": {
             "line": {
              "color": "#E5ECF6",
              "width": 0.5
             },
             "pattern": {
              "fillmode": "overlay",
              "size": 10,
              "solidity": 0.2
             }
            },
            "type": "bar"
           }
          ],
          "barpolar": [
           {
            "marker": {
             "line": {
              "color": "#E5ECF6",
              "width": 0.5
             },
             "pattern": {
              "fillmode": "overlay",
              "size": 10,
              "solidity": 0.2
             }
            },
            "type": "barpolar"
           }
          ],
          "carpet": [
           {
            "aaxis": {
             "endlinecolor": "#2a3f5f",
             "gridcolor": "white",
             "linecolor": "white",
             "minorgridcolor": "white",
             "startlinecolor": "#2a3f5f"
            },
            "baxis": {
             "endlinecolor": "#2a3f5f",
             "gridcolor": "white",
             "linecolor": "white",
             "minorgridcolor": "white",
             "startlinecolor": "#2a3f5f"
            },
            "type": "carpet"
           }
          ],
          "choropleth": [
           {
            "colorbar": {
             "outlinewidth": 0,
             "ticks": ""
            },
            "type": "choropleth"
           }
          ],
          "contour": [
           {
            "colorbar": {
             "outlinewidth": 0,
             "ticks": ""
            },
            "colorscale": [
             [
              0,
              "#0d0887"
             ],
             [
              0.1111111111111111,
              "#46039f"
             ],
             [
              0.2222222222222222,
              "#7201a8"
             ],
             [
              0.3333333333333333,
              "#9c179e"
             ],
             [
              0.4444444444444444,
              "#bd3786"
             ],
             [
              0.5555555555555556,
              "#d8576b"
             ],
             [
              0.6666666666666666,
              "#ed7953"
             ],
             [
              0.7777777777777778,
              "#fb9f3a"
             ],
             [
              0.8888888888888888,
              "#fdca26"
             ],
             [
              1,
              "#f0f921"
             ]
            ],
            "type": "contour"
           }
          ],
          "contourcarpet": [
           {
            "colorbar": {
             "outlinewidth": 0,
             "ticks": ""
            },
            "type": "contourcarpet"
           }
          ],
          "heatmap": [
           {
            "colorbar": {
             "outlinewidth": 0,
             "ticks": ""
            },
            "colorscale": [
             [
              0,
              "#0d0887"
             ],
             [
              0.1111111111111111,
              "#46039f"
             ],
             [
              0.2222222222222222,
              "#7201a8"
             ],
             [
              0.3333333333333333,
              "#9c179e"
             ],
             [
              0.4444444444444444,
              "#bd3786"
             ],
             [
              0.5555555555555556,
              "#d8576b"
             ],
             [
              0.6666666666666666,
              "#ed7953"
             ],
             [
              0.7777777777777778,
              "#fb9f3a"
             ],
             [
              0.8888888888888888,
              "#fdca26"
             ],
             [
              1,
              "#f0f921"
             ]
            ],
            "type": "heatmap"
           }
          ],
          "histogram": [
           {
            "marker": {
             "pattern": {
              "fillmode": "overlay",
              "size": 10,
              "solidity": 0.2
             }
            },
            "type": "histogram"
           }
          ],
          "histogram2d": [
           {
            "colorbar": {
             "outlinewidth": 0,
             "ticks": ""
            },
            "colorscale": [
             [
              0,
              "#0d0887"
             ],
             [
              0.1111111111111111,
              "#46039f"
             ],
             [
              0.2222222222222222,
              "#7201a8"
             ],
             [
              0.3333333333333333,
              "#9c179e"
             ],
             [
              0.4444444444444444,
              "#bd3786"
             ],
             [
              0.5555555555555556,
              "#d8576b"
             ],
             [
              0.6666666666666666,
              "#ed7953"
             ],
             [
              0.7777777777777778,
              "#fb9f3a"
             ],
             [
              0.8888888888888888,
              "#fdca26"
             ],
             [
              1,
              "#f0f921"
             ]
            ],
            "type": "histogram2d"
           }
          ],
          "histogram2dcontour": [
           {
            "colorbar": {
             "outlinewidth": 0,
             "ticks": ""
            },
            "colorscale": [
             [
              0,
              "#0d0887"
             ],
             [
              0.1111111111111111,
              "#46039f"
             ],
             [
              0.2222222222222222,
              "#7201a8"
             ],
             [
              0.3333333333333333,
              "#9c179e"
             ],
             [
              0.4444444444444444,
              "#bd3786"
             ],
             [
              0.5555555555555556,
              "#d8576b"
             ],
             [
              0.6666666666666666,
              "#ed7953"
             ],
             [
              0.7777777777777778,
              "#fb9f3a"
             ],
             [
              0.8888888888888888,
              "#fdca26"
             ],
             [
              1,
              "#f0f921"
             ]
            ],
            "type": "histogram2dcontour"
           }
          ],
          "mesh3d": [
           {
            "colorbar": {
             "outlinewidth": 0,
             "ticks": ""
            },
            "type": "mesh3d"
           }
          ],
          "parcoords": [
           {
            "line": {
             "colorbar": {
              "outlinewidth": 0,
              "ticks": ""
             }
            },
            "type": "parcoords"
           }
          ],
          "pie": [
           {
            "automargin": true,
            "type": "pie"
           }
          ],
          "scatter": [
           {
            "fillpattern": {
             "fillmode": "overlay",
             "size": 10,
             "solidity": 0.2
            },
            "type": "scatter"
           }
          ],
          "scatter3d": [
           {
            "line": {
             "colorbar": {
              "outlinewidth": 0,
              "ticks": ""
             }
            },
            "marker": {
             "colorbar": {
              "outlinewidth": 0,
              "ticks": ""
             }
            },
            "type": "scatter3d"
           }
          ],
          "scattercarpet": [
           {
            "marker": {
             "colorbar": {
              "outlinewidth": 0,
              "ticks": ""
             }
            },
            "type": "scattercarpet"
           }
          ],
          "scattergeo": [
           {
            "marker": {
             "colorbar": {
              "outlinewidth": 0,
              "ticks": ""
             }
            },
            "type": "scattergeo"
           }
          ],
          "scattergl": [
           {
            "marker": {
             "colorbar": {
              "outlinewidth": 0,
              "ticks": ""
             }
            },
            "type": "scattergl"
           }
          ],
          "scattermap": [
           {
            "marker": {
             "colorbar": {
              "outlinewidth": 0,
              "ticks": ""
             }
            },
            "type": "scattermap"
           }
          ],
          "scattermapbox": [
           {
            "marker": {
             "colorbar": {
              "outlinewidth": 0,
              "ticks": ""
             }
            },
            "type": "scattermapbox"
           }
          ],
          "scatterpolar": [
           {
            "marker": {
             "colorbar": {
              "outlinewidth": 0,
              "ticks": ""
             }
            },
            "type": "scatterpolar"
           }
          ],
          "scatterpolargl": [
           {
            "marker": {
             "colorbar": {
              "outlinewidth": 0,
              "ticks": ""
             }
            },
            "type": "scatterpolargl"
           }
          ],
          "scatterternary": [
           {
            "marker": {
             "colorbar": {
              "outlinewidth": 0,
              "ticks": ""
             }
            },
            "type": "scatterternary"
           }
          ],
          "surface": [
           {
            "colorbar": {
             "outlinewidth": 0,
             "ticks": ""
            },
            "colorscale": [
             [
              0,
              "#0d0887"
             ],
             [
              0.1111111111111111,
              "#46039f"
             ],
             [
              0.2222222222222222,
              "#7201a8"
             ],
             [
              0.3333333333333333,
              "#9c179e"
             ],
             [
              0.4444444444444444,
              "#bd3786"
             ],
             [
              0.5555555555555556,
              "#d8576b"
             ],
             [
              0.6666666666666666,
              "#ed7953"
             ],
             [
              0.7777777777777778,
              "#fb9f3a"
             ],
             [
              0.8888888888888888,
              "#fdca26"
             ],
             [
              1,
              "#f0f921"
             ]
            ],
            "type": "surface"
           }
          ],
          "table": [
           {
            "cells": {
             "fill": {
              "color": "#EBF0F8"
             },
             "line": {
              "color": "white"
             }
            },
            "header": {
             "fill": {
              "color": "#C8D4E3"
             },
             "line": {
              "color": "white"
             }
            },
            "type": "table"
           }
          ]
         },
         "layout": {
          "annotationdefaults": {
           "arrowcolor": "#2a3f5f",
           "arrowhead": 0,
           "arrowwidth": 1
          },
          "autotypenumbers": "strict",
          "coloraxis": {
           "colorbar": {
            "outlinewidth": 0,
            "ticks": ""
           }
          },
          "colorscale": {
           "diverging": [
            [
             0,
             "#8e0152"
            ],
            [
             0.1,
             "#c51b7d"
            ],
            [
             0.2,
             "#de77ae"
            ],
            [
             0.3,
             "#f1b6da"
            ],
            [
             0.4,
             "#fde0ef"
            ],
            [
             0.5,
             "#f7f7f7"
            ],
            [
             0.6,
             "#e6f5d0"
            ],
            [
             0.7,
             "#b8e186"
            ],
            [
             0.8,
             "#7fbc41"
            ],
            [
             0.9,
             "#4d9221"
            ],
            [
             1,
             "#276419"
            ]
           ],
           "sequential": [
            [
             0,
             "#0d0887"
            ],
            [
             0.1111111111111111,
             "#46039f"
            ],
            [
             0.2222222222222222,
             "#7201a8"
            ],
            [
             0.3333333333333333,
             "#9c179e"
            ],
            [
             0.4444444444444444,
             "#bd3786"
            ],
            [
             0.5555555555555556,
             "#d8576b"
            ],
            [
             0.6666666666666666,
             "#ed7953"
            ],
            [
             0.7777777777777778,
             "#fb9f3a"
            ],
            [
             0.8888888888888888,
             "#fdca26"
            ],
            [
             1,
             "#f0f921"
            ]
           ],
           "sequentialminus": [
            [
             0,
             "#0d0887"
            ],
            [
             0.1111111111111111,
             "#46039f"
            ],
            [
             0.2222222222222222,
             "#7201a8"
            ],
            [
             0.3333333333333333,
             "#9c179e"
            ],
            [
             0.4444444444444444,
             "#bd3786"
            ],
            [
             0.5555555555555556,
             "#d8576b"
            ],
            [
             0.6666666666666666,
             "#ed7953"
            ],
            [
             0.7777777777777778,
             "#fb9f3a"
            ],
            [
             0.8888888888888888,
             "#fdca26"
            ],
            [
             1,
             "#f0f921"
            ]
           ]
          },
          "colorway": [
           "#636efa",
           "#EF553B",
           "#00cc96",
           "#ab63fa",
           "#FFA15A",
           "#19d3f3",
           "#FF6692",
           "#B6E880",
           "#FF97FF",
           "#FECB52"
          ],
          "font": {
           "color": "#2a3f5f"
          },
          "geo": {
           "bgcolor": "white",
           "lakecolor": "white",
           "landcolor": "#E5ECF6",
           "showlakes": true,
           "showland": true,
           "subunitcolor": "white"
          },
          "hoverlabel": {
           "align": "left"
          },
          "hovermode": "closest",
          "mapbox": {
           "style": "light"
          },
          "paper_bgcolor": "white",
          "plot_bgcolor": "#E5ECF6",
          "polar": {
           "angularaxis": {
            "gridcolor": "white",
            "linecolor": "white",
            "ticks": ""
           },
           "bgcolor": "#E5ECF6",
           "radialaxis": {
            "gridcolor": "white",
            "linecolor": "white",
            "ticks": ""
           }
          },
          "scene": {
           "xaxis": {
            "backgroundcolor": "#E5ECF6",
            "gridcolor": "white",
            "gridwidth": 2,
            "linecolor": "white",
            "showbackground": true,
            "ticks": "",
            "zerolinecolor": "white"
           },
           "yaxis": {
            "backgroundcolor": "#E5ECF6",
            "gridcolor": "white",
            "gridwidth": 2,
            "linecolor": "white",
            "showbackground": true,
            "ticks": "",
            "zerolinecolor": "white"
           },
           "zaxis": {
            "backgroundcolor": "#E5ECF6",
            "gridcolor": "white",
            "gridwidth": 2,
            "linecolor": "white",
            "showbackground": true,
            "ticks": "",
            "zerolinecolor": "white"
           }
          },
          "shapedefaults": {
           "line": {
            "color": "#2a3f5f"
           }
          },
          "ternary": {
           "aaxis": {
            "gridcolor": "white",
            "linecolor": "white",
            "ticks": ""
           },
           "baxis": {
            "gridcolor": "white",
            "linecolor": "white",
            "ticks": ""
           },
           "bgcolor": "#E5ECF6",
           "caxis": {
            "gridcolor": "white",
            "linecolor": "white",
            "ticks": ""
           }
          },
          "title": {
           "x": 0.05
          },
          "xaxis": {
           "automargin": true,
           "gridcolor": "white",
           "linecolor": "white",
           "ticks": "",
           "title": {
            "standoff": 15
           },
           "zerolinecolor": "white",
           "zerolinewidth": 2
          },
          "yaxis": {
           "automargin": true,
           "gridcolor": "white",
           "linecolor": "white",
           "ticks": "",
           "title": {
            "standoff": 15
           },
           "zerolinecolor": "white",
           "zerolinewidth": 2
          }
         }
        },
        "title": {
         "text": "Largest Nordic Industries by Revenue"
        },
        "xaxis": {
         "anchor": "y",
         "domain": [
          0,
          1
         ],
         "title": {
          "text": "Revenue (billion $)"
         }
        },
        "yaxis": {
         "anchor": "x",
         "domain": [
          0,
          1
         ],
         "title": {
          "text": "Industry"
         }
        }
       }
      }
     },
     "metadata": {},
     "output_type": "display_data"
    }
   ],
   "source": [
    "fig = px.bar(\n",
    "        df_grouped.head(),\n",
    "        y=\"Industry\",\n",
    "        x=\"Revenue (billion $)\",\n",
    "    )\n",
    "\n",
    "fig.update_layout(\n",
    "    title=\"Largest Nordic Industries by Revenue\",\n",
    ")\n",
    "fig.show()"
   ]
  },
  {
   "cell_type": "code",
   "execution_count": null,
   "id": "14202963",
   "metadata": {},
   "outputs": [],
   "source": []
  }
 ],
 "metadata": {
  "kernelspec": {
   "display_name": ".venv",
   "language": "python",
   "name": "python3"
  },
  "language_info": {
   "codemirror_mode": {
    "name": "ipython",
    "version": 3
   },
   "file_extension": ".py",
   "mimetype": "text/x-python",
   "name": "python",
   "nbconvert_exporter": "python",
   "pygments_lexer": "ipython3",
   "version": "3.12.3"
  }
 },
 "nbformat": 4,
 "nbformat_minor": 5
}
