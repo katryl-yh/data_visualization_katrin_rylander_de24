{
 "cells": [
  {
   "cell_type": "markdown",
   "id": "81b7a83f",
   "metadata": {},
   "source": [
    "# Skapa en dashboard med datan\n",
    "\n",
    "Fritt hur dashboarden ska se ut, men gärna\n",
    ". dropdown för att filtrera data\n",
    "- sliders för att filtrera data\n",
    "- några KPIer\n",
    "- någon/några visualiseringar"
   ]
  },
  {
   "cell_type": "code",
   "execution_count": null,
   "id": "0c5fe322",
   "metadata": {
    "vscode": {
     "languageId": "plaintext"
    }
   },
   "outputs": [],
   "source": []
  }
 ],
 "metadata": {
  "language_info": {
   "name": "python"
  }
 },
 "nbformat": 4,
 "nbformat_minor": 5
}
