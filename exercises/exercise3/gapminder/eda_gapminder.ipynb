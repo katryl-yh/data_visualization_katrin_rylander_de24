{
 "cells": [
  {
   "cell_type": "markdown",
   "id": "41da09d9",
   "metadata": {},
   "source": [
    "# 2. Gapminder dashboard\n",
    "\n",
    "Use the gapminder dataset from plotly.express and create a dashboard. \n",
    "Do explorative data analysis, pick out graphs and metrics you are interested in displaying\n"
   ]
  },
  {
   "cell_type": "code",
   "execution_count": 22,
   "id": "7b54d26c",
   "metadata": {},
   "outputs": [
    {
     "data": {
      "text/html": [
       "<div>\n",
       "<style scoped>\n",
       "    .dataframe tbody tr th:only-of-type {\n",
       "        vertical-align: middle;\n",
       "    }\n",
       "\n",
       "    .dataframe tbody tr th {\n",
       "        vertical-align: top;\n",
       "    }\n",
       "\n",
       "    .dataframe thead th {\n",
       "        text-align: right;\n",
       "    }\n",
       "</style>\n",
       "<table border=\"1\" class=\"dataframe\">\n",
       "  <thead>\n",
       "    <tr style=\"text-align: right;\">\n",
       "      <th></th>\n",
       "      <th>country</th>\n",
       "      <th>continent</th>\n",
       "      <th>year</th>\n",
       "      <th>lifeExp</th>\n",
       "      <th>pop</th>\n",
       "      <th>gdpPercap</th>\n",
       "      <th>iso_alpha</th>\n",
       "      <th>iso_num</th>\n",
       "    </tr>\n",
       "  </thead>\n",
       "  <tbody>\n",
       "    <tr>\n",
       "      <th>0</th>\n",
       "      <td>Afghanistan</td>\n",
       "      <td>Asia</td>\n",
       "      <td>1952</td>\n",
       "      <td>28.801</td>\n",
       "      <td>8425333</td>\n",
       "      <td>779.445314</td>\n",
       "      <td>AFG</td>\n",
       "      <td>4</td>\n",
       "    </tr>\n",
       "    <tr>\n",
       "      <th>1</th>\n",
       "      <td>Afghanistan</td>\n",
       "      <td>Asia</td>\n",
       "      <td>1957</td>\n",
       "      <td>30.332</td>\n",
       "      <td>9240934</td>\n",
       "      <td>820.853030</td>\n",
       "      <td>AFG</td>\n",
       "      <td>4</td>\n",
       "    </tr>\n",
       "    <tr>\n",
       "      <th>2</th>\n",
       "      <td>Afghanistan</td>\n",
       "      <td>Asia</td>\n",
       "      <td>1962</td>\n",
       "      <td>31.997</td>\n",
       "      <td>10267083</td>\n",
       "      <td>853.100710</td>\n",
       "      <td>AFG</td>\n",
       "      <td>4</td>\n",
       "    </tr>\n",
       "    <tr>\n",
       "      <th>3</th>\n",
       "      <td>Afghanistan</td>\n",
       "      <td>Asia</td>\n",
       "      <td>1967</td>\n",
       "      <td>34.020</td>\n",
       "      <td>11537966</td>\n",
       "      <td>836.197138</td>\n",
       "      <td>AFG</td>\n",
       "      <td>4</td>\n",
       "    </tr>\n",
       "    <tr>\n",
       "      <th>4</th>\n",
       "      <td>Afghanistan</td>\n",
       "      <td>Asia</td>\n",
       "      <td>1972</td>\n",
       "      <td>36.088</td>\n",
       "      <td>13079460</td>\n",
       "      <td>739.981106</td>\n",
       "      <td>AFG</td>\n",
       "      <td>4</td>\n",
       "    </tr>\n",
       "  </tbody>\n",
       "</table>\n",
       "</div>"
      ],
      "text/plain": [
       "       country continent  year  lifeExp       pop   gdpPercap iso_alpha  \\\n",
       "0  Afghanistan      Asia  1952   28.801   8425333  779.445314       AFG   \n",
       "1  Afghanistan      Asia  1957   30.332   9240934  820.853030       AFG   \n",
       "2  Afghanistan      Asia  1962   31.997  10267083  853.100710       AFG   \n",
       "3  Afghanistan      Asia  1967   34.020  11537966  836.197138       AFG   \n",
       "4  Afghanistan      Asia  1972   36.088  13079460  739.981106       AFG   \n",
       "\n",
       "   iso_num  \n",
       "0        4  \n",
       "1        4  \n",
       "2        4  \n",
       "3        4  \n",
       "4        4  "
      ]
     },
     "execution_count": 22,
     "metadata": {},
     "output_type": "execute_result"
    }
   ],
   "source": [
    "import plotly.express as px\n",
    "\n",
    "gapminder = px.data.gapminder()\n",
    "gapminder.head()\n"
   ]
  },
  {
   "cell_type": "code",
   "execution_count": 23,
   "id": "bdde7c84",
   "metadata": {},
   "outputs": [
    {
     "name": "stdout",
     "output_type": "stream",
     "text": [
      "<class 'pandas.core.frame.DataFrame'>\n",
      "RangeIndex: 1704 entries, 0 to 1703\n",
      "Data columns (total 8 columns):\n",
      " #   Column     Non-Null Count  Dtype  \n",
      "---  ------     --------------  -----  \n",
      " 0   country    1704 non-null   object \n",
      " 1   continent  1704 non-null   object \n",
      " 2   year       1704 non-null   int64  \n",
      " 3   lifeExp    1704 non-null   float64\n",
      " 4   pop        1704 non-null   int64  \n",
      " 5   gdpPercap  1704 non-null   float64\n",
      " 6   iso_alpha  1704 non-null   object \n",
      " 7   iso_num    1704 non-null   int64  \n",
      "dtypes: float64(2), int64(3), object(3)\n",
      "memory usage: 106.6+ KB\n"
     ]
    }
   ],
   "source": [
    "gapminder.info()"
   ]
  },
  {
   "cell_type": "code",
   "execution_count": 24,
   "id": "dc9bbe81",
   "metadata": {},
   "outputs": [],
   "source": [
    "# Filter by year (for example, 1972)\n",
    "year_filter = 1972\n",
    "df_filtered = gapminder[gapminder['year'] == year_filter]"
   ]
  },
  {
   "cell_type": "code",
   "execution_count": null,
   "id": "d5691b19",
   "metadata": {},
   "outputs": [
    {
     "data": {
      "text/html": [
       "<div>\n",
       "<style scoped>\n",
       "    .dataframe tbody tr th:only-of-type {\n",
       "        vertical-align: middle;\n",
       "    }\n",
       "\n",
       "    .dataframe tbody tr th {\n",
       "        vertical-align: top;\n",
       "    }\n",
       "\n",
       "    .dataframe thead th {\n",
       "        text-align: right;\n",
       "    }\n",
       "</style>\n",
       "<table border=\"1\" class=\"dataframe\">\n",
       "  <thead>\n",
       "    <tr style=\"text-align: right;\">\n",
       "      <th></th>\n",
       "      <th>year</th>\n",
       "      <th>continent</th>\n",
       "      <th>pop</th>\n",
       "      <th>lifeExp</th>\n",
       "      <th>gdpPercap</th>\n",
       "    </tr>\n",
       "  </thead>\n",
       "  <tbody>\n",
       "    <tr>\n",
       "      <th>0</th>\n",
       "      <td>1952</td>\n",
       "      <td>Africa</td>\n",
       "      <td>237640501</td>\n",
       "      <td>39.135500</td>\n",
       "      <td>1252.572466</td>\n",
       "    </tr>\n",
       "    <tr>\n",
       "      <th>1</th>\n",
       "      <td>1952</td>\n",
       "      <td>Americas</td>\n",
       "      <td>345152446</td>\n",
       "      <td>53.279840</td>\n",
       "      <td>4079.062552</td>\n",
       "    </tr>\n",
       "    <tr>\n",
       "      <th>2</th>\n",
       "      <td>1952</td>\n",
       "      <td>Asia</td>\n",
       "      <td>1395357351</td>\n",
       "      <td>46.314394</td>\n",
       "      <td>5195.484004</td>\n",
       "    </tr>\n",
       "    <tr>\n",
       "      <th>3</th>\n",
       "      <td>1952</td>\n",
       "      <td>Europe</td>\n",
       "      <td>418120846</td>\n",
       "      <td>64.408500</td>\n",
       "      <td>5661.057435</td>\n",
       "    </tr>\n",
       "    <tr>\n",
       "      <th>4</th>\n",
       "      <td>1952</td>\n",
       "      <td>Oceania</td>\n",
       "      <td>10686006</td>\n",
       "      <td>69.255000</td>\n",
       "      <td>10298.085650</td>\n",
       "    </tr>\n",
       "  </tbody>\n",
       "</table>\n",
       "</div>"
      ],
      "text/plain": [
       "   year continent         pop    lifeExp     gdpPercap\n",
       "0  1952    Africa   237640501  39.135500   1252.572466\n",
       "1  1952  Americas   345152446  53.279840   4079.062552\n",
       "2  1952      Asia  1395357351  46.314394   5195.484004\n",
       "3  1952    Europe   418120846  64.408500   5661.057435\n",
       "4  1952   Oceania    10686006  69.255000  10298.085650"
      ]
     },
     "execution_count": 31,
     "metadata": {},
     "output_type": "execute_result"
    }
   ],
   "source": [
    "# group per continent and year\n",
    "df_continent = gapminder.groupby(['year', 'continent']).agg({\n",
    "    'pop': 'sum',\n",
    "    'lifeExp': 'mean',\n",
    "    'gdpPercap' : 'mean'\n",
    "}).reset_index()\n",
    "\n",
    "df_continent.head()"
   ]
  },
  {
   "cell_type": "code",
   "execution_count": null,
   "id": "84b75322",
   "metadata": {},
   "outputs": [
    {
     "data": {
      "application/vnd.plotly.v1+json": {
       "config": {
        "plotlyServerURL": "https://plot.ly"
       },
       "data": [
        {
         "hovertemplate": "continent=Africa<br>year=%{x}<br>GDP per capita=%{y}<extra></extra>",
         "legendgroup": "Africa",
         "line": {
          "color": "#636efa",
          "dash": "solid"
         },
         "marker": {
          "symbol": "circle"
         },
         "mode": "lines",
         "name": "Africa",
         "orientation": "v",
         "showlegend": true,
         "type": "scatter",
         "x": {
          "bdata": "oAelB6oHrwe0B7kHvgfDB8gHzQfSB9cH",
          "dtype": "i2"
         },
         "xaxis": "x",
         "y": {
          "bdata": "vO96NEqSk0Bl0U268aSVQGDhdbdQ+JhAFyQbRLoEoEB3A6Y5O0eiQCxrLoTgM6RAOr1rmC9jo0C3ugWGVtWhQKq9/+Oe06FAigRo5ISVokDvy4szxU6kQEFqkbEQIqhA",
          "dtype": "f8"
         },
         "yaxis": "y"
        },
        {
         "hovertemplate": "continent=Americas<br>year=%{x}<br>GDP per capita=%{y}<extra></extra>",
         "legendgroup": "Americas",
         "line": {
          "color": "#EF553B",
          "dash": "solid"
         },
         "marker": {
          "symbol": "circle"
         },
         "mode": "lines",
         "name": "Americas",
         "orientation": "v",
         "showlegend": true,
         "type": "scatter",
         "x": {
          "bdata": "oAelB6oHrwe0B7kHvgfDB8gHzQfSB9cH",
          "dtype": "i2"
         },
         "xaxis": "x",
         "y": {
          "bdata": "lorXBiDer0DzqxgyCwiyQKy+BLiKJbNAd9Ed5UAktkAf2SKKVVu5QIojB9MBuLxA3+3NsbxSvUBDRIN3ZnG+QJo9MzXvbL9A5ROqgqZcwUCk4XOr1iPCQHa/TAyEfcVA",
          "dtype": "f8"
         },
         "yaxis": "y"
        },
        {
         "hovertemplate": "continent=Asia<br>year=%{x}<br>GDP per capita=%{y}<extra></extra>",
         "legendgroup": "Asia",
         "line": {
          "color": "#00cc96",
          "dash": "solid"
         },
         "marker": {
          "symbol": "circle"
         },
         "mode": "lines",
         "name": "Asia",
         "orientation": "v",
         "showlegend": true,
         "type": "scatter",
         "x": {
          "bdata": "oAelB6oHrwe0B7kHvgfDB8gHzQfSB9cH",
          "dtype": "i2"
         },
         "xaxis": "x",
         "y": {
          "bdata": "VFCw53tLtECluvOhu5u2QKyzup9eYbZABXA2YixTt0Dl4q/8d/u/QPEynGNQb75APFGumSIKvUDxHWn8Obi9QOWhCVrY38BAj0QZ8Qs1w0DJdh2SC9/DQPQDe3CDXMhA",
          "dtype": "f8"
         },
         "yaxis": "y"
        },
        {
         "hovertemplate": "continent=Europe<br>year=%{x}<br>GDP per capita=%{y}<extra></extra>",
         "legendgroup": "Europe",
         "line": {
          "color": "#ab63fa",
          "dash": "solid"
         },
         "marker": {
          "symbol": "circle"
         },
         "mode": "lines",
         "name": "Europe",
         "orientation": "v",
         "showlegend": true,
         "type": "scatter",
         "x": {
          "bdata": "oAelB6oHrwe0B7kHvgfDB8gHzQfSB9cH",
          "dtype": "i2"
         },
         "xaxis": "x",
         "y": {
          "bdata": "218LtA4dtkCJrudHAzO7QN1U7k++VsBARKXacOnPw0C9HK2hyV/IQJqfdlP95ctALtkwwvKAzkAL9vHik8/QQBjVfVtkqdBA/pMJCTKh0kCBVwLg7jPVQJCFH9Oed9hA",
          "dtype": "f8"
         },
         "yaxis": "y"
        },
        {
         "hovertemplate": "continent=Oceania<br>year=%{x}<br>GDP per capita=%{y}<extra></extra>",
         "legendgroup": "Oceania",
         "line": {
          "color": "#FFA15A",
          "dash": "solid"
         },
         "marker": {
          "symbol": "circle"
         },
         "mode": "lines",
         "name": "Oceania",
         "orientation": "v",
         "showlegend": true,
         "type": "scatter",
         "x": {
          "bdata": "oAelB6oHrwe0B7kHvgfDB8gHzQfSB9cH",
          "dtype": "i2"
         },
         "xaxis": "x",
         "y": {
          "bdata": "dEaU9godxEBRMc7fQqfGQN7qOek5zMhAscQDyoJPzEBJERlWVQjQQF97Zkn94NBAWcAEbq0e0kCmP/uRAvjTQJijx++CZ9RAUDv8NQt210C/SGjLsU7aQOmVsgyMHN1A",
          "dtype": "f8"
         },
         "yaxis": "y"
        }
       ],
       "layout": {
        "hovermode": "x",
        "legend": {
         "title": {
          "text": "continent"
         },
         "tracegroupgap": 0
        },
        "paper_bgcolor": "white",
        "plot_bgcolor": "white",
        "template": {
         "data": {
          "bar": [
           {
            "error_x": {
             "color": "#2a3f5f"
            },
            "error_y": {
             "color": "#2a3f5f"
            },
            "marker": {
             "line": {
              "color": "#E5ECF6",
              "width": 0.5
             },
             "pattern": {
              "fillmode": "overlay",
              "size": 10,
              "solidity": 0.2
             }
            },
            "type": "bar"
           }
          ],
          "barpolar": [
           {
            "marker": {
             "line": {
              "color": "#E5ECF6",
              "width": 0.5
             },
             "pattern": {
              "fillmode": "overlay",
              "size": 10,
              "solidity": 0.2
             }
            },
            "type": "barpolar"
           }
          ],
          "carpet": [
           {
            "aaxis": {
             "endlinecolor": "#2a3f5f",
             "gridcolor": "white",
             "linecolor": "white",
             "minorgridcolor": "white",
             "startlinecolor": "#2a3f5f"
            },
            "baxis": {
             "endlinecolor": "#2a3f5f",
             "gridcolor": "white",
             "linecolor": "white",
             "minorgridcolor": "white",
             "startlinecolor": "#2a3f5f"
            },
            "type": "carpet"
           }
          ],
          "choropleth": [
           {
            "colorbar": {
             "outlinewidth": 0,
             "ticks": ""
            },
            "type": "choropleth"
           }
          ],
          "contour": [
           {
            "colorbar": {
             "outlinewidth": 0,
             "ticks": ""
            },
            "colorscale": [
             [
              0,
              "#0d0887"
             ],
             [
              0.1111111111111111,
              "#46039f"
             ],
             [
              0.2222222222222222,
              "#7201a8"
             ],
             [
              0.3333333333333333,
              "#9c179e"
             ],
             [
              0.4444444444444444,
              "#bd3786"
             ],
             [
              0.5555555555555556,
              "#d8576b"
             ],
             [
              0.6666666666666666,
              "#ed7953"
             ],
             [
              0.7777777777777778,
              "#fb9f3a"
             ],
             [
              0.8888888888888888,
              "#fdca26"
             ],
             [
              1,
              "#f0f921"
             ]
            ],
            "type": "contour"
           }
          ],
          "contourcarpet": [
           {
            "colorbar": {
             "outlinewidth": 0,
             "ticks": ""
            },
            "type": "contourcarpet"
           }
          ],
          "heatmap": [
           {
            "colorbar": {
             "outlinewidth": 0,
             "ticks": ""
            },
            "colorscale": [
             [
              0,
              "#0d0887"
             ],
             [
              0.1111111111111111,
              "#46039f"
             ],
             [
              0.2222222222222222,
              "#7201a8"
             ],
             [
              0.3333333333333333,
              "#9c179e"
             ],
             [
              0.4444444444444444,
              "#bd3786"
             ],
             [
              0.5555555555555556,
              "#d8576b"
             ],
             [
              0.6666666666666666,
              "#ed7953"
             ],
             [
              0.7777777777777778,
              "#fb9f3a"
             ],
             [
              0.8888888888888888,
              "#fdca26"
             ],
             [
              1,
              "#f0f921"
             ]
            ],
            "type": "heatmap"
           }
          ],
          "histogram": [
           {
            "marker": {
             "pattern": {
              "fillmode": "overlay",
              "size": 10,
              "solidity": 0.2
             }
            },
            "type": "histogram"
           }
          ],
          "histogram2d": [
           {
            "colorbar": {
             "outlinewidth": 0,
             "ticks": ""
            },
            "colorscale": [
             [
              0,
              "#0d0887"
             ],
             [
              0.1111111111111111,
              "#46039f"
             ],
             [
              0.2222222222222222,
              "#7201a8"
             ],
             [
              0.3333333333333333,
              "#9c179e"
             ],
             [
              0.4444444444444444,
              "#bd3786"
             ],
             [
              0.5555555555555556,
              "#d8576b"
             ],
             [
              0.6666666666666666,
              "#ed7953"
             ],
             [
              0.7777777777777778,
              "#fb9f3a"
             ],
             [
              0.8888888888888888,
              "#fdca26"
             ],
             [
              1,
              "#f0f921"
             ]
            ],
            "type": "histogram2d"
           }
          ],
          "histogram2dcontour": [
           {
            "colorbar": {
             "outlinewidth": 0,
             "ticks": ""
            },
            "colorscale": [
             [
              0,
              "#0d0887"
             ],
             [
              0.1111111111111111,
              "#46039f"
             ],
             [
              0.2222222222222222,
              "#7201a8"
             ],
             [
              0.3333333333333333,
              "#9c179e"
             ],
             [
              0.4444444444444444,
              "#bd3786"
             ],
             [
              0.5555555555555556,
              "#d8576b"
             ],
             [
              0.6666666666666666,
              "#ed7953"
             ],
             [
              0.7777777777777778,
              "#fb9f3a"
             ],
             [
              0.8888888888888888,
              "#fdca26"
             ],
             [
              1,
              "#f0f921"
             ]
            ],
            "type": "histogram2dcontour"
           }
          ],
          "mesh3d": [
           {
            "colorbar": {
             "outlinewidth": 0,
             "ticks": ""
            },
            "type": "mesh3d"
           }
          ],
          "parcoords": [
           {
            "line": {
             "colorbar": {
              "outlinewidth": 0,
              "ticks": ""
             }
            },
            "type": "parcoords"
           }
          ],
          "pie": [
           {
            "automargin": true,
            "type": "pie"
           }
          ],
          "scatter": [
           {
            "fillpattern": {
             "fillmode": "overlay",
             "size": 10,
             "solidity": 0.2
            },
            "type": "scatter"
           }
          ],
          "scatter3d": [
           {
            "line": {
             "colorbar": {
              "outlinewidth": 0,
              "ticks": ""
             }
            },
            "marker": {
             "colorbar": {
              "outlinewidth": 0,
              "ticks": ""
             }
            },
            "type": "scatter3d"
           }
          ],
          "scattercarpet": [
           {
            "marker": {
             "colorbar": {
              "outlinewidth": 0,
              "ticks": ""
             }
            },
            "type": "scattercarpet"
           }
          ],
          "scattergeo": [
           {
            "marker": {
             "colorbar": {
              "outlinewidth": 0,
              "ticks": ""
             }
            },
            "type": "scattergeo"
           }
          ],
          "scattergl": [
           {
            "marker": {
             "colorbar": {
              "outlinewidth": 0,
              "ticks": ""
             }
            },
            "type": "scattergl"
           }
          ],
          "scattermap": [
           {
            "marker": {
             "colorbar": {
              "outlinewidth": 0,
              "ticks": ""
             }
            },
            "type": "scattermap"
           }
          ],
          "scattermapbox": [
           {
            "marker": {
             "colorbar": {
              "outlinewidth": 0,
              "ticks": ""
             }
            },
            "type": "scattermapbox"
           }
          ],
          "scatterpolar": [
           {
            "marker": {
             "colorbar": {
              "outlinewidth": 0,
              "ticks": ""
             }
            },
            "type": "scatterpolar"
           }
          ],
          "scatterpolargl": [
           {
            "marker": {
             "colorbar": {
              "outlinewidth": 0,
              "ticks": ""
             }
            },
            "type": "scatterpolargl"
           }
          ],
          "scatterternary": [
           {
            "marker": {
             "colorbar": {
              "outlinewidth": 0,
              "ticks": ""
             }
            },
            "type": "scatterternary"
           }
          ],
          "surface": [
           {
            "colorbar": {
             "outlinewidth": 0,
             "ticks": ""
            },
            "colorscale": [
             [
              0,
              "#0d0887"
             ],
             [
              0.1111111111111111,
              "#46039f"
             ],
             [
              0.2222222222222222,
              "#7201a8"
             ],
             [
              0.3333333333333333,
              "#9c179e"
             ],
             [
              0.4444444444444444,
              "#bd3786"
             ],
             [
              0.5555555555555556,
              "#d8576b"
             ],
             [
              0.6666666666666666,
              "#ed7953"
             ],
             [
              0.7777777777777778,
              "#fb9f3a"
             ],
             [
              0.8888888888888888,
              "#fdca26"
             ],
             [
              1,
              "#f0f921"
             ]
            ],
            "type": "surface"
           }
          ],
          "table": [
           {
            "cells": {
             "fill": {
              "color": "#EBF0F8"
             },
             "line": {
              "color": "white"
             }
            },
            "header": {
             "fill": {
              "color": "#C8D4E3"
             },
             "line": {
              "color": "white"
             }
            },
            "type": "table"
           }
          ]
         },
         "layout": {
          "annotationdefaults": {
           "arrowcolor": "#2a3f5f",
           "arrowhead": 0,
           "arrowwidth": 1
          },
          "autotypenumbers": "strict",
          "coloraxis": {
           "colorbar": {
            "outlinewidth": 0,
            "ticks": ""
           }
          },
          "colorscale": {
           "diverging": [
            [
             0,
             "#8e0152"
            ],
            [
             0.1,
             "#c51b7d"
            ],
            [
             0.2,
             "#de77ae"
            ],
            [
             0.3,
             "#f1b6da"
            ],
            [
             0.4,
             "#fde0ef"
            ],
            [
             0.5,
             "#f7f7f7"
            ],
            [
             0.6,
             "#e6f5d0"
            ],
            [
             0.7,
             "#b8e186"
            ],
            [
             0.8,
             "#7fbc41"
            ],
            [
             0.9,
             "#4d9221"
            ],
            [
             1,
             "#276419"
            ]
           ],
           "sequential": [
            [
             0,
             "#0d0887"
            ],
            [
             0.1111111111111111,
             "#46039f"
            ],
            [
             0.2222222222222222,
             "#7201a8"
            ],
            [
             0.3333333333333333,
             "#9c179e"
            ],
            [
             0.4444444444444444,
             "#bd3786"
            ],
            [
             0.5555555555555556,
             "#d8576b"
            ],
            [
             0.6666666666666666,
             "#ed7953"
            ],
            [
             0.7777777777777778,
             "#fb9f3a"
            ],
            [
             0.8888888888888888,
             "#fdca26"
            ],
            [
             1,
             "#f0f921"
            ]
           ],
           "sequentialminus": [
            [
             0,
             "#0d0887"
            ],
            [
             0.1111111111111111,
             "#46039f"
            ],
            [
             0.2222222222222222,
             "#7201a8"
            ],
            [
             0.3333333333333333,
             "#9c179e"
            ],
            [
             0.4444444444444444,
             "#bd3786"
            ],
            [
             0.5555555555555556,
             "#d8576b"
            ],
            [
             0.6666666666666666,
             "#ed7953"
            ],
            [
             0.7777777777777778,
             "#fb9f3a"
            ],
            [
             0.8888888888888888,
             "#fdca26"
            ],
            [
             1,
             "#f0f921"
            ]
           ]
          },
          "colorway": [
           "#636efa",
           "#EF553B",
           "#00cc96",
           "#ab63fa",
           "#FFA15A",
           "#19d3f3",
           "#FF6692",
           "#B6E880",
           "#FF97FF",
           "#FECB52"
          ],
          "font": {
           "color": "#2a3f5f"
          },
          "geo": {
           "bgcolor": "white",
           "lakecolor": "white",
           "landcolor": "#E5ECF6",
           "showlakes": true,
           "showland": true,
           "subunitcolor": "white"
          },
          "hoverlabel": {
           "align": "left"
          },
          "hovermode": "closest",
          "mapbox": {
           "style": "light"
          },
          "paper_bgcolor": "white",
          "plot_bgcolor": "#E5ECF6",
          "polar": {
           "angularaxis": {
            "gridcolor": "white",
            "linecolor": "white",
            "ticks": ""
           },
           "bgcolor": "#E5ECF6",
           "radialaxis": {
            "gridcolor": "white",
            "linecolor": "white",
            "ticks": ""
           }
          },
          "scene": {
           "xaxis": {
            "backgroundcolor": "#E5ECF6",
            "gridcolor": "white",
            "gridwidth": 2,
            "linecolor": "white",
            "showbackground": true,
            "ticks": "",
            "zerolinecolor": "white"
           },
           "yaxis": {
            "backgroundcolor": "#E5ECF6",
            "gridcolor": "white",
            "gridwidth": 2,
            "linecolor": "white",
            "showbackground": true,
            "ticks": "",
            "zerolinecolor": "white"
           },
           "zaxis": {
            "backgroundcolor": "#E5ECF6",
            "gridcolor": "white",
            "gridwidth": 2,
            "linecolor": "white",
            "showbackground": true,
            "ticks": "",
            "zerolinecolor": "white"
           }
          },
          "shapedefaults": {
           "line": {
            "color": "#2a3f5f"
           }
          },
          "ternary": {
           "aaxis": {
            "gridcolor": "white",
            "linecolor": "white",
            "ticks": ""
           },
           "baxis": {
            "gridcolor": "white",
            "linecolor": "white",
            "ticks": ""
           },
           "bgcolor": "#E5ECF6",
           "caxis": {
            "gridcolor": "white",
            "linecolor": "white",
            "ticks": ""
           }
          },
          "title": {
           "x": 0.05
          },
          "xaxis": {
           "automargin": true,
           "gridcolor": "white",
           "linecolor": "white",
           "ticks": "",
           "title": {
            "standoff": 15
           },
           "zerolinecolor": "white",
           "zerolinewidth": 2
          },
          "yaxis": {
           "automargin": true,
           "gridcolor": "white",
           "linecolor": "white",
           "ticks": "",
           "title": {
            "standoff": 15
           },
           "zerolinecolor": "white",
           "zerolinewidth": 2
          }
         }
        },
        "title": {
         "text": "Continents GDP per capita 1952-2007"
        },
        "xaxis": {
         "anchor": "y",
         "domain": [
          0,
          1
         ],
         "showspikes": true,
         "spikemode": "across",
         "spikesnap": "cursor",
         "title": {
          "text": "year"
         }
        },
        "yaxis": {
         "anchor": "x",
         "domain": [
          0,
          1
         ],
         "title": {
          "text": "GDP per capita"
         }
        }
       }
      }
     },
     "metadata": {},
     "output_type": "display_data"
    }
   ],
   "source": [
    "fig = px.line(\n",
    "    df_continent,\n",
    "    x=\"year\",\n",
    "    y=\"gdpPercap\",\n",
    "    color=\"continent\",\n",
    "    title=\"Continents GDP per capita 1952-2007\",\n",
    "    labels={\"gdpPercap\": \"GDP per capita\"},\n",
    ")\n",
    "\n",
    "fig.update_layout(hovermode = \"x\")\n",
    "\n",
    "fig.update_xaxes(\n",
    "    showspikes=True, \n",
    "    spikemode=\"across\",\n",
    "    spikesnap = \"cursor\"\n",
    ")\n",
    "\n",
    "fig.update_layout(paper_bgcolor=\"white\", plot_bgcolor=\"white\")\n",
    "\n",
    "fig.show()"
   ]
  },
  {
   "cell_type": "code",
   "execution_count": null,
   "id": "e587505f",
   "metadata": {},
   "outputs": [
    {
     "data": {
      "application/vnd.plotly.v1+json": {
       "config": {
        "plotlyServerURL": "https://plot.ly"
       },
       "data": [
        {
         "hovertemplate": "continent=Africa<br>year=1952<br>gdpPercap=%{x}<br>lifeExp=%{y}<br>pop=%{marker.size}<extra></extra>",
         "legendgroup": "Africa",
         "marker": {
          "color": "#636efa",
          "size": {
           "bdata": "NRsqDg==",
           "dtype": "i4"
          },
          "sizemode": "area",
          "sizeref": 777949.760612245,
          "symbol": "circle"
         },
         "mode": "markers",
         "name": "Africa",
         "orientation": "v",
         "showlegend": true,
         "type": "scatter",
         "x": {
          "bdata": "vO96NEqSk0A=",
          "dtype": "f8"
         },
         "xaxis": "x",
         "y": {
          "bdata": "001iEFiRQ0A=",
          "dtype": "f8"
         },
         "yaxis": "y"
        },
        {
         "hovertemplate": "continent=Americas<br>year=1952<br>gdpPercap=%{x}<br>lifeExp=%{y}<br>pop=%{marker.size}<extra></extra>",
         "legendgroup": "Americas",
         "marker": {
          "color": "#EF553B",
          "size": {
           "bdata": "vpuSFA==",
           "dtype": "i4"
          },
          "sizemode": "area",
          "sizeref": 777949.760612245,
          "symbol": "circle"
         },
         "mode": "markers",
         "name": "Americas",
         "orientation": "v",
         "showlegend": true,
         "type": "scatter",
         "x": {
          "bdata": "lorXBiDer0A=",
          "dtype": "f8"
         },
         "xaxis": "x",
         "y": {
          "bdata": "bA4QzNGjSkA=",
          "dtype": "f8"
         },
         "yaxis": "y"
        },
        {
         "hovertemplate": "continent=Asia<br>year=1952<br>gdpPercap=%{x}<br>lifeExp=%{y}<br>pop=%{marker.size}<extra></extra>",
         "legendgroup": "Asia",
         "marker": {
          "color": "#00cc96",
          "size": {
           "bdata": "p3YrUw==",
           "dtype": "i4"
          },
          "sizemode": "area",
          "sizeref": 777949.760612245,
          "symbol": "circle"
         },
         "mode": "markers",
         "name": "Asia",
         "orientation": "v",
         "showlegend": true,
         "type": "scatter",
         "x": {
          "bdata": "VFCw53tLtEA=",
          "dtype": "f8"
         },
         "xaxis": "x",
         "y": {
          "bdata": "+OCDDz4oR0A=",
          "dtype": "f8"
         },
         "yaxis": "y"
        },
        {
         "hovertemplate": "continent=Europe<br>year=1952<br>gdpPercap=%{x}<br>lifeExp=%{y}<br>pop=%{marker.size}<extra></extra>",
         "legendgroup": "Europe",
         "marker": {
          "color": "#ab63fa",
          "size": {
           "bdata": "jgTsGA==",
           "dtype": "i4"
          },
          "sizemode": "area",
          "sizeref": 777949.760612245,
          "symbol": "circle"
         },
         "mode": "markers",
         "name": "Europe",
         "orientation": "v",
         "showlegend": true,
         "type": "scatter",
         "x": {
          "bdata": "218LtA4dtkA=",
          "dtype": "f8"
         },
         "xaxis": "x",
         "y": {
          "bdata": "oBov3SQaUEA=",
          "dtype": "f8"
         },
         "yaxis": "y"
        },
        {
         "hovertemplate": "continent=Oceania<br>year=1952<br>gdpPercap=%{x}<br>lifeExp=%{y}<br>pop=%{marker.size}<extra></extra>",
         "legendgroup": "Oceania",
         "marker": {
          "color": "#FFA15A",
          "size": {
           "bdata": "Ng6jAA==",
           "dtype": "i4"
          },
          "sizemode": "area",
          "sizeref": 777949.760612245,
          "symbol": "circle"
         },
         "mode": "markers",
         "name": "Oceania",
         "orientation": "v",
         "showlegend": true,
         "type": "scatter",
         "x": {
          "bdata": "dEaU9godxEA=",
          "dtype": "f8"
         },
         "xaxis": "x",
         "y": {
          "bdata": "uB6F61FQUUA=",
          "dtype": "f8"
         },
         "yaxis": "y"
        }
       ],
       "frames": [
        {
         "data": [
          {
           "hovertemplate": "continent=Africa<br>year=1952<br>gdpPercap=%{x}<br>lifeExp=%{y}<br>pop=%{marker.size}<extra></extra>",
           "legendgroup": "Africa",
           "marker": {
            "color": "#636efa",
            "size": {
             "bdata": "NRsqDg==",
             "dtype": "i4"
            },
            "sizemode": "area",
            "sizeref": 777949.760612245,
            "symbol": "circle"
           },
           "mode": "markers",
           "name": "Africa",
           "orientation": "v",
           "showlegend": true,
           "type": "scatter",
           "x": {
            "bdata": "vO96NEqSk0A=",
            "dtype": "f8"
           },
           "xaxis": "x",
           "y": {
            "bdata": "001iEFiRQ0A=",
            "dtype": "f8"
           },
           "yaxis": "y"
          },
          {
           "hovertemplate": "continent=Americas<br>year=1952<br>gdpPercap=%{x}<br>lifeExp=%{y}<br>pop=%{marker.size}<extra></extra>",
           "legendgroup": "Americas",
           "marker": {
            "color": "#EF553B",
            "size": {
             "bdata": "vpuSFA==",
             "dtype": "i4"
            },
            "sizemode": "area",
            "sizeref": 777949.760612245,
            "symbol": "circle"
           },
           "mode": "markers",
           "name": "Americas",
           "orientation": "v",
           "showlegend": true,
           "type": "scatter",
           "x": {
            "bdata": "lorXBiDer0A=",
            "dtype": "f8"
           },
           "xaxis": "x",
           "y": {
            "bdata": "bA4QzNGjSkA=",
            "dtype": "f8"
           },
           "yaxis": "y"
          },
          {
           "hovertemplate": "continent=Asia<br>year=1952<br>gdpPercap=%{x}<br>lifeExp=%{y}<br>pop=%{marker.size}<extra></extra>",
           "legendgroup": "Asia",
           "marker": {
            "color": "#00cc96",
            "size": {
             "bdata": "p3YrUw==",
             "dtype": "i4"
            },
            "sizemode": "area",
            "sizeref": 777949.760612245,
            "symbol": "circle"
           },
           "mode": "markers",
           "name": "Asia",
           "orientation": "v",
           "showlegend": true,
           "type": "scatter",
           "x": {
            "bdata": "VFCw53tLtEA=",
            "dtype": "f8"
           },
           "xaxis": "x",
           "y": {
            "bdata": "+OCDDz4oR0A=",
            "dtype": "f8"
           },
           "yaxis": "y"
          },
          {
           "hovertemplate": "continent=Europe<br>year=1952<br>gdpPercap=%{x}<br>lifeExp=%{y}<br>pop=%{marker.size}<extra></extra>",
           "legendgroup": "Europe",
           "marker": {
            "color": "#ab63fa",
            "size": {
             "bdata": "jgTsGA==",
             "dtype": "i4"
            },
            "sizemode": "area",
            "sizeref": 777949.760612245,
            "symbol": "circle"
           },
           "mode": "markers",
           "name": "Europe",
           "orientation": "v",
           "showlegend": true,
           "type": "scatter",
           "x": {
            "bdata": "218LtA4dtkA=",
            "dtype": "f8"
           },
           "xaxis": "x",
           "y": {
            "bdata": "oBov3SQaUEA=",
            "dtype": "f8"
           },
           "yaxis": "y"
          },
          {
           "hovertemplate": "continent=Oceania<br>year=1952<br>gdpPercap=%{x}<br>lifeExp=%{y}<br>pop=%{marker.size}<extra></extra>",
           "legendgroup": "Oceania",
           "marker": {
            "color": "#FFA15A",
            "size": {
             "bdata": "Ng6jAA==",
             "dtype": "i4"
            },
            "sizemode": "area",
            "sizeref": 777949.760612245,
            "symbol": "circle"
           },
           "mode": "markers",
           "name": "Oceania",
           "orientation": "v",
           "showlegend": true,
           "type": "scatter",
           "x": {
            "bdata": "dEaU9godxEA=",
            "dtype": "f8"
           },
           "xaxis": "x",
           "y": {
            "bdata": "uB6F61FQUUA=",
            "dtype": "f8"
           },
           "yaxis": "y"
          }
         ],
         "name": "1952"
        },
        {
         "data": [
          {
           "hovertemplate": "continent=Africa<br>year=1957<br>gdpPercap=%{x}<br>lifeExp=%{y}<br>pop=%{marker.size}<extra></extra>",
           "legendgroup": "Africa",
           "marker": {
            "color": "#636efa",
            "size": {
             "bdata": "ahrJDw==",
             "dtype": "i4"
            },
            "sizemode": "area",
            "sizeref": 777949.760612245,
            "symbol": "circle"
           },
           "mode": "markers",
           "name": "Africa",
           "orientation": "v",
           "showlegend": true,
           "type": "scatter",
           "x": {
            "bdata": "ZdFNuvGklUA=",
            "dtype": "f8"
           },
           "xaxis": "x",
           "y": {
            "bdata": "oRd6oReiREA=",
            "dtype": "f8"
           },
           "yaxis": "y"
          },
          {
           "hovertemplate": "continent=Americas<br>year=1957<br>gdpPercap=%{x}<br>lifeExp=%{y}<br>pop=%{marker.size}<extra></extra>",
           "legendgroup": "Americas",
           "marker": {
            "color": "#EF553B",
            "size": {
             "bdata": "vHIQFw==",
             "dtype": "i4"
            },
            "sizemode": "area",
            "sizeref": 777949.760612245,
            "symbol": "circle"
           },
           "mode": "markers",
           "name": "Americas",
           "orientation": "v",
           "showlegend": true,
           "type": "scatter",
           "x": {
            "bdata": "86sYMgsIskA=",
            "dtype": "f8"
           },
           "xaxis": "x",
           "y": {
            "bdata": "X4B9dOr6S0A=",
            "dtype": "f8"
           },
           "yaxis": "y"
          },
          {
           "hovertemplate": "continent=Asia<br>year=1957<br>gdpPercap=%{x}<br>lifeExp=%{y}<br>pop=%{marker.size}<extra></extra>",
           "legendgroup": "Asia",
           "marker": {
            "color": "#00cc96",
            "size": {
             "bdata": "tyMmXQ==",
             "dtype": "i4"
            },
            "sizemode": "area",
            "sizeref": 777949.760612245,
            "symbol": "circle"
           },
           "mode": "markers",
           "name": "Asia",
           "orientation": "v",
           "showlegend": true,
           "type": "scatter",
           "x": {
            "bdata": "pbrzobubtkA=",
            "dtype": "f8"
           },
           "xaxis": "x",
           "y": {
            "bdata": "R8XHDsaoSEA=",
            "dtype": "f8"
           },
           "yaxis": "y"
          },
          {
           "hovertemplate": "continent=Europe<br>year=1957<br>gdpPercap=%{x}<br>lifeExp=%{y}<br>pop=%{marker.size}<extra></extra>",
           "legendgroup": "Europe",
           "marker": {
            "color": "#ab63fa",
            "size": {
             "bdata": "L60ZGg==",
             "dtype": "i4"
            },
            "sizemode": "area",
            "sizeref": 777949.760612245,
            "symbol": "circle"
           },
           "mode": "markers",
           "name": "Europe",
           "orientation": "v",
           "showlegend": true,
           "type": "scatter",
           "x": {
            "bdata": "ia7nRwMzu0A=",
            "dtype": "f8"
           },
           "xaxis": "x",
           "y": {
            "bdata": "bg9VC/+sUEA=",
            "dtype": "f8"
           },
           "yaxis": "y"
          },
          {
           "hovertemplate": "continent=Oceania<br>year=1957<br>gdpPercap=%{x}<br>lifeExp=%{y}<br>pop=%{marker.size}<extra></extra>",
           "legendgroup": "Oceania",
           "marker": {
            "color": "#FFA15A",
            "size": {
             "bdata": "WDi2AA==",
             "dtype": "i4"
            },
            "sizemode": "area",
            "sizeref": 777949.760612245,
            "symbol": "circle"
           },
           "mode": "markers",
           "name": "Oceania",
           "orientation": "v",
           "showlegend": true,
           "type": "scatter",
           "x": {
            "bdata": "UTHO30KnxkA=",
            "dtype": "f8"
           },
           "xaxis": "x",
           "y": {
            "bdata": "exSuR+GSUUA=",
            "dtype": "f8"
           },
           "yaxis": "y"
          }
         ],
         "name": "1957"
        },
        {
         "data": [
          {
           "hovertemplate": "continent=Africa<br>year=1962<br>gdpPercap=%{x}<br>lifeExp=%{y}<br>pop=%{marker.size}<extra></extra>",
           "legendgroup": "Africa",
           "marker": {
            "color": "#636efa",
            "size": {
             "bdata": "AX2sEQ==",
             "dtype": "i4"
            },
            "sizemode": "area",
            "sizeref": 777949.760612245,
            "symbol": "circle"
           },
           "mode": "markers",
           "name": "Africa",
           "orientation": "v",
           "showlegend": true,
           "type": "scatter",
           "x": {
            "bdata": "YOF1t1D4mEA=",
            "dtype": "f8"
           },
           "xaxis": "x",
           "y": {
            "bdata": "pT9MfOOoRUA=",
            "dtype": "f8"
           },
           "yaxis": "y"
          },
          {
           "hovertemplate": "continent=Americas<br>year=1962<br>gdpPercap=%{x}<br>lifeExp=%{y}<br>pop=%{marker.size}<extra></extra>",
           "legendgroup": "Americas",
           "marker": {
            "color": "#EF553B",
            "size": {
             "bdata": "7i3TGQ==",
             "dtype": "i4"
            },
            "sizemode": "area",
            "sizeref": 777949.760612245,
            "symbol": "circle"
           },
           "mode": "markers",
           "name": "Americas",
           "orientation": "v",
           "showlegend": true,
           "type": "scatter",
           "x": {
            "bdata": "rL4EuIols0A=",
            "dtype": "f8"
           },
           "xaxis": "x",
           "y": {
            "bdata": "+3lTkQozTUA=",
            "dtype": "f8"
           },
           "yaxis": "y"
          },
          {
           "hovertemplate": "continent=Asia<br>year=1962<br>gdpPercap=%{x}<br>lifeExp=%{y}<br>pop=%{marker.size}<extra></extra>",
           "legendgroup": "Asia",
           "marker": {
            "color": "#00cc96",
            "size": {
             "bdata": "PlscZQ==",
             "dtype": "i4"
            },
            "sizemode": "area",
            "sizeref": 777949.760612245,
            "symbol": "circle"
           },
           "mode": "markers",
           "name": "Asia",
           "orientation": "v",
           "showlegend": true,
           "type": "scatter",
           "x": {
            "bdata": "rLO6n15htkA=",
            "dtype": "f8"
           },
           "xaxis": "x",
           "y": {
            "bdata": "tcA3sRfISUA=",
            "dtype": "f8"
           },
           "yaxis": "y"
          },
          {
           "hovertemplate": "continent=Europe<br>year=1962<br>gdpPercap=%{x}<br>lifeExp=%{y}<br>pop=%{marker.size}<extra></extra>",
           "legendgroup": "Europe",
           "marker": {
            "color": "#ab63fa",
            "size": {
             "bdata": "U3ZwGw==",
             "dtype": "i4"
            },
            "sizemode": "area",
            "sizeref": 777949.760612245,
            "symbol": "circle"
           },
           "mode": "markers",
           "name": "Europe",
           "orientation": "v",
           "showlegend": true,
           "type": "scatter",
           "x": {
            "bdata": "3VTuT75WwEA=",
            "dtype": "f8"
           },
           "xaxis": "x",
           "y": {
            "bdata": "G+WGzIIiUUA=",
            "dtype": "f8"
           },
           "yaxis": "y"
          },
          {
           "hovertemplate": "continent=Oceania<br>year=1962<br>gdpPercap=%{x}<br>lifeExp=%{y}<br>pop=%{marker.size}<extra></extra>",
           "legendgroup": "Oceania",
           "marker": {
            "color": "#FFA15A",
            "size": {
             "bdata": "vrDKAA==",
             "dtype": "i4"
            },
            "sizemode": "area",
            "sizeref": 777949.760612245,
            "symbol": "circle"
           },
           "mode": "markers",
           "name": "Oceania",
           "orientation": "v",
           "showlegend": true,
           "type": "scatter",
           "x": {
            "bdata": "3uo56TnMyEA=",
            "dtype": "f8"
           },
           "xaxis": "x",
           "y": {
            "bdata": "PgrXo3DFUUA=",
            "dtype": "f8"
           },
           "yaxis": "y"
          }
         ],
         "name": "1962"
        },
        {
         "data": [
          {
           "hovertemplate": "continent=Africa<br>year=1967<br>gdpPercap=%{x}<br>lifeExp=%{y}<br>pop=%{marker.size}<extra></extra>",
           "legendgroup": "Africa",
           "marker": {
            "color": "#636efa",
            "size": {
             "bdata": "kRz8Ew==",
             "dtype": "i4"
            },
            "sizemode": "area",
            "sizeref": 777949.760612245,
            "symbol": "circle"
           },
           "mode": "markers",
           "name": "Africa",
           "orientation": "v",
           "showlegend": true,
           "type": "scatter",
           "x": {
            "bdata": "FyQbRLoEoEA=",
            "dtype": "f8"
           },
           "xaxis": "x",
           "y": {
            "bdata": "68cDKNKqRkA=",
            "dtype": "f8"
           },
           "yaxis": "y"
          },
          {
           "hovertemplate": "continent=Americas<br>year=1967<br>gdpPercap=%{x}<br>lifeExp=%{y}<br>pop=%{marker.size}<extra></extra>",
           "legendgroup": "Americas",
           "marker": {
            "color": "#EF553B",
            "size": {
             "bdata": "f5ynHA==",
             "dtype": "i4"
            },
            "sizemode": "area",
            "sizeref": 777949.760612245,
            "symbol": "circle"
           },
           "mode": "markers",
           "name": "Americas",
           "orientation": "v",
           "showlegend": true,
           "type": "scatter",
           "x": {
            "bdata": "d9Ed5UAktkA=",
            "dtype": "f8"
           },
           "xaxis": "x",
           "y": {
            "bdata": "3KLMBpk0TkA=",
            "dtype": "f8"
           },
           "yaxis": "y"
          },
          {
           "hovertemplate": "continent=Asia<br>year=1967<br>gdpPercap=%{x}<br>lifeExp=%{y}<br>pop=%{marker.size}<extra></extra>",
           "legendgroup": "Asia",
           "marker": {
            "color": "#00cc96",
            "size": {
             "bdata": "tBuWcQ==",
             "dtype": "i4"
            },
            "sizemode": "area",
            "sizeref": 777949.760612245,
            "symbol": "circle"
           },
           "mode": "markers",
           "name": "Asia",
           "orientation": "v",
           "showlegend": true,
           "type": "scatter",
           "x": {
            "bdata": "BXA2YixTt0A=",
            "dtype": "f8"
           },
           "xaxis": "x",
           "y": {
            "bdata": "oijQJ/JUS0A=",
            "dtype": "f8"
           },
           "yaxis": "y"
          },
          {
           "hovertemplate": "continent=Europe<br>year=1967<br>gdpPercap=%{x}<br>lifeExp=%{y}<br>pop=%{marker.size}<extra></extra>",
           "legendgroup": "Europe",
           "marker": {
            "color": "#ab63fa",
            "size": {
             "bdata": "TjWuHA==",
             "dtype": "i4"
            },
            "sizemode": "area",
            "sizeref": 777949.760612245,
            "symbol": "circle"
           },
           "mode": "markers",
           "name": "Europe",
           "orientation": "v",
           "showlegend": true,
           "type": "scatter",
           "x": {
            "bdata": "RKXacOnPw0A=",
            "dtype": "f8"
           },
           "xaxis": "x",
           "y": {
            "bdata": "5WGh1jRvUUA=",
            "dtype": "f8"
           },
           "yaxis": "y"
          },
          {
           "hovertemplate": "continent=Oceania<br>year=1967<br>gdpPercap=%{x}<br>lifeExp=%{y}<br>pop=%{marker.size}<extra></extra>",
           "legendgroup": "Oceania",
           "marker": {
            "color": "#FFA15A",
            "size": {
             "bdata": "3sjeAA==",
             "dtype": "i4"
            },
            "sizemode": "area",
            "sizeref": 777949.760612245,
            "symbol": "circle"
           },
           "mode": "markers",
           "name": "Oceania",
           "orientation": "v",
           "showlegend": true,
           "type": "scatter",
           "x": {
            "bdata": "scQDyoJPzEA=",
            "dtype": "f8"
           },
           "xaxis": "x",
           "y": {
            "bdata": "pHA9CtfTUUA=",
            "dtype": "f8"
           },
           "yaxis": "y"
          }
         ],
         "name": "1967"
        },
        {
         "data": [
          {
           "hovertemplate": "continent=Africa<br>year=1972<br>gdpPercap=%{x}<br>lifeExp=%{y}<br>pop=%{marker.size}<extra></extra>",
           "legendgroup": "Africa",
           "marker": {
            "color": "#636efa",
            "size": {
             "bdata": "dYCkFg==",
             "dtype": "i4"
            },
            "sizemode": "area",
            "sizeref": 777949.760612245,
            "symbol": "circle"
           },
           "mode": "markers",
           "name": "Africa",
           "orientation": "v",
           "showlegend": true,
           "type": "scatter",
           "x": {
            "bdata": "dwOmOTtHokA=",
            "dtype": "f8"
           },
           "xaxis": "x",
           "y": {
            "bdata": "6/U/eri5R0A=",
            "dtype": "f8"
           },
           "yaxis": "y"
          },
          {
           "hovertemplate": "continent=Americas<br>year=1972<br>gdpPercap=%{x}<br>lifeExp=%{y}<br>pop=%{marker.size}<extra></extra>",
           "legendgroup": "Americas",
           "marker": {
            "color": "#EF553B",
            "size": {
             "bdata": "EsONHw==",
             "dtype": "i4"
            },
            "sizemode": "area",
            "sizeref": 777949.760612245,
            "symbol": "circle"
           },
           "mode": "markers",
           "name": "Americas",
           "orientation": "v",
           "showlegend": true,
           "type": "scatter",
           "x": {
            "bdata": "H9kiilVbuUA=",
            "dtype": "f8"
           },
           "xaxis": "x",
           "y": {
            "bdata": "pkQSvYwyT0A=",
            "dtype": "f8"
           },
           "yaxis": "y"
          },
          {
           "hovertemplate": "continent=Asia<br>year=1972<br>gdpPercap=%{x}<br>lifeExp=%{y}<br>pop=%{marker.size}<extra></extra>",
           "legendgroup": "Asia",
           "marker": {
            "color": "#00cc96",
            "size": [
             2150972248
            ],
            "sizemode": "area",
            "sizeref": 777949.760612245,
            "symbol": "circle"
           },
           "mode": "markers",
           "name": "Asia",
           "orientation": "v",
           "showlegend": true,
           "type": "scatter",
           "x": {
            "bdata": "5eKv/Hf7v0A=",
            "dtype": "f8"
           },
           "xaxis": "x",
           "y": {
            "bdata": "AwpAz92oTEA=",
            "dtype": "f8"
           },
           "yaxis": "y"
          },
          {
           "hovertemplate": "continent=Europe<br>year=1972<br>gdpPercap=%{x}<br>lifeExp=%{y}<br>pop=%{marker.size}<extra></extra>",
           "legendgroup": "Europe",
           "marker": {
            "color": "#ab63fa",
            "size": {
             "bdata": "sxXXHQ==",
             "dtype": "i4"
            },
            "sizemode": "area",
            "sizeref": 777949.760612245,
            "symbol": "circle"
           },
           "mode": "markers",
           "name": "Europe",
           "orientation": "v",
           "showlegend": true,
           "type": "scatter",
           "x": {
            "bdata": "vRytoclfyEA=",
            "dtype": "f8"
           },
           "xaxis": "x",
           "y": {
            "bdata": "gP5oJZqxUUA=",
            "dtype": "f8"
           },
           "yaxis": "y"
          },
          {
           "hovertemplate": "continent=Oceania<br>year=1972<br>gdpPercap=%{x}<br>lifeExp=%{y}<br>pop=%{marker.size}<extra></extra>",
           "legendgroup": "Oceania",
           "marker": {
            "color": "#FFA15A",
            "size": {
             "bdata": "dML1AA==",
             "dtype": "i4"
            },
            "sizemode": "area",
            "sizeref": 777949.760612245,
            "symbol": "circle"
           },
           "mode": "markers",
           "name": "Oceania",
           "orientation": "v",
           "showlegend": true,
           "type": "scatter",
           "x": {
            "bdata": "SREZVlUI0EA=",
            "dtype": "f8"
           },
           "xaxis": "x",
           "y": {
            "bdata": "CtejcD36UUA=",
            "dtype": "f8"
           },
           "yaxis": "y"
          }
         ],
         "name": "1972"
        },
        {
         "data": [
          {
           "hovertemplate": "continent=Africa<br>year=1977<br>gdpPercap=%{x}<br>lifeExp=%{y}<br>pop=%{marker.size}<extra></extra>",
           "legendgroup": "Africa",
           "marker": {
            "color": "#636efa",
            "size": {
             "bdata": "nfzPGQ==",
             "dtype": "i4"
            },
            "sizemode": "area",
            "sizeref": 777949.760612245,
            "symbol": "circle"
           },
           "mode": "markers",
           "name": "Africa",
           "orientation": "v",
           "showlegend": true,
           "type": "scatter",
           "x": {
            "bdata": "LGsuhOAzpEA=",
            "dtype": "f8"
           },
           "xaxis": "x",
           "y": {
            "bdata": "OZ2qTUvKSEA=",
            "dtype": "f8"
           },
           "yaxis": "y"
          },
          {
           "hovertemplate": "continent=Americas<br>year=1977<br>gdpPercap=%{x}<br>lifeExp=%{y}<br>pop=%{marker.size}<extra></extra>",
           "legendgroup": "Americas",
           "marker": {
            "color": "#EF553B",
            "size": {
             "bdata": "85x0Ig==",
             "dtype": "i4"
            },
            "sizemode": "area",
            "sizeref": 777949.760612245,
            "symbol": "circle"
           },
           "mode": "markers",
           "name": "Americas",
           "orientation": "v",
           "showlegend": true,
           "type": "scatter",
           "x": {
            "bdata": "iiMH0wG4vEA=",
            "dtype": "f8"
           },
           "xaxis": "x",
           "y": {
            "bdata": "/pqsUQ8ZUEA=",
            "dtype": "f8"
           },
           "yaxis": "y"
          },
          {
           "hovertemplate": "continent=Asia<br>year=1977<br>gdpPercap=%{x}<br>lifeExp=%{y}<br>pop=%{marker.size}<extra></extra>",
           "legendgroup": "Asia",
           "marker": {
            "color": "#00cc96",
            "size": [
             2384513556
            ],
            "sizemode": "area",
            "sizeref": 777949.760612245,
            "symbol": "circle"
           },
           "mode": "markers",
           "name": "Asia",
           "orientation": "v",
           "showlegend": true,
           "type": "scatter",
           "x": {
            "bdata": "8TKcY1BvvkA=",
            "dtype": "f8"
           },
           "xaxis": "x",
           "y": {
            "bdata": "aBf/tSbOTUA=",
            "dtype": "f8"
           },
           "yaxis": "y"
          },
          {
           "hovertemplate": "continent=Europe<br>year=1977<br>gdpPercap=%{x}<br>lifeExp=%{y}<br>pop=%{marker.size}<extra></extra>",
           "legendgroup": "Europe",
           "marker": {
            "color": "#ab63fa",
            "size": {
             "bdata": "803THg==",
             "dtype": "i4"
            },
            "sizemode": "area",
            "sizeref": 777949.760612245,
            "symbol": "circle"
           },
           "mode": "markers",
           "name": "Europe",
           "orientation": "v",
           "showlegend": true,
           "type": "scatter",
           "x": {
            "bdata": "mp92U/3ly0A=",
            "dtype": "f8"
           },
           "xaxis": "x",
           "y": {
            "bdata": "Lyd7XgT8UUA=",
            "dtype": "f8"
           },
           "yaxis": "y"
          },
          {
           "hovertemplate": "continent=Oceania<br>year=1977<br>gdpPercap=%{x}<br>lifeExp=%{y}<br>pop=%{marker.size}<extra></extra>",
           "legendgroup": "Oceania",
           "marker": {
            "color": "#FFA15A",
            "size": {
             "bdata": "2AsHAQ==",
             "dtype": "i4"
            },
            "sizemode": "area",
            "sizeref": 777949.760612245,
            "symbol": "circle"
           },
           "mode": "markers",
           "name": "Oceania",
           "orientation": "v",
           "showlegend": true,
           "type": "scatter",
           "x": {
            "bdata": "X3tmSf3g0EA=",
            "dtype": "f8"
           },
           "xaxis": "x",
           "y": {
            "bdata": "HoXrUbg2UkA=",
            "dtype": "f8"
           },
           "yaxis": "y"
          }
         ],
         "name": "1977"
        },
        {
         "data": [
          {
           "hovertemplate": "continent=Africa<br>year=1982<br>gdpPercap=%{x}<br>lifeExp=%{y}<br>pop=%{marker.size}<extra></extra>",
           "legendgroup": "Africa",
           "marker": {
            "color": "#636efa",
            "size": {
             "bdata": "a3TDHQ==",
             "dtype": "i4"
            },
            "sizemode": "area",
            "sizeref": 777949.760612245,
            "symbol": "circle"
           },
           "mode": "markers",
           "name": "Africa",
           "orientation": "v",
           "showlegend": true,
           "type": "scatter",
           "x": {
            "bdata": "Or1rmC9jo0A=",
            "dtype": "f8"
           },
           "xaxis": "x",
           "y": {
            "bdata": "Qe1OA+PLSUA=",
            "dtype": "f8"
           },
           "yaxis": "y"
          },
          {
           "hovertemplate": "continent=Americas<br>year=1982<br>gdpPercap=%{x}<br>lifeExp=%{y}<br>pop=%{marker.size}<extra></extra>",
           "legendgroup": "Americas",
           "marker": {
            "color": "#EF553B",
            "size": {
             "bdata": "6HmRJQ==",
             "dtype": "i4"
            },
            "sizemode": "area",
            "sizeref": 777949.760612245,
            "symbol": "circle"
           },
           "mode": "markers",
           "name": "Americas",
           "orientation": "v",
           "showlegend": true,
           "type": "scatter",
           "x": {
            "bdata": "3+3NsbxSvUA=",
            "dtype": "f8"
           },
           "xaxis": "x",
           "y": {
            "bdata": "EQGHUKWOUEA=",
            "dtype": "f8"
           },
           "yaxis": "y"
          },
          {
           "hovertemplate": "continent=Asia<br>year=1982<br>gdpPercap=%{x}<br>lifeExp=%{y}<br>pop=%{marker.size}<extra></extra>",
           "legendgroup": "Asia",
           "marker": {
            "color": "#00cc96",
            "size": [
             2610135582
            ],
            "sizemode": "area",
            "sizeref": 777949.760612245,
            "symbol": "circle"
           },
           "mode": "markers",
           "name": "Asia",
           "orientation": "v",
           "showlegend": true,
           "type": "scatter",
           "x": {
            "bdata": "PFGumSIKvUA=",
            "dtype": "f8"
           },
           "xaxis": "x",
           "y": {
            "bdata": "m/BXoxhPT0A=",
            "dtype": "f8"
           },
           "yaxis": "y"
          },
          {
           "hovertemplate": "continent=Europe<br>year=1982<br>gdpPercap=%{x}<br>lifeExp=%{y}<br>pop=%{marker.size}<extra></extra>",
           "legendgroup": "Europe",
           "marker": {
            "color": "#ab63fa",
            "size": {
             "bdata": "VX2qHw==",
             "dtype": "i4"
            },
            "sizemode": "area",
            "sizeref": 777949.760612245,
            "symbol": "circle"
           },
           "mode": "markers",
           "name": "Europe",
           "orientation": "v",
           "showlegend": true,
           "type": "scatter",
           "x": {
            "bdata": "LtkwwvKAzkA=",
            "dtype": "f8"
           },
           "xaxis": "x",
           "y": {
            "bdata": "pN++DpwzUkA=",
            "dtype": "f8"
           },
           "yaxis": "y"
          },
          {
           "hovertemplate": "continent=Oceania<br>year=1982<br>gdpPercap=%{x}<br>lifeExp=%{y}<br>pop=%{marker.size}<extra></extra>",
           "legendgroup": "Oceania",
           "marker": {
            "color": "#FFA15A",
            "size": {
             "bdata": "4q4YAQ==",
             "dtype": "i4"
            },
            "sizemode": "area",
            "sizeref": 777949.760612245,
            "symbol": "circle"
           },
           "mode": "markers",
           "name": "Oceania",
           "orientation": "v",
           "showlegend": true,
           "type": "scatter",
           "x": {
            "bdata": "WcAEbq0e0kA=",
            "dtype": "f8"
           },
           "xaxis": "x",
           "y": {
            "bdata": "wvUoXI+SUkA=",
            "dtype": "f8"
           },
           "yaxis": "y"
          }
         ],
         "name": "1982"
        },
        {
         "data": [
          {
           "hovertemplate": "continent=Africa<br>year=1987<br>gdpPercap=%{x}<br>lifeExp=%{y}<br>pop=%{marker.size}<extra></extra>",
           "legendgroup": "Africa",
           "marker": {
            "color": "#636efa",
            "size": {
             "bdata": "vkVDIg==",
             "dtype": "i4"
            },
            "sizemode": "area",
            "sizeref": 777949.760612245,
            "symbol": "circle"
           },
           "mode": "markers",
           "name": "Africa",
           "orientation": "v",
           "showlegend": true,
           "type": "scatter",
           "x": {
            "bdata": "t7oFhlbVoUA=",
            "dtype": "f8"
           },
           "xaxis": "x",
           "y": {
            "bdata": "RSw/ByKsSkA=",
            "dtype": "f8"
           },
           "yaxis": "y"
          },
          {
           "hovertemplate": "continent=Americas<br>year=1987<br>gdpPercap=%{x}<br>lifeExp=%{y}<br>pop=%{marker.size}<extra></extra>",
           "legendgroup": "Americas",
           "marker": {
            "color": "#EF553B",
            "size": {
             "bdata": "s/+xKA==",
             "dtype": "i4"
            },
            "sizemode": "area",
            "sizeref": 777949.760612245,
            "symbol": "circle"
           },
           "mode": "markers",
           "name": "Americas",
           "orientation": "v",
           "showlegend": true,
           "type": "scatter",
           "x": {
            "bdata": "Q0SDd2ZxvkA=",
            "dtype": "f8"
           },
           "xaxis": "x",
           "y": {
            "bdata": "9kVCW84FUUA=",
            "dtype": "f8"
           },
           "yaxis": "y"
          },
          {
           "hovertemplate": "continent=Asia<br>year=1987<br>gdpPercap=%{x}<br>lifeExp=%{y}<br>pop=%{marker.size}<extra></extra>",
           "legendgroup": "Asia",
           "marker": {
            "color": "#00cc96",
            "size": [
             2871220762
            ],
            "sizemode": "area",
            "sizeref": 777949.760612245,
            "symbol": "circle"
           },
           "mode": "markers",
           "name": "Asia",
           "orientation": "v",
           "showlegend": true,
           "type": "scatter",
           "x": {
            "bdata": "8R1p/Dm4vUA=",
            "dtype": "f8"
           },
           "xaxis": "x",
           "y": {
            "bdata": "mwJOw3k2UEA=",
            "dtype": "f8"
           },
           "yaxis": "y"
          },
          {
           "hovertemplate": "continent=Europe<br>year=1987<br>gdpPercap=%{x}<br>lifeExp=%{y}<br>pop=%{marker.size}<extra></extra>",
           "legendgroup": "Europe",
           "marker": {
            "color": "#ab63fa",
            "size": {
             "bdata": "kPVeIA==",
             "dtype": "i4"
            },
            "sizemode": "area",
            "sizeref": 777949.760612245,
            "symbol": "circle"
           },
           "mode": "markers",
           "name": "Europe",
           "orientation": "v",
           "showlegend": true,
           "type": "scatter",
           "x": {
            "bdata": "C/bx4pPP0EA=",
            "dtype": "f8"
           },
           "xaxis": "x",
           "y": {
            "bdata": "ivo3QhlpUkA=",
            "dtype": "f8"
           },
           "yaxis": "y"
          },
          {
           "hovertemplate": "continent=Oceania<br>year=1987<br>gdpPercap=%{x}<br>lifeExp=%{y}<br>pop=%{marker.size}<extra></extra>",
           "legendgroup": "Oceania",
           "marker": {
            "color": "#FFA15A",
            "size": {
             "bdata": "j64qAQ==",
             "dtype": "i4"
            },
            "sizemode": "area",
            "sizeref": 777949.760612245,
            "symbol": "circle"
           },
           "mode": "markers",
           "name": "Oceania",
           "orientation": "v",
           "showlegend": true,
           "type": "scatter",
           "x": {
            "bdata": "pj/7kQL400A=",
            "dtype": "f8"
           },
           "xaxis": "x",
           "y": {
            "bdata": "FK5H4XrUUkA=",
            "dtype": "f8"
           },
           "yaxis": "y"
          }
         ],
         "name": "1987"
        },
        {
         "data": [
          {
           "hovertemplate": "continent=Africa<br>year=1992<br>gdpPercap=%{x}<br>lifeExp=%{y}<br>pop=%{marker.size}<extra></extra>",
           "legendgroup": "Africa",
           "marker": {
            "color": "#636efa",
            "size": {
             "bdata": "LclIJw==",
             "dtype": "i4"
            },
            "sizemode": "area",
            "sizeref": 777949.760612245,
            "symbol": "circle"
           },
           "mode": "markers",
           "name": "Africa",
           "orientation": "v",
           "showlegend": true,
           "type": "scatter",
           "x": {
            "bdata": "qr3/457ToUA=",
            "dtype": "f8"
           },
           "xaxis": "x",
           "y": {
            "bdata": "QncD+pXQSkA=",
            "dtype": "f8"
           },
           "yaxis": "y"
          },
          {
           "hovertemplate": "continent=Americas<br>year=1992<br>gdpPercap=%{x}<br>lifeExp=%{y}<br>pop=%{marker.size}<extra></extra>",
           "legendgroup": "Americas",
           "marker": {
            "color": "#EF553B",
            "size": {
             "bdata": "eG0QLA==",
             "dtype": "i4"
            },
            "sizemode": "area",
            "sizeref": 777949.760612245,
            "symbol": "circle"
           },
           "mode": "markers",
           "name": "Americas",
           "orientation": "v",
           "showlegend": true,
           "type": "scatter",
           "x": {
            "bdata": "mj0zNe9sv0A=",
            "dtype": "f8"
           },
           "xaxis": "x",
           "y": {
            "bdata": "sRafAmBkUUA=",
            "dtype": "f8"
           },
           "yaxis": "y"
          },
          {
           "hovertemplate": "continent=Asia<br>year=1992<br>gdpPercap=%{x}<br>lifeExp=%{y}<br>pop=%{marker.size}<extra></extra>",
           "legendgroup": "Asia",
           "marker": {
            "color": "#00cc96",
            "size": [
             3133292191
            ],
            "sizemode": "area",
            "sizeref": 777949.760612245,
            "symbol": "circle"
           },
           "mode": "markers",
           "name": "Asia",
           "orientation": "v",
           "showlegend": true,
           "type": "scatter",
           "x": {
            "bdata": "5aEJWtjfwEA=",
            "dtype": "f8"
           },
           "xaxis": "x",
           "y": {
            "bdata": "vOfyrmGiUEA=",
            "dtype": "f8"
           },
           "yaxis": "y"
          },
          {
           "hovertemplate": "continent=Europe<br>year=1992<br>gdpPercap=%{x}<br>lifeExp=%{y}<br>pop=%{marker.size}<extra></extra>",
           "legendgroup": "Europe",
           "marker": {
            "color": "#ab63fa",
            "size": {
             "bdata": "TZVEIQ==",
             "dtype": "i4"
            },
            "sizemode": "area",
            "sizeref": 777949.760612245,
            "symbol": "circle"
           },
           "mode": "markers",
           "name": "Europe",
           "orientation": "v",
           "showlegend": true,
           "type": "scatter",
           "x": {
            "bdata": "GNV9W2Sp0EA=",
            "dtype": "f8"
           },
           "xaxis": "x",
           "y": {
            "bdata": "Dr4wmSqcUkA=",
            "dtype": "f8"
           },
           "yaxis": "y"
          },
          {
           "hovertemplate": "continent=Oceania<br>year=1992<br>gdpPercap=%{x}<br>lifeExp=%{y}<br>pop=%{marker.size}<extra></extra>",
           "legendgroup": "Oceania",
           "marker": {
            "color": "#FFA15A",
            "size": {
             "bdata": "YzU/AQ==",
             "dtype": "i4"
            },
            "sizemode": "area",
            "sizeref": 777949.760612245,
            "symbol": "circle"
           },
           "mode": "markers",
           "name": "Oceania",
           "orientation": "v",
           "showlegend": true,
           "type": "scatter",
           "x": {
            "bdata": "mKPH74Jn1EA=",
            "dtype": "f8"
           },
           "xaxis": "x",
           "y": {
            "bdata": "FK5H4Xo8U0A=",
            "dtype": "f8"
           },
           "yaxis": "y"
          }
         ],
         "name": "1992"
        },
        {
         "data": [
          {
           "hovertemplate": "continent=Africa<br>year=1997<br>gdpPercap=%{x}<br>lifeExp=%{y}<br>pop=%{marker.size}<extra></extra>",
           "legendgroup": "Africa",
           "marker": {
            "color": "#636efa",
            "size": {
             "bdata": "mP1VLA==",
             "dtype": "i4"
            },
            "sizemode": "area",
            "sizeref": 777949.760612245,
            "symbol": "circle"
           },
           "mode": "markers",
           "name": "Africa",
           "orientation": "v",
           "showlegend": true,
           "type": "scatter",
           "x": {
            "bdata": "igRo5ISVokA=",
            "dtype": "f8"
           },
           "xaxis": "x",
           "y": {
            "bdata": "sC0OFpTMSkA=",
            "dtype": "f8"
           },
           "yaxis": "y"
          },
          {
           "hovertemplate": "continent=Americas<br>year=1997<br>gdpPercap=%{x}<br>lifeExp=%{y}<br>pop=%{marker.size}<extra></extra>",
           "legendgroup": "Americas",
           "marker": {
            "color": "#EF553B",
            "size": {
             "bdata": "Orx/Lw==",
             "dtype": "i4"
            },
            "sizemode": "area",
            "sizeref": 777949.760612245,
            "symbol": "circle"
           },
           "mode": "markers",
           "name": "Americas",
           "orientation": "v",
           "showlegend": true,
           "type": "scatter",
           "x": {
            "bdata": "5ROqgqZcwUA=",
            "dtype": "f8"
           },
           "xaxis": "x",
           "y": {
            "bdata": "76zddqHJUUA=",
            "dtype": "f8"
           },
           "yaxis": "y"
          },
          {
           "hovertemplate": "continent=Asia<br>year=1997<br>gdpPercap=%{x}<br>lifeExp=%{y}<br>pop=%{marker.size}<extra></extra>",
           "legendgroup": "Asia",
           "marker": {
            "color": "#00cc96",
            "size": [
             3383285500
            ],
            "sizemode": "area",
            "sizeref": 777949.760612245,
            "symbol": "circle"
           },
           "mode": "markers",
           "name": "Asia",
           "orientation": "v",
           "showlegend": true,
           "type": "scatter",
           "x": {
            "bdata": "j0QZ8Qs1w0A=",
            "dtype": "f8"
           },
           "xaxis": "x",
           "y": {
            "bdata": "IDXIHlABUUA=",
            "dtype": "f8"
           },
           "yaxis": "y"
          },
          {
           "hovertemplate": "continent=Europe<br>year=1997<br>gdpPercap=%{x}<br>lifeExp=%{y}<br>pop=%{marker.size}<extra></extra>",
           "legendgroup": "Europe",
           "marker": {
            "color": "#ab63fa",
            "size": {
             "bdata": "FGbpIQ==",
             "dtype": "i4"
            },
            "sizemode": "area",
            "sizeref": 777949.760612245,
            "symbol": "circle"
           },
           "mode": "markers",
           "name": "Europe",
           "orientation": "v",
           "showlegend": true,
           "type": "scatter",
           "x": {
            "bdata": "/pMJCTKh0kA=",
            "dtype": "f8"
           },
           "xaxis": "x",
           "y": {
            "bdata": "NheSplTgUkA=",
            "dtype": "f8"
           },
           "yaxis": "y"
          },
          {
           "hovertemplate": "continent=Oceania<br>year=1997<br>gdpPercap=%{x}<br>lifeExp=%{y}<br>pop=%{marker.size}<extra></extra>",
           "legendgroup": "Oceania",
           "marker": {
            "color": "#FFA15A",
            "size": {
             "bdata": "lmBTAQ==",
             "dtype": "i4"
            },
            "sizemode": "area",
            "sizeref": 777949.760612245,
            "symbol": "circle"
           },
           "mode": "markers",
           "name": "Oceania",
           "orientation": "v",
           "showlegend": true,
           "type": "scatter",
           "x": {
            "bdata": "UDv8NQt210A=",
            "dtype": "f8"
           },
           "xaxis": "x",
           "y": {
            "bdata": "XI/C9SiMU0A=",
            "dtype": "f8"
           },
           "yaxis": "y"
          }
         ],
         "name": "1997"
        },
        {
         "data": [
          {
           "hovertemplate": "continent=Africa<br>year=2002<br>gdpPercap=%{x}<br>lifeExp=%{y}<br>pop=%{marker.size}<extra></extra>",
           "legendgroup": "Africa",
           "marker": {
            "color": "#636efa",
            "size": {
             "bdata": "DJ6xMQ==",
             "dtype": "i4"
            },
            "sizemode": "area",
            "sizeref": 777949.760612245,
            "symbol": "circle"
           },
           "mode": "markers",
           "name": "Africa",
           "orientation": "v",
           "showlegend": true,
           "type": "scatter",
           "x": {
            "bdata": "78uLM8VOpEA=",
            "dtype": "f8"
           },
           "xaxis": "x",
           "y": {
            "bdata": "4r9uKaGpSkA=",
            "dtype": "f8"
           },
           "yaxis": "y"
          },
          {
           "hovertemplate": "continent=Americas<br>year=2002<br>gdpPercap=%{x}<br>lifeExp=%{y}<br>pop=%{marker.size}<extra></extra>",
           "legendgroup": "Americas",
           "marker": {
            "color": "#EF553B",
            "size": {
             "bdata": "2oCmMg==",
             "dtype": "i4"
            },
            "sizemode": "area",
            "sizeref": 777949.760612245,
            "symbol": "circle"
           },
           "mode": "markers",
           "name": "Americas",
           "orientation": "v",
           "showlegend": true,
           "type": "scatter",
           "x": {
            "bdata": "pOFzq9YjwkA=",
            "dtype": "f8"
           },
           "xaxis": "x",
           "y": {
            "bdata": "pWYPtAIbUkA=",
            "dtype": "f8"
           },
           "yaxis": "y"
          },
          {
           "hovertemplate": "continent=Asia<br>year=2002<br>gdpPercap=%{x}<br>lifeExp=%{y}<br>pop=%{marker.size}<extra></extra>",
           "legendgroup": "Asia",
           "marker": {
            "color": "#00cc96",
            "size": [
             3601802203
            ],
            "sizemode": "area",
            "sizeref": 777949.760612245,
            "symbol": "circle"
           },
           "mode": "markers",
           "name": "Asia",
           "orientation": "v",
           "showlegend": true,
           "type": "scatter",
           "x": {
            "bdata": "yXYdkgvfw0A=",
            "dtype": "f8"
           },
           "xaxis": "x",
           "y": {
            "bdata": "uEq83vdOUUA=",
            "dtype": "f8"
           },
           "yaxis": "y"
          },
          {
           "hovertemplate": "continent=Europe<br>year=2002<br>gdpPercap=%{x}<br>lifeExp=%{y}<br>pop=%{marker.size}<extra></extra>",
           "legendgroup": "Europe",
           "marker": {
            "color": "#ab63fa",
            "size": {
             "bdata": "/f52Ig==",
             "dtype": "i4"
            },
            "sizemode": "area",
            "sizeref": 777949.760612245,
            "symbol": "circle"
           },
           "mode": "markers",
           "name": "Europe",
           "orientation": "v",
           "showlegend": true,
           "type": "scatter",
           "x": {
            "bdata": "gVcC4O4z1UA=",
            "dtype": "f8"
           },
           "xaxis": "x",
           "y": {
            "bdata": "9+RhodYsU0A=",
            "dtype": "f8"
           },
           "yaxis": "y"
          },
          {
           "hovertemplate": "continent=Oceania<br>year=2002<br>gdpPercap=%{x}<br>lifeExp=%{y}<br>pop=%{marker.size}<extra></extra>",
           "legendgroup": "Oceania",
           "marker": {
            "color": "#FFA15A",
            "size": {
             "bdata": "beRlAQ==",
             "dtype": "i4"
            },
            "sizemode": "area",
            "sizeref": 777949.760612245,
            "symbol": "circle"
           },
           "mode": "markers",
           "name": "Oceania",
           "orientation": "v",
           "showlegend": true,
           "type": "scatter",
           "x": {
            "bdata": "v0hoy7FO2kA=",
            "dtype": "f8"
           },
           "xaxis": "x",
           "y": {
            "bdata": "kML1KFzvU0A=",
            "dtype": "f8"
           },
           "yaxis": "y"
          }
         ],
         "name": "2002"
        },
        {
         "data": [
          {
           "hovertemplate": "continent=Africa<br>year=2007<br>gdpPercap=%{x}<br>lifeExp=%{y}<br>pop=%{marker.size}<extra></extra>",
           "legendgroup": "Africa",
           "marker": {
            "color": "#636efa",
            "size": {
             "bdata": "bKZnNw==",
             "dtype": "i4"
            },
            "sizemode": "area",
            "sizeref": 777949.760612245,
            "symbol": "circle"
           },
           "mode": "markers",
           "name": "Africa",
           "orientation": "v",
           "showlegend": true,
           "type": "scatter",
           "x": {
            "bdata": "QWqRsRAiqEA=",
            "dtype": "f8"
           },
           "xaxis": "x",
           "y": {
            "bdata": "HNCvRCxnS0A=",
            "dtype": "f8"
           },
           "yaxis": "y"
          },
          {
           "hovertemplate": "continent=Americas<br>year=2007<br>gdpPercap=%{x}<br>lifeExp=%{y}<br>pop=%{marker.size}<extra></extra>",
           "legendgroup": "Americas",
           "marker": {
            "color": "#EF553B",
            "size": {
             "bdata": "kK+TNQ==",
             "dtype": "i4"
            },
            "sizemode": "area",
            "sizeref": 777949.760612245,
            "symbol": "circle"
           },
           "mode": "markers",
           "name": "Americas",
           "orientation": "v",
           "showlegend": true,
           "type": "scatter",
           "x": {
            "bdata": "dr9MDIR9xUA=",
            "dtype": "f8"
           },
           "xaxis": "x",
           "y": {
            "bdata": "yQImcOtmUkA=",
            "dtype": "f8"
           },
           "yaxis": "y"
          },
          {
           "hovertemplate": "continent=Asia<br>year=2007<br>gdpPercap=%{x}<br>lifeExp=%{y}<br>pop=%{marker.size}<extra></extra>",
           "legendgroup": "Asia",
           "marker": {
            "color": "#00cc96",
            "size": [
             3811953827
            ],
            "sizemode": "area",
            "sizeref": 777949.760612245,
            "symbol": "circle"
           },
           "mode": "markers",
           "name": "Asia",
           "orientation": "v",
           "showlegend": true,
           "type": "scatter",
           "x": {
            "bdata": "9AN7cINcyEA=",
            "dtype": "f8"
           },
           "xaxis": "x",
           "y": {
            "bdata": "7/fpfp+uUUA=",
            "dtype": "f8"
           },
           "yaxis": "y"
          },
          {
           "hovertemplate": "continent=Europe<br>year=2007<br>gdpPercap=%{x}<br>lifeExp=%{y}<br>pop=%{marker.size}<extra></extra>",
           "legendgroup": "Europe",
           "marker": {
            "color": "#ab63fa",
            "size": {
             "bdata": "YSfvIg==",
             "dtype": "i4"
            },
            "sizemode": "area",
            "sizeref": 777949.760612245,
            "symbol": "circle"
           },
           "mode": "markers",
           "name": "Europe",
           "orientation": "v",
           "showlegend": true,
           "type": "scatter",
           "x": {
            "bdata": "kIUf05532EA=",
            "dtype": "f8"
           },
           "xaxis": "x",
           "y": {
            "bdata": "4QuTqYJpU0A=",
            "dtype": "f8"
           },
           "yaxis": "y"
          },
          {
           "hovertemplate": "continent=Oceania<br>year=2007<br>gdpPercap=%{x}<br>lifeExp=%{y}<br>pop=%{marker.size}<extra></extra>",
           "legendgroup": "Oceania",
           "marker": {
            "color": "#FFA15A",
            "size": {
             "bdata": "O5p2AQ==",
             "dtype": "i4"
            },
            "sizemode": "area",
            "sizeref": 777949.760612245,
            "symbol": "circle"
           },
           "mode": "markers",
           "name": "Oceania",
           "orientation": "v",
           "showlegend": true,
           "type": "scatter",
           "x": {
            "bdata": "6ZWyDIwc3UA=",
            "dtype": "f8"
           },
           "xaxis": "x",
           "y": {
            "bdata": "NV66SQwuVEA=",
            "dtype": "f8"
           },
           "yaxis": "y"
          }
         ],
         "name": "2007"
        }
       ],
       "layout": {
        "legend": {
         "itemsizing": "constant",
         "title": {
          "text": "continent"
         },
         "tracegroupgap": 0
        },
        "margin": {
         "t": 60
        },
        "paper_bgcolor": "white",
        "plot_bgcolor": "white",
        "sliders": [
         {
          "active": 0,
          "currentvalue": {
           "prefix": "year="
          },
          "len": 0.9,
          "pad": {
           "b": 10,
           "t": 60
          },
          "steps": [
           {
            "args": [
             [
              "1952"
             ],
             {
              "frame": {
               "duration": 0,
               "redraw": false
              },
              "fromcurrent": true,
              "mode": "immediate",
              "transition": {
               "duration": 0,
               "easing": "linear"
              }
             }
            ],
            "label": "1952",
            "method": "animate"
           },
           {
            "args": [
             [
              "1957"
             ],
             {
              "frame": {
               "duration": 0,
               "redraw": false
              },
              "fromcurrent": true,
              "mode": "immediate",
              "transition": {
               "duration": 0,
               "easing": "linear"
              }
             }
            ],
            "label": "1957",
            "method": "animate"
           },
           {
            "args": [
             [
              "1962"
             ],
             {
              "frame": {
               "duration": 0,
               "redraw": false
              },
              "fromcurrent": true,
              "mode": "immediate",
              "transition": {
               "duration": 0,
               "easing": "linear"
              }
             }
            ],
            "label": "1962",
            "method": "animate"
           },
           {
            "args": [
             [
              "1967"
             ],
             {
              "frame": {
               "duration": 0,
               "redraw": false
              },
              "fromcurrent": true,
              "mode": "immediate",
              "transition": {
               "duration": 0,
               "easing": "linear"
              }
             }
            ],
            "label": "1967",
            "method": "animate"
           },
           {
            "args": [
             [
              "1972"
             ],
             {
              "frame": {
               "duration": 0,
               "redraw": false
              },
              "fromcurrent": true,
              "mode": "immediate",
              "transition": {
               "duration": 0,
               "easing": "linear"
              }
             }
            ],
            "label": "1972",
            "method": "animate"
           },
           {
            "args": [
             [
              "1977"
             ],
             {
              "frame": {
               "duration": 0,
               "redraw": false
              },
              "fromcurrent": true,
              "mode": "immediate",
              "transition": {
               "duration": 0,
               "easing": "linear"
              }
             }
            ],
            "label": "1977",
            "method": "animate"
           },
           {
            "args": [
             [
              "1982"
             ],
             {
              "frame": {
               "duration": 0,
               "redraw": false
              },
              "fromcurrent": true,
              "mode": "immediate",
              "transition": {
               "duration": 0,
               "easing": "linear"
              }
             }
            ],
            "label": "1982",
            "method": "animate"
           },
           {
            "args": [
             [
              "1987"
             ],
             {
              "frame": {
               "duration": 0,
               "redraw": false
              },
              "fromcurrent": true,
              "mode": "immediate",
              "transition": {
               "duration": 0,
               "easing": "linear"
              }
             }
            ],
            "label": "1987",
            "method": "animate"
           },
           {
            "args": [
             [
              "1992"
             ],
             {
              "frame": {
               "duration": 0,
               "redraw": false
              },
              "fromcurrent": true,
              "mode": "immediate",
              "transition": {
               "duration": 0,
               "easing": "linear"
              }
             }
            ],
            "label": "1992",
            "method": "animate"
           },
           {
            "args": [
             [
              "1997"
             ],
             {
              "frame": {
               "duration": 0,
               "redraw": false
              },
              "fromcurrent": true,
              "mode": "immediate",
              "transition": {
               "duration": 0,
               "easing": "linear"
              }
             }
            ],
            "label": "1997",
            "method": "animate"
           },
           {
            "args": [
             [
              "2002"
             ],
             {
              "frame": {
               "duration": 0,
               "redraw": false
              },
              "fromcurrent": true,
              "mode": "immediate",
              "transition": {
               "duration": 0,
               "easing": "linear"
              }
             }
            ],
            "label": "2002",
            "method": "animate"
           },
           {
            "args": [
             [
              "2007"
             ],
             {
              "frame": {
               "duration": 0,
               "redraw": false
              },
              "fromcurrent": true,
              "mode": "immediate",
              "transition": {
               "duration": 0,
               "easing": "linear"
              }
             }
            ],
            "label": "2007",
            "method": "animate"
           }
          ],
          "x": 0.1,
          "xanchor": "left",
          "y": 0,
          "yanchor": "top"
         }
        ],
        "template": {
         "data": {
          "bar": [
           {
            "error_x": {
             "color": "#2a3f5f"
            },
            "error_y": {
             "color": "#2a3f5f"
            },
            "marker": {
             "line": {
              "color": "#E5ECF6",
              "width": 0.5
             },
             "pattern": {
              "fillmode": "overlay",
              "size": 10,
              "solidity": 0.2
             }
            },
            "type": "bar"
           }
          ],
          "barpolar": [
           {
            "marker": {
             "line": {
              "color": "#E5ECF6",
              "width": 0.5
             },
             "pattern": {
              "fillmode": "overlay",
              "size": 10,
              "solidity": 0.2
             }
            },
            "type": "barpolar"
           }
          ],
          "carpet": [
           {
            "aaxis": {
             "endlinecolor": "#2a3f5f",
             "gridcolor": "white",
             "linecolor": "white",
             "minorgridcolor": "white",
             "startlinecolor": "#2a3f5f"
            },
            "baxis": {
             "endlinecolor": "#2a3f5f",
             "gridcolor": "white",
             "linecolor": "white",
             "minorgridcolor": "white",
             "startlinecolor": "#2a3f5f"
            },
            "type": "carpet"
           }
          ],
          "choropleth": [
           {
            "colorbar": {
             "outlinewidth": 0,
             "ticks": ""
            },
            "type": "choropleth"
           }
          ],
          "contour": [
           {
            "colorbar": {
             "outlinewidth": 0,
             "ticks": ""
            },
            "colorscale": [
             [
              0,
              "#0d0887"
             ],
             [
              0.1111111111111111,
              "#46039f"
             ],
             [
              0.2222222222222222,
              "#7201a8"
             ],
             [
              0.3333333333333333,
              "#9c179e"
             ],
             [
              0.4444444444444444,
              "#bd3786"
             ],
             [
              0.5555555555555556,
              "#d8576b"
             ],
             [
              0.6666666666666666,
              "#ed7953"
             ],
             [
              0.7777777777777778,
              "#fb9f3a"
             ],
             [
              0.8888888888888888,
              "#fdca26"
             ],
             [
              1,
              "#f0f921"
             ]
            ],
            "type": "contour"
           }
          ],
          "contourcarpet": [
           {
            "colorbar": {
             "outlinewidth": 0,
             "ticks": ""
            },
            "type": "contourcarpet"
           }
          ],
          "heatmap": [
           {
            "colorbar": {
             "outlinewidth": 0,
             "ticks": ""
            },
            "colorscale": [
             [
              0,
              "#0d0887"
             ],
             [
              0.1111111111111111,
              "#46039f"
             ],
             [
              0.2222222222222222,
              "#7201a8"
             ],
             [
              0.3333333333333333,
              "#9c179e"
             ],
             [
              0.4444444444444444,
              "#bd3786"
             ],
             [
              0.5555555555555556,
              "#d8576b"
             ],
             [
              0.6666666666666666,
              "#ed7953"
             ],
             [
              0.7777777777777778,
              "#fb9f3a"
             ],
             [
              0.8888888888888888,
              "#fdca26"
             ],
             [
              1,
              "#f0f921"
             ]
            ],
            "type": "heatmap"
           }
          ],
          "histogram": [
           {
            "marker": {
             "pattern": {
              "fillmode": "overlay",
              "size": 10,
              "solidity": 0.2
             }
            },
            "type": "histogram"
           }
          ],
          "histogram2d": [
           {
            "colorbar": {
             "outlinewidth": 0,
             "ticks": ""
            },
            "colorscale": [
             [
              0,
              "#0d0887"
             ],
             [
              0.1111111111111111,
              "#46039f"
             ],
             [
              0.2222222222222222,
              "#7201a8"
             ],
             [
              0.3333333333333333,
              "#9c179e"
             ],
             [
              0.4444444444444444,
              "#bd3786"
             ],
             [
              0.5555555555555556,
              "#d8576b"
             ],
             [
              0.6666666666666666,
              "#ed7953"
             ],
             [
              0.7777777777777778,
              "#fb9f3a"
             ],
             [
              0.8888888888888888,
              "#fdca26"
             ],
             [
              1,
              "#f0f921"
             ]
            ],
            "type": "histogram2d"
           }
          ],
          "histogram2dcontour": [
           {
            "colorbar": {
             "outlinewidth": 0,
             "ticks": ""
            },
            "colorscale": [
             [
              0,
              "#0d0887"
             ],
             [
              0.1111111111111111,
              "#46039f"
             ],
             [
              0.2222222222222222,
              "#7201a8"
             ],
             [
              0.3333333333333333,
              "#9c179e"
             ],
             [
              0.4444444444444444,
              "#bd3786"
             ],
             [
              0.5555555555555556,
              "#d8576b"
             ],
             [
              0.6666666666666666,
              "#ed7953"
             ],
             [
              0.7777777777777778,
              "#fb9f3a"
             ],
             [
              0.8888888888888888,
              "#fdca26"
             ],
             [
              1,
              "#f0f921"
             ]
            ],
            "type": "histogram2dcontour"
           }
          ],
          "mesh3d": [
           {
            "colorbar": {
             "outlinewidth": 0,
             "ticks": ""
            },
            "type": "mesh3d"
           }
          ],
          "parcoords": [
           {
            "line": {
             "colorbar": {
              "outlinewidth": 0,
              "ticks": ""
             }
            },
            "type": "parcoords"
           }
          ],
          "pie": [
           {
            "automargin": true,
            "type": "pie"
           }
          ],
          "scatter": [
           {
            "fillpattern": {
             "fillmode": "overlay",
             "size": 10,
             "solidity": 0.2
            },
            "type": "scatter"
           }
          ],
          "scatter3d": [
           {
            "line": {
             "colorbar": {
              "outlinewidth": 0,
              "ticks": ""
             }
            },
            "marker": {
             "colorbar": {
              "outlinewidth": 0,
              "ticks": ""
             }
            },
            "type": "scatter3d"
           }
          ],
          "scattercarpet": [
           {
            "marker": {
             "colorbar": {
              "outlinewidth": 0,
              "ticks": ""
             }
            },
            "type": "scattercarpet"
           }
          ],
          "scattergeo": [
           {
            "marker": {
             "colorbar": {
              "outlinewidth": 0,
              "ticks": ""
             }
            },
            "type": "scattergeo"
           }
          ],
          "scattergl": [
           {
            "marker": {
             "colorbar": {
              "outlinewidth": 0,
              "ticks": ""
             }
            },
            "type": "scattergl"
           }
          ],
          "scattermap": [
           {
            "marker": {
             "colorbar": {
              "outlinewidth": 0,
              "ticks": ""
             }
            },
            "type": "scattermap"
           }
          ],
          "scattermapbox": [
           {
            "marker": {
             "colorbar": {
              "outlinewidth": 0,
              "ticks": ""
             }
            },
            "type": "scattermapbox"
           }
          ],
          "scatterpolar": [
           {
            "marker": {
             "colorbar": {
              "outlinewidth": 0,
              "ticks": ""
             }
            },
            "type": "scatterpolar"
           }
          ],
          "scatterpolargl": [
           {
            "marker": {
             "colorbar": {
              "outlinewidth": 0,
              "ticks": ""
             }
            },
            "type": "scatterpolargl"
           }
          ],
          "scatterternary": [
           {
            "marker": {
             "colorbar": {
              "outlinewidth": 0,
              "ticks": ""
             }
            },
            "type": "scatterternary"
           }
          ],
          "surface": [
           {
            "colorbar": {
             "outlinewidth": 0,
             "ticks": ""
            },
            "colorscale": [
             [
              0,
              "#0d0887"
             ],
             [
              0.1111111111111111,
              "#46039f"
             ],
             [
              0.2222222222222222,
              "#7201a8"
             ],
             [
              0.3333333333333333,
              "#9c179e"
             ],
             [
              0.4444444444444444,
              "#bd3786"
             ],
             [
              0.5555555555555556,
              "#d8576b"
             ],
             [
              0.6666666666666666,
              "#ed7953"
             ],
             [
              0.7777777777777778,
              "#fb9f3a"
             ],
             [
              0.8888888888888888,
              "#fdca26"
             ],
             [
              1,
              "#f0f921"
             ]
            ],
            "type": "surface"
           }
          ],
          "table": [
           {
            "cells": {
             "fill": {
              "color": "#EBF0F8"
             },
             "line": {
              "color": "white"
             }
            },
            "header": {
             "fill": {
              "color": "#C8D4E3"
             },
             "line": {
              "color": "white"
             }
            },
            "type": "table"
           }
          ]
         },
         "layout": {
          "annotationdefaults": {
           "arrowcolor": "#2a3f5f",
           "arrowhead": 0,
           "arrowwidth": 1
          },
          "autotypenumbers": "strict",
          "coloraxis": {
           "colorbar": {
            "outlinewidth": 0,
            "ticks": ""
           }
          },
          "colorscale": {
           "diverging": [
            [
             0,
             "#8e0152"
            ],
            [
             0.1,
             "#c51b7d"
            ],
            [
             0.2,
             "#de77ae"
            ],
            [
             0.3,
             "#f1b6da"
            ],
            [
             0.4,
             "#fde0ef"
            ],
            [
             0.5,
             "#f7f7f7"
            ],
            [
             0.6,
             "#e6f5d0"
            ],
            [
             0.7,
             "#b8e186"
            ],
            [
             0.8,
             "#7fbc41"
            ],
            [
             0.9,
             "#4d9221"
            ],
            [
             1,
             "#276419"
            ]
           ],
           "sequential": [
            [
             0,
             "#0d0887"
            ],
            [
             0.1111111111111111,
             "#46039f"
            ],
            [
             0.2222222222222222,
             "#7201a8"
            ],
            [
             0.3333333333333333,
             "#9c179e"
            ],
            [
             0.4444444444444444,
             "#bd3786"
            ],
            [
             0.5555555555555556,
             "#d8576b"
            ],
            [
             0.6666666666666666,
             "#ed7953"
            ],
            [
             0.7777777777777778,
             "#fb9f3a"
            ],
            [
             0.8888888888888888,
             "#fdca26"
            ],
            [
             1,
             "#f0f921"
            ]
           ],
           "sequentialminus": [
            [
             0,
             "#0d0887"
            ],
            [
             0.1111111111111111,
             "#46039f"
            ],
            [
             0.2222222222222222,
             "#7201a8"
            ],
            [
             0.3333333333333333,
             "#9c179e"
            ],
            [
             0.4444444444444444,
             "#bd3786"
            ],
            [
             0.5555555555555556,
             "#d8576b"
            ],
            [
             0.6666666666666666,
             "#ed7953"
            ],
            [
             0.7777777777777778,
             "#fb9f3a"
            ],
            [
             0.8888888888888888,
             "#fdca26"
            ],
            [
             1,
             "#f0f921"
            ]
           ]
          },
          "colorway": [
           "#636efa",
           "#EF553B",
           "#00cc96",
           "#ab63fa",
           "#FFA15A",
           "#19d3f3",
           "#FF6692",
           "#B6E880",
           "#FF97FF",
           "#FECB52"
          ],
          "font": {
           "color": "#2a3f5f"
          },
          "geo": {
           "bgcolor": "white",
           "lakecolor": "white",
           "landcolor": "#E5ECF6",
           "showlakes": true,
           "showland": true,
           "subunitcolor": "white"
          },
          "hoverlabel": {
           "align": "left"
          },
          "hovermode": "closest",
          "mapbox": {
           "style": "light"
          },
          "paper_bgcolor": "white",
          "plot_bgcolor": "#E5ECF6",
          "polar": {
           "angularaxis": {
            "gridcolor": "white",
            "linecolor": "white",
            "ticks": ""
           },
           "bgcolor": "#E5ECF6",
           "radialaxis": {
            "gridcolor": "white",
            "linecolor": "white",
            "ticks": ""
           }
          },
          "scene": {
           "xaxis": {
            "backgroundcolor": "#E5ECF6",
            "gridcolor": "white",
            "gridwidth": 2,
            "linecolor": "white",
            "showbackground": true,
            "ticks": "",
            "zerolinecolor": "white"
           },
           "yaxis": {
            "backgroundcolor": "#E5ECF6",
            "gridcolor": "white",
            "gridwidth": 2,
            "linecolor": "white",
            "showbackground": true,
            "ticks": "",
            "zerolinecolor": "white"
           },
           "zaxis": {
            "backgroundcolor": "#E5ECF6",
            "gridcolor": "white",
            "gridwidth": 2,
            "linecolor": "white",
            "showbackground": true,
            "ticks": "",
            "zerolinecolor": "white"
           }
          },
          "shapedefaults": {
           "line": {
            "color": "#2a3f5f"
           }
          },
          "ternary": {
           "aaxis": {
            "gridcolor": "white",
            "linecolor": "white",
            "ticks": ""
           },
           "baxis": {
            "gridcolor": "white",
            "linecolor": "white",
            "ticks": ""
           },
           "bgcolor": "#E5ECF6",
           "caxis": {
            "gridcolor": "white",
            "linecolor": "white",
            "ticks": ""
           }
          },
          "title": {
           "x": 0.05
          },
          "xaxis": {
           "automargin": true,
           "gridcolor": "white",
           "linecolor": "white",
           "ticks": "",
           "title": {
            "standoff": 15
           },
           "zerolinecolor": "white",
           "zerolinewidth": 2
          },
          "yaxis": {
           "automargin": true,
           "gridcolor": "white",
           "linecolor": "white",
           "ticks": "",
           "title": {
            "standoff": 15
           },
           "zerolinecolor": "white",
           "zerolinewidth": 2
          }
         }
        },
        "updatemenus": [
         {
          "buttons": [
           {
            "args": [
             null,
             {
              "frame": {
               "duration": 500,
               "redraw": false
              },
              "fromcurrent": true,
              "mode": "immediate",
              "transition": {
               "duration": 500,
               "easing": "linear"
              }
             }
            ],
            "label": "&#9654;",
            "method": "animate"
           },
           {
            "args": [
             [
              null
             ],
             {
              "frame": {
               "duration": 0,
               "redraw": false
              },
              "fromcurrent": true,
              "mode": "immediate",
              "transition": {
               "duration": 0,
               "easing": "linear"
              }
             }
            ],
            "label": "&#9724;",
            "method": "animate"
           }
          ],
          "direction": "left",
          "pad": {
           "r": 10,
           "t": 70
          },
          "showactive": false,
          "type": "buttons",
          "x": 0.1,
          "xanchor": "right",
          "y": 0,
          "yanchor": "top"
         }
        ],
        "xaxis": {
         "anchor": "y",
         "domain": [
          0,
          1
         ],
         "range": [
          2,
          5
         ],
         "title": {
          "text": "gdpPercap"
         },
         "type": "log"
        },
        "yaxis": {
         "anchor": "x",
         "domain": [
          0,
          1
         ],
         "range": [
          0,
          92.82742499999999
         ],
         "title": {
          "text": "lifeExp"
         }
        }
       }
      }
     },
     "metadata": {},
     "output_type": "display_data"
    }
   ],
   "source": [
    "max_lifeExp = df_continent[\"lifeExp\"].max()\n",
    "\n",
    "fig = px.scatter(\n",
    "    df_continent,\n",
    "    x=\"gdpPercap\",\n",
    "    y=\"lifeExp\",\n",
    "    color=\"continent\",\n",
    "    animation_frame=\"year\",\n",
    "    size=\"pop\",\n",
    "    size_max= 70,\n",
    "    log_x = True,\n",
    "    range_y=[0, 1.15 *max_lifeExp],  # set y-axis limits\n",
    "    range_x=[100, 1e5]  # set y-axis limits,\n",
    ")\n",
    "\n",
    "fig.update_layout(paper_bgcolor=\"white\", plot_bgcolor=\"white\")\n",
    "\n",
    "fig.show()\n",
    "\n"
   ]
  },
  {
   "cell_type": "code",
   "execution_count": 37,
   "id": "419fec9c",
   "metadata": {},
   "outputs": [
    {
     "data": {
      "text/html": [
       "<div>\n",
       "<style scoped>\n",
       "    .dataframe tbody tr th:only-of-type {\n",
       "        vertical-align: middle;\n",
       "    }\n",
       "\n",
       "    .dataframe tbody tr th {\n",
       "        vertical-align: top;\n",
       "    }\n",
       "\n",
       "    .dataframe thead th {\n",
       "        text-align: right;\n",
       "    }\n",
       "</style>\n",
       "<table border=\"1\" class=\"dataframe\">\n",
       "  <thead>\n",
       "    <tr style=\"text-align: right;\">\n",
       "      <th></th>\n",
       "      <th>continent</th>\n",
       "      <th>pop</th>\n",
       "    </tr>\n",
       "  </thead>\n",
       "  <tbody>\n",
       "    <tr>\n",
       "      <th>55</th>\n",
       "      <td>Africa</td>\n",
       "      <td>929539692</td>\n",
       "    </tr>\n",
       "    <tr>\n",
       "      <th>56</th>\n",
       "      <td>Americas</td>\n",
       "      <td>898871184</td>\n",
       "    </tr>\n",
       "    <tr>\n",
       "      <th>57</th>\n",
       "      <td>Asia</td>\n",
       "      <td>3811953827</td>\n",
       "    </tr>\n",
       "    <tr>\n",
       "      <th>58</th>\n",
       "      <td>Europe</td>\n",
       "      <td>586098529</td>\n",
       "    </tr>\n",
       "    <tr>\n",
       "      <th>59</th>\n",
       "      <td>Oceania</td>\n",
       "      <td>24549947</td>\n",
       "    </tr>\n",
       "  </tbody>\n",
       "</table>\n",
       "</div>"
      ],
      "text/plain": [
       "   continent         pop\n",
       "55    Africa   929539692\n",
       "56  Americas   898871184\n",
       "57      Asia  3811953827\n",
       "58    Europe   586098529\n",
       "59   Oceania    24549947"
      ]
     },
     "execution_count": 37,
     "metadata": {},
     "output_type": "execute_result"
    }
   ],
   "source": [
    "df = gapminder = px.data.gapminder()\n",
    "# group per continent and year\n",
    "df_continent = gapminder.groupby(['year', 'continent']).agg({\n",
    "    'pop': 'sum',\n",
    "    'lifeExp': 'mean',\n",
    "    'gdpPercap' : 'mean'\n",
    "}).reset_index()\n",
    "\n",
    "\n",
    "def filter_metric(df, metric=\"pop\", year=2007):\n",
    "    return (\n",
    "        df.query(\"year == @year\")[['continent', metric]]\n",
    "    )\n",
    "\n",
    "filter_metric(df_continent)"
   ]
  },
  {
   "cell_type": "code",
   "execution_count": null,
   "id": "b91455ac",
   "metadata": {},
   "outputs": [],
   "source": []
  }
 ],
 "metadata": {
  "kernelspec": {
   "display_name": ".venv",
   "language": "python",
   "name": "python3"
  },
  "language_info": {
   "codemirror_mode": {
    "name": "ipython",
    "version": 3
   },
   "file_extension": ".py",
   "mimetype": "text/x-python",
   "name": "python",
   "nbconvert_exporter": "python",
   "pygments_lexer": "ipython3",
   "version": "3.12.3"
  }
 },
 "nbformat": 4,
 "nbformat_minor": 5
}
