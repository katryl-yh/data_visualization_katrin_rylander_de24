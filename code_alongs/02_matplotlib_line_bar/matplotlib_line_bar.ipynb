{
 "cells": [
  {
   "cell_type": "markdown",
   "id": "2debdc92",
   "metadata": {},
   "source": [
    "# Matplotlib fundamentals\n"
   ]
  },
  {
   "cell_type": "code",
   "execution_count": 124,
   "id": "8cb35ba7",
   "metadata": {},
   "outputs": [
    {
     "data": {
      "text/html": [
       "<div>\n",
       "<style scoped>\n",
       "    .dataframe tbody tr th:only-of-type {\n",
       "        vertical-align: middle;\n",
       "    }\n",
       "\n",
       "    .dataframe tbody tr th {\n",
       "        vertical-align: top;\n",
       "    }\n",
       "\n",
       "    .dataframe thead th {\n",
       "        text-align: right;\n",
       "    }\n",
       "</style>\n",
       "<table border=\"1\" class=\"dataframe\">\n",
       "  <thead>\n",
       "    <tr style=\"text-align: right;\">\n",
       "      <th></th>\n",
       "      <th>Year</th>\n",
       "      <th>Month</th>\n",
       "      <th>Make</th>\n",
       "      <th>Quantity</th>\n",
       "      <th>Pct</th>\n",
       "    </tr>\n",
       "  </thead>\n",
       "  <tbody>\n",
       "    <tr>\n",
       "      <th>0</th>\n",
       "      <td>2007</td>\n",
       "      <td>1</td>\n",
       "      <td>Toyota</td>\n",
       "      <td>2884</td>\n",
       "      <td>22.7</td>\n",
       "    </tr>\n",
       "    <tr>\n",
       "      <th>1</th>\n",
       "      <td>2007</td>\n",
       "      <td>1</td>\n",
       "      <td>Volkswagen</td>\n",
       "      <td>2521</td>\n",
       "      <td>19.9</td>\n",
       "    </tr>\n",
       "    <tr>\n",
       "      <th>2</th>\n",
       "      <td>2007</td>\n",
       "      <td>1</td>\n",
       "      <td>Peugeot</td>\n",
       "      <td>1029</td>\n",
       "      <td>8.1</td>\n",
       "    </tr>\n",
       "    <tr>\n",
       "      <th>3</th>\n",
       "      <td>2007</td>\n",
       "      <td>1</td>\n",
       "      <td>Ford</td>\n",
       "      <td>870</td>\n",
       "      <td>6.9</td>\n",
       "    </tr>\n",
       "    <tr>\n",
       "      <th>4</th>\n",
       "      <td>2007</td>\n",
       "      <td>1</td>\n",
       "      <td>Volvo</td>\n",
       "      <td>693</td>\n",
       "      <td>5.5</td>\n",
       "    </tr>\n",
       "  </tbody>\n",
       "</table>\n",
       "</div>"
      ],
      "text/plain": [
       "   Year  Month        Make  Quantity   Pct\n",
       "0  2007      1      Toyota      2884  22.7\n",
       "1  2007      1  Volkswagen      2521  19.9\n",
       "2  2007      1     Peugeot      1029   8.1\n",
       "3  2007      1        Ford       870   6.9\n",
       "4  2007      1       Volvo       693   5.5"
      ]
     },
     "execution_count": 124,
     "metadata": {},
     "output_type": "execute_result"
    }
   ],
   "source": [
    "import pandas as pd\n",
    "\n",
    "df = pd.read_csv(\"data/norway_new_car_sales_by_make.csv\")\n",
    "df.head()"
   ]
  },
  {
   "cell_type": "markdown",
   "id": "fda6cf76",
   "metadata": {},
   "source": [
    "## EDA - Exploratory data analysis"
   ]
  },
  {
   "cell_type": "code",
   "execution_count": 125,
   "id": "e24c48a4",
   "metadata": {},
   "outputs": [
    {
     "data": {
      "text/plain": [
       "(4377, 5)"
      ]
     },
     "execution_count": 125,
     "metadata": {},
     "output_type": "execute_result"
    }
   ],
   "source": [
    "df.shape # long table"
   ]
  },
  {
   "cell_type": "code",
   "execution_count": 126,
   "id": "150925e6",
   "metadata": {},
   "outputs": [
    {
     "name": "stdout",
     "output_type": "stream",
     "text": [
      "<class 'pandas.core.frame.DataFrame'>\n",
      "RangeIndex: 4377 entries, 0 to 4376\n",
      "Data columns (total 5 columns):\n",
      " #   Column    Non-Null Count  Dtype  \n",
      "---  ------    --------------  -----  \n",
      " 0   Year      4377 non-null   int64  \n",
      " 1   Month     4377 non-null   int64  \n",
      " 2   Make      4367 non-null   object \n",
      " 3   Quantity  4377 non-null   int64  \n",
      " 4   Pct       4377 non-null   float64\n",
      "dtypes: float64(1), int64(3), object(1)\n",
      "memory usage: 171.1+ KB\n"
     ]
    }
   ],
   "source": [
    "df.info()"
   ]
  },
  {
   "cell_type": "code",
   "execution_count": 127,
   "id": "1bd40e33",
   "metadata": {},
   "outputs": [
    {
     "data": {
      "text/html": [
       "<div>\n",
       "<style scoped>\n",
       "    .dataframe tbody tr th:only-of-type {\n",
       "        vertical-align: middle;\n",
       "    }\n",
       "\n",
       "    .dataframe tbody tr th {\n",
       "        vertical-align: top;\n",
       "    }\n",
       "\n",
       "    .dataframe thead th {\n",
       "        text-align: right;\n",
       "    }\n",
       "</style>\n",
       "<table border=\"1\" class=\"dataframe\">\n",
       "  <thead>\n",
       "    <tr style=\"text-align: right;\">\n",
       "      <th></th>\n",
       "      <th>count</th>\n",
       "      <th>mean</th>\n",
       "      <th>std</th>\n",
       "      <th>min</th>\n",
       "      <th>25%</th>\n",
       "      <th>50%</th>\n",
       "      <th>75%</th>\n",
       "      <th>max</th>\n",
       "    </tr>\n",
       "  </thead>\n",
       "  <tbody>\n",
       "    <tr>\n",
       "      <th>Year</th>\n",
       "      <td>4377.0</td>\n",
       "      <td>2011.421065</td>\n",
       "      <td>2.906408</td>\n",
       "      <td>2007.0</td>\n",
       "      <td>2009.0</td>\n",
       "      <td>2011.0</td>\n",
       "      <td>2014.0</td>\n",
       "      <td>2017.0</td>\n",
       "    </tr>\n",
       "    <tr>\n",
       "      <th>Month</th>\n",
       "      <td>4377.0</td>\n",
       "      <td>6.459904</td>\n",
       "      <td>3.446815</td>\n",
       "      <td>1.0</td>\n",
       "      <td>3.0</td>\n",
       "      <td>6.0</td>\n",
       "      <td>9.0</td>\n",
       "      <td>12.0</td>\n",
       "    </tr>\n",
       "    <tr>\n",
       "      <th>Quantity</th>\n",
       "      <td>4377.0</td>\n",
       "      <td>307.802148</td>\n",
       "      <td>411.315021</td>\n",
       "      <td>1.0</td>\n",
       "      <td>14.0</td>\n",
       "      <td>153.0</td>\n",
       "      <td>461.0</td>\n",
       "      <td>3017.0</td>\n",
       "    </tr>\n",
       "    <tr>\n",
       "      <th>Pct</th>\n",
       "      <td>4377.0</td>\n",
       "      <td>2.762257</td>\n",
       "      <td>3.635185</td>\n",
       "      <td>0.0</td>\n",
       "      <td>0.1</td>\n",
       "      <td>1.4</td>\n",
       "      <td>4.2</td>\n",
       "      <td>22.7</td>\n",
       "    </tr>\n",
       "  </tbody>\n",
       "</table>\n",
       "</div>"
      ],
      "text/plain": [
       "           count         mean         std     min     25%     50%     75%  \\\n",
       "Year      4377.0  2011.421065    2.906408  2007.0  2009.0  2011.0  2014.0   \n",
       "Month     4377.0     6.459904    3.446815     1.0     3.0     6.0     9.0   \n",
       "Quantity  4377.0   307.802148  411.315021     1.0    14.0   153.0   461.0   \n",
       "Pct       4377.0     2.762257    3.635185     0.0     0.1     1.4     4.2   \n",
       "\n",
       "             max  \n",
       "Year      2017.0  \n",
       "Month       12.0  \n",
       "Quantity  3017.0  \n",
       "Pct         22.7  "
      ]
     },
     "execution_count": 127,
     "metadata": {},
     "output_type": "execute_result"
    }
   ],
   "source": [
    "df.describe().T"
   ]
  },
  {
   "cell_type": "code",
   "execution_count": 128,
   "id": "7caea8d0",
   "metadata": {},
   "outputs": [
    {
     "data": {
      "text/html": [
       "<div>\n",
       "<style scoped>\n",
       "    .dataframe tbody tr th:only-of-type {\n",
       "        vertical-align: middle;\n",
       "    }\n",
       "\n",
       "    .dataframe tbody tr th {\n",
       "        vertical-align: top;\n",
       "    }\n",
       "\n",
       "    .dataframe thead th {\n",
       "        text-align: right;\n",
       "    }\n",
       "</style>\n",
       "<table border=\"1\" class=\"dataframe\">\n",
       "  <thead>\n",
       "    <tr style=\"text-align: right;\">\n",
       "      <th></th>\n",
       "      <th>Year</th>\n",
       "      <th>Month</th>\n",
       "      <th>Make</th>\n",
       "      <th>Quantity</th>\n",
       "      <th>Pct</th>\n",
       "    </tr>\n",
       "  </thead>\n",
       "  <tbody>\n",
       "    <tr>\n",
       "      <th>0</th>\n",
       "      <td>2007</td>\n",
       "      <td>1</td>\n",
       "      <td>Toyota</td>\n",
       "      <td>2884</td>\n",
       "      <td>22.7</td>\n",
       "    </tr>\n",
       "    <tr>\n",
       "      <th>1</th>\n",
       "      <td>2007</td>\n",
       "      <td>1</td>\n",
       "      <td>Volkswagen</td>\n",
       "      <td>2521</td>\n",
       "      <td>19.9</td>\n",
       "    </tr>\n",
       "    <tr>\n",
       "      <th>2</th>\n",
       "      <td>2007</td>\n",
       "      <td>1</td>\n",
       "      <td>Peugeot</td>\n",
       "      <td>1029</td>\n",
       "      <td>8.1</td>\n",
       "    </tr>\n",
       "    <tr>\n",
       "      <th>3</th>\n",
       "      <td>2007</td>\n",
       "      <td>1</td>\n",
       "      <td>Ford</td>\n",
       "      <td>870</td>\n",
       "      <td>6.9</td>\n",
       "    </tr>\n",
       "    <tr>\n",
       "      <th>4</th>\n",
       "      <td>2007</td>\n",
       "      <td>1</td>\n",
       "      <td>Volvo</td>\n",
       "      <td>693</td>\n",
       "      <td>5.5</td>\n",
       "    </tr>\n",
       "    <tr>\n",
       "      <th>5</th>\n",
       "      <td>2007</td>\n",
       "      <td>1</td>\n",
       "      <td>Skoda</td>\n",
       "      <td>665</td>\n",
       "      <td>5.2</td>\n",
       "    </tr>\n",
       "    <tr>\n",
       "      <th>6</th>\n",
       "      <td>2007</td>\n",
       "      <td>1</td>\n",
       "      <td>Opel</td>\n",
       "      <td>622</td>\n",
       "      <td>4.9</td>\n",
       "    </tr>\n",
       "    <tr>\n",
       "      <th>7</th>\n",
       "      <td>2007</td>\n",
       "      <td>1</td>\n",
       "      <td>Audi</td>\n",
       "      <td>599</td>\n",
       "      <td>4.7</td>\n",
       "    </tr>\n",
       "    <tr>\n",
       "      <th>8</th>\n",
       "      <td>2007</td>\n",
       "      <td>1</td>\n",
       "      <td>Honda</td>\n",
       "      <td>423</td>\n",
       "      <td>3.3</td>\n",
       "    </tr>\n",
       "    <tr>\n",
       "      <th>9</th>\n",
       "      <td>2007</td>\n",
       "      <td>1</td>\n",
       "      <td>Mercedes-Benz</td>\n",
       "      <td>362</td>\n",
       "      <td>2.9</td>\n",
       "    </tr>\n",
       "    <tr>\n",
       "      <th>10</th>\n",
       "      <td>2007</td>\n",
       "      <td>1</td>\n",
       "      <td>BMW</td>\n",
       "      <td>352</td>\n",
       "      <td>2.8</td>\n",
       "    </tr>\n",
       "    <tr>\n",
       "      <th>11</th>\n",
       "      <td>2007</td>\n",
       "      <td>1</td>\n",
       "      <td>Citroen</td>\n",
       "      <td>263</td>\n",
       "      <td>2.1</td>\n",
       "    </tr>\n",
       "    <tr>\n",
       "      <th>12</th>\n",
       "      <td>2007</td>\n",
       "      <td>1</td>\n",
       "      <td>Suzuki</td>\n",
       "      <td>258</td>\n",
       "      <td>2.0</td>\n",
       "    </tr>\n",
       "    <tr>\n",
       "      <th>13</th>\n",
       "      <td>2007</td>\n",
       "      <td>1</td>\n",
       "      <td>Mazda</td>\n",
       "      <td>191</td>\n",
       "      <td>1.5</td>\n",
       "    </tr>\n",
       "    <tr>\n",
       "      <th>14</th>\n",
       "      <td>2007</td>\n",
       "      <td>1</td>\n",
       "      <td>Saab</td>\n",
       "      <td>169</td>\n",
       "      <td>1.3</td>\n",
       "    </tr>\n",
       "    <tr>\n",
       "      <th>15</th>\n",
       "      <td>2007</td>\n",
       "      <td>1</td>\n",
       "      <td>Renault</td>\n",
       "      <td>168</td>\n",
       "      <td>1.3</td>\n",
       "    </tr>\n",
       "    <tr>\n",
       "      <th>16</th>\n",
       "      <td>2007</td>\n",
       "      <td>1</td>\n",
       "      <td>Mitsubishi</td>\n",
       "      <td>136</td>\n",
       "      <td>1.1</td>\n",
       "    </tr>\n",
       "    <tr>\n",
       "      <th>17</th>\n",
       "      <td>2007</td>\n",
       "      <td>1</td>\n",
       "      <td>Nissan</td>\n",
       "      <td>127</td>\n",
       "      <td>1.0</td>\n",
       "    </tr>\n",
       "    <tr>\n",
       "      <th>18</th>\n",
       "      <td>2007</td>\n",
       "      <td>1</td>\n",
       "      <td>Hyundai</td>\n",
       "      <td>97</td>\n",
       "      <td>0.8</td>\n",
       "    </tr>\n",
       "    <tr>\n",
       "      <th>19</th>\n",
       "      <td>2007</td>\n",
       "      <td>1</td>\n",
       "      <td>Kia</td>\n",
       "      <td>55</td>\n",
       "      <td>0.4</td>\n",
       "    </tr>\n",
       "  </tbody>\n",
       "</table>\n",
       "</div>"
      ],
      "text/plain": [
       "    Year  Month           Make  Quantity   Pct\n",
       "0   2007      1         Toyota      2884  22.7\n",
       "1   2007      1     Volkswagen      2521  19.9\n",
       "2   2007      1        Peugeot      1029   8.1\n",
       "3   2007      1           Ford       870   6.9\n",
       "4   2007      1          Volvo       693   5.5\n",
       "5   2007      1          Skoda       665   5.2\n",
       "6   2007      1           Opel       622   4.9\n",
       "7   2007      1           Audi       599   4.7\n",
       "8   2007      1          Honda       423   3.3\n",
       "9   2007      1  Mercedes-Benz       362   2.9\n",
       "10  2007      1            BMW       352   2.8\n",
       "11  2007      1        Citroen       263   2.1\n",
       "12  2007      1         Suzuki       258   2.0\n",
       "13  2007      1          Mazda       191   1.5\n",
       "14  2007      1           Saab       169   1.3\n",
       "15  2007      1        Renault       168   1.3\n",
       "16  2007      1     Mitsubishi       136   1.1\n",
       "17  2007      1         Nissan       127   1.0\n",
       "18  2007      1        Hyundai        97   0.8\n",
       "19  2007      1            Kia        55   0.4"
      ]
     },
     "execution_count": 128,
     "metadata": {},
     "output_type": "execute_result"
    }
   ],
   "source": [
    "df.head(20)"
   ]
  },
  {
   "cell_type": "code",
   "execution_count": 129,
   "id": "50535a9e",
   "metadata": {},
   "outputs": [
    {
     "data": {
      "text/plain": [
       "┌───────┬───────┬───────────────┬──────────┬────────┐\n",
       "│ Year  │ Month │     Make      │ Quantity │  Pct   │\n",
       "│ int64 │ int64 │    varchar    │  int64   │ double │\n",
       "├───────┼───────┼───────────────┼──────────┼────────┤\n",
       "│  2007 │     1 │ Toyota        │     2884 │   22.7 │\n",
       "│  2007 │     1 │ Volkswagen    │     2521 │   19.9 │\n",
       "│  2007 │     1 │ Peugeot       │     1029 │    8.1 │\n",
       "│  2007 │     1 │ Ford          │      870 │    6.9 │\n",
       "│  2007 │     1 │ Volvo         │      693 │    5.5 │\n",
       "│  2007 │     1 │ Skoda         │      665 │    5.2 │\n",
       "│  2007 │     1 │ Opel          │      622 │    4.9 │\n",
       "│  2007 │     1 │ Audi          │      599 │    4.7 │\n",
       "│  2007 │     1 │ Honda         │      423 │    3.3 │\n",
       "│  2007 │     1 │ Mercedes-Benz │      362 │    2.9 │\n",
       "│    ·  │     · │     ·         │        · │     ·  │\n",
       "│    ·  │     · │     ·         │        · │     ·  │\n",
       "│    ·  │     · │     ·         │        · │     ·  │\n",
       "│  2017 │     1 │ Land Rover    │       18 │    0.1 │\n",
       "│  2017 │     1 │ Dacia         │        9 │    0.1 │\n",
       "│  2017 │     1 │ DS            │        9 │    0.1 │\n",
       "│  2017 │     1 │ Alfa Romeo    │        6 │    0.0 │\n",
       "│  2017 │     1 │ Fiat          │        3 │    0.0 │\n",
       "│  2017 │     1 │ Nilsson       │        3 │    0.0 │\n",
       "│  2017 │     1 │ Maserati      │        2 │    0.0 │\n",
       "│  2017 │     1 │ Ferrari       │        1 │    0.0 │\n",
       "│  2017 │     1 │ Smart         │        1 │    0.0 │\n",
       "│  2017 │     1 │ Ssangyong     │        1 │    0.0 │\n",
       "├───────┴───────┴───────────────┴──────────┴────────┤\n",
       "│ 4377 rows (20 shown)                    5 columns │\n",
       "└───────────────────────────────────────────────────┘"
      ]
     },
     "execution_count": 129,
     "metadata": {},
     "output_type": "execute_result"
    }
   ],
   "source": [
    "import duckdb\n",
    "\n",
    "duckdb.query(\"\"\"\n",
    "            SELECT *\n",
    "             FROM df\n",
    "\"\"\")\n",
    "# returns duckdb strings"
   ]
  },
  {
   "cell_type": "code",
   "execution_count": 130,
   "id": "9db31416",
   "metadata": {},
   "outputs": [
    {
     "data": {
      "text/html": [
       "<div>\n",
       "<style scoped>\n",
       "    .dataframe tbody tr th:only-of-type {\n",
       "        vertical-align: middle;\n",
       "    }\n",
       "\n",
       "    .dataframe tbody tr th {\n",
       "        vertical-align: top;\n",
       "    }\n",
       "\n",
       "    .dataframe thead th {\n",
       "        text-align: right;\n",
       "    }\n",
       "</style>\n",
       "<table border=\"1\" class=\"dataframe\">\n",
       "  <thead>\n",
       "    <tr style=\"text-align: right;\">\n",
       "      <th></th>\n",
       "      <th>Brand</th>\n",
       "      <th>Quantity</th>\n",
       "    </tr>\n",
       "  </thead>\n",
       "  <tbody>\n",
       "    <tr>\n",
       "      <th>0</th>\n",
       "      <td>Volkswagen</td>\n",
       "      <td>206669.0</td>\n",
       "    </tr>\n",
       "    <tr>\n",
       "      <th>1</th>\n",
       "      <td>Toyota</td>\n",
       "      <td>168177.0</td>\n",
       "    </tr>\n",
       "    <tr>\n",
       "      <th>2</th>\n",
       "      <td>Volvo</td>\n",
       "      <td>99937.0</td>\n",
       "    </tr>\n",
       "    <tr>\n",
       "      <th>3</th>\n",
       "      <td>Ford</td>\n",
       "      <td>99713.0</td>\n",
       "    </tr>\n",
       "    <tr>\n",
       "      <th>4</th>\n",
       "      <td>BMW</td>\n",
       "      <td>73315.0</td>\n",
       "    </tr>\n",
       "  </tbody>\n",
       "</table>\n",
       "</div>"
      ],
      "text/plain": [
       "        Brand  Quantity\n",
       "0  Volkswagen  206669.0\n",
       "1      Toyota  168177.0\n",
       "2       Volvo   99937.0\n",
       "3        Ford   99713.0\n",
       "4         BMW   73315.0"
      ]
     },
     "execution_count": 130,
     "metadata": {},
     "output_type": "execute_result"
    }
   ],
   "source": [
    "import duckdb\n",
    "\n",
    "df_quantity_brand = duckdb.query(\"\"\"\n",
    "            SELECT \n",
    "                Make AS Brand,\n",
    "                SUM(Quantity) AS Quantity\n",
    "             FROM df\n",
    "             GROUP BY \n",
    "                Brand \n",
    "             ORDER BY Quantity DESC         \n",
    "             \"\"\").df()\n",
    "\n",
    "df_quantity_brand.head()"
   ]
  },
  {
   "cell_type": "markdown",
   "id": "cffbbc78",
   "metadata": {},
   "source": [
    "## Bar chart"
   ]
  },
  {
   "cell_type": "code",
   "execution_count": 131,
   "id": "08f4362f",
   "metadata": {},
   "outputs": [
    {
     "data": {
      "text/plain": [
       "<Axes: xlabel='Brand'>"
      ]
     },
     "execution_count": 131,
     "metadata": {},
     "output_type": "execute_result"
    },
    {
     "data": {
      "image/png": "[encoded data removed]",
      "text/plain": [
       "<Figure size 640x480 with 1 Axes>"
      ]
     },
     "metadata": {},
     "output_type": "display_data"
    }
   ],
   "source": [
    "df_quantity_brand.plot(kind=\"bar\", x=\"Brand\", y= \"Quantity\")"
   ]
  },
  {
   "cell_type": "code",
   "execution_count": 132,
   "id": "dceeb97e",
   "metadata": {},
   "outputs": [
    {
     "data": {
      "text/plain": [
       "<Axes: xlabel='Brand'>"
      ]
     },
     "execution_count": 132,
     "metadata": {},
     "output_type": "execute_result"
    },
    {
     "data": {
      "image/png": "[encoded data removed]",
      "text/plain": [
       "<Figure size 640x480 with 1 Axes>"
      ]
     },
     "metadata": {},
     "output_type": "display_data"
    }
   ],
   "source": [
    "df_quantity_brand.head(10).plot(kind=\"bar\", x=\"Brand\", y= \"Quantity\")"
   ]
  },
  {
   "cell_type": "code",
   "execution_count": 133,
   "id": "6a3f1e70",
   "metadata": {},
   "outputs": [
    {
     "data": {
      "image/png": "[encoded data removed]",
      "text/plain": [
       "<Figure size 640x480 with 1 Axes>"
      ]
     },
     "metadata": {},
     "output_type": "display_data"
    }
   ],
   "source": [
    "ax = df_quantity_brand.iloc[:6].plot(kind=\"bar\", x=\"Brand\", y= \"Quantity\", title=\"Cars sold in Norway\") # with pandas plot method\n",
    "fig = ax.get_figure()\n",
    "fig.tight_layout()\n",
    "fig.savefig(\"figures/cars_top6.png\")"
   ]
  },
  {
   "cell_type": "markdown",
   "id": "96390d18",
   "metadata": {},
   "source": [
    "## Matplotlib bar"
   ]
  },
  {
   "cell_type": "code",
   "execution_count": 134,
   "id": "6903ddd9",
   "metadata": {},
   "outputs": [
    {
     "data": {
      "image/png": "[encoded data removed]",
      "text/plain": [
       "<Figure size 1200x600 with 1 Axes>"
      ]
     },
     "metadata": {},
     "output_type": "display_data"
    }
   ],
   "source": [
    "import matplotlib.pyplot as plt\n",
    "\n",
    "df_quantity_brand_top10 = df_quantity_brand.iloc[:10]\n",
    "\n",
    "fig, ax = plt.subplots(figsize =(12,6)) # Width, Height in inches!\n",
    "\n",
    "ax.bar(\n",
    "    x = df_quantity_brand_top10[\"Brand\"],\n",
    "    height= df_quantity_brand_top10[\"Quantity\"],\n",
    "    width = 0.6,\n",
    ")\n",
    "\n",
    "ax.set(\n",
    "    title=\"Number of cars from top 10 most sold brands in Norway 2007-2017\",\n",
    "    xlabel=\"Car brand\",\n",
    "    ylabel=\"Number of cars\",\n",
    ")\n",
    "\n",
    "fig.tight_layout()\n",
    "\n",
    "fig.savefig(\"figures/bars_top10_cars.png\")"
   ]
  },
  {
   "cell_type": "markdown",
   "id": "d60b618d",
   "metadata": {},
   "source": [
    "## Line charts\n",
    "\n",
    "### Are good for time series"
   ]
  },
  {
   "cell_type": "code",
   "execution_count": 135,
   "id": "203851a2",
   "metadata": {},
   "outputs": [],
   "source": [
    "df_quantity_year = duckdb.query(\n",
    "    \"\"\" \n",
    "    SELECT \n",
    "        year, \n",
    "        SUM(quantity) AS Quantity\n",
    "    FROM df\n",
    "    GROUP BY year\n",
    "    ORDER BY year\n",
    "    \"\"\"\n",
    ").df().set_index(\"Year\")"
   ]
  },
  {
   "cell_type": "code",
   "execution_count": 136,
   "id": "61dcffda",
   "metadata": {},
   "outputs": [
    {
     "data": {
      "text/plain": [
       "<Axes: xlabel='Year'>"
      ]
     },
     "execution_count": 136,
     "metadata": {},
     "output_type": "execute_result"
    },
    {
     "data": {
      "image/png": "[encoded data removed]",
      "text/plain": [
       "<Figure size 640x480 with 1 Axes>"
      ]
     },
     "metadata": {},
     "output_type": "display_data"
    }
   ],
   "source": [
    "df_quantity_year.iloc[:-1].plot()"
   ]
  },
  {
   "cell_type": "code",
   "execution_count": 137,
   "id": "09517fd6",
   "metadata": {},
   "outputs": [
    {
     "data": {
      "text/html": [
       "<div>\n",
       "<style scoped>\n",
       "    .dataframe tbody tr th:only-of-type {\n",
       "        vertical-align: middle;\n",
       "    }\n",
       "\n",
       "    .dataframe tbody tr th {\n",
       "        vertical-align: top;\n",
       "    }\n",
       "\n",
       "    .dataframe thead th {\n",
       "        text-align: right;\n",
       "    }\n",
       "</style>\n",
       "<table border=\"1\" class=\"dataframe\">\n",
       "  <thead>\n",
       "    <tr style=\"text-align: right;\">\n",
       "      <th></th>\n",
       "      <th>Year</th>\n",
       "      <th>Month</th>\n",
       "      <th>Make</th>\n",
       "      <th>Quantity</th>\n",
       "      <th>Pct</th>\n",
       "    </tr>\n",
       "  </thead>\n",
       "  <tbody>\n",
       "    <tr>\n",
       "      <th>4372</th>\n",
       "      <td>2017</td>\n",
       "      <td>1</td>\n",
       "      <td>Nilsson</td>\n",
       "      <td>3</td>\n",
       "      <td>0.0</td>\n",
       "    </tr>\n",
       "    <tr>\n",
       "      <th>4373</th>\n",
       "      <td>2017</td>\n",
       "      <td>1</td>\n",
       "      <td>Maserati</td>\n",
       "      <td>2</td>\n",
       "      <td>0.0</td>\n",
       "    </tr>\n",
       "    <tr>\n",
       "      <th>4374</th>\n",
       "      <td>2017</td>\n",
       "      <td>1</td>\n",
       "      <td>Ferrari</td>\n",
       "      <td>1</td>\n",
       "      <td>0.0</td>\n",
       "    </tr>\n",
       "    <tr>\n",
       "      <th>4375</th>\n",
       "      <td>2017</td>\n",
       "      <td>1</td>\n",
       "      <td>Smart</td>\n",
       "      <td>1</td>\n",
       "      <td>0.0</td>\n",
       "    </tr>\n",
       "    <tr>\n",
       "      <th>4376</th>\n",
       "      <td>2017</td>\n",
       "      <td>1</td>\n",
       "      <td>Ssangyong</td>\n",
       "      <td>1</td>\n",
       "      <td>0.0</td>\n",
       "    </tr>\n",
       "  </tbody>\n",
       "</table>\n",
       "</div>"
      ],
      "text/plain": [
       "      Year  Month       Make  Quantity  Pct\n",
       "4372  2017      1    Nilsson         3  0.0\n",
       "4373  2017      1   Maserati         2  0.0\n",
       "4374  2017      1    Ferrari         1  0.0\n",
       "4375  2017      1      Smart         1  0.0\n",
       "4376  2017      1  Ssangyong         1  0.0"
      ]
     },
     "execution_count": 137,
     "metadata": {},
     "output_type": "execute_result"
    }
   ],
   "source": [
    "df.tail()  # it is misleading to plot the incomplete data for 2016"
   ]
  },
  {
   "cell_type": "code",
   "execution_count": 138,
   "id": "ebf90962",
   "metadata": {},
   "outputs": [
    {
     "data": {
      "image/png": "[encoded data removed]",
      "text/plain": [
       "<Figure size 640x480 with 1 Axes>"
      ]
     },
     "metadata": {},
     "output_type": "display_data"
    }
   ],
   "source": [
    "ax = df_quantity_year.iloc[:-1].plot(\n",
    "    title=\"Car sales in Norway between 2007-2016\", \n",
    "    xlabel=\"Year\", \n",
    "    ylabel=\"Number cars sold\",\n",
    "    style=\"--o\",\n",
    "    linewidth=2\n",
    "    )\n",
    "\n",
    "ax.legend().remove()\n",
    "fig = ax.get_figure()\n",
    "\n",
    "fig.tight_layout()\n",
    "fig.savefig(\"figures/car_sales_yearly_line.png\")"
   ]
  },
  {
   "cell_type": "markdown",
   "id": "e8a0c0b3",
   "metadata": {},
   "source": [
    "## Stacked bar"
   ]
  },
  {
   "cell_type": "code",
   "execution_count": 139,
   "id": "02ca71bb",
   "metadata": {},
   "outputs": [
    {
     "data": {
      "text/html": [
       "<div>\n",
       "<style scoped>\n",
       "    .dataframe tbody tr th:only-of-type {\n",
       "        vertical-align: middle;\n",
       "    }\n",
       "\n",
       "    .dataframe tbody tr th {\n",
       "        vertical-align: top;\n",
       "    }\n",
       "\n",
       "    .dataframe thead th {\n",
       "        text-align: right;\n",
       "    }\n",
       "</style>\n",
       "<table border=\"1\" class=\"dataframe\">\n",
       "  <thead>\n",
       "    <tr style=\"text-align: right;\">\n",
       "      <th></th>\n",
       "      <th>Year</th>\n",
       "      <th>Brand</th>\n",
       "      <th>Quantity</th>\n",
       "    </tr>\n",
       "  </thead>\n",
       "  <tbody>\n",
       "    <tr>\n",
       "      <th>0</th>\n",
       "      <td>2007</td>\n",
       "      <td>Toyota</td>\n",
       "      <td>2884.0</td>\n",
       "    </tr>\n",
       "    <tr>\n",
       "      <th>1</th>\n",
       "      <td>2007</td>\n",
       "      <td>Citroen</td>\n",
       "      <td>263.0</td>\n",
       "    </tr>\n",
       "    <tr>\n",
       "      <th>2</th>\n",
       "      <td>2007</td>\n",
       "      <td>Hyundai</td>\n",
       "      <td>97.0</td>\n",
       "    </tr>\n",
       "    <tr>\n",
       "      <th>3</th>\n",
       "      <td>2007</td>\n",
       "      <td>Land Rover</td>\n",
       "      <td>14.0</td>\n",
       "    </tr>\n",
       "    <tr>\n",
       "      <th>4</th>\n",
       "      <td>2007</td>\n",
       "      <td>Jeep</td>\n",
       "      <td>2.0</td>\n",
       "    </tr>\n",
       "    <tr>\n",
       "      <th>...</th>\n",
       "      <td>...</td>\n",
       "      <td>...</td>\n",
       "      <td>...</td>\n",
       "    </tr>\n",
       "    <tr>\n",
       "      <th>4371</th>\n",
       "      <td>2017</td>\n",
       "      <td>Ssangyong</td>\n",
       "      <td>1.0</td>\n",
       "    </tr>\n",
       "    <tr>\n",
       "      <th>4372</th>\n",
       "      <td>2017</td>\n",
       "      <td>Volvo</td>\n",
       "      <td>1158.0</td>\n",
       "    </tr>\n",
       "    <tr>\n",
       "      <th>4373</th>\n",
       "      <td>2017</td>\n",
       "      <td>Maserati</td>\n",
       "      <td>2.0</td>\n",
       "    </tr>\n",
       "    <tr>\n",
       "      <th>4374</th>\n",
       "      <td>2017</td>\n",
       "      <td>Nissan</td>\n",
       "      <td>615.0</td>\n",
       "    </tr>\n",
       "    <tr>\n",
       "      <th>4375</th>\n",
       "      <td>2017</td>\n",
       "      <td>Alfa Romeo</td>\n",
       "      <td>6.0</td>\n",
       "    </tr>\n",
       "  </tbody>\n",
       "</table>\n",
       "<p>4376 rows × 3 columns</p>\n",
       "</div>"
      ],
      "text/plain": [
       "      Year       Brand  Quantity\n",
       "0     2007      Toyota    2884.0\n",
       "1     2007     Citroen     263.0\n",
       "2     2007     Hyundai      97.0\n",
       "3     2007  Land Rover      14.0\n",
       "4     2007        Jeep       2.0\n",
       "...    ...         ...       ...\n",
       "4371  2017   Ssangyong       1.0\n",
       "4372  2017       Volvo    1158.0\n",
       "4373  2017    Maserati       2.0\n",
       "4374  2017      Nissan     615.0\n",
       "4375  2017  Alfa Romeo       6.0\n",
       "\n",
       "[4376 rows x 3 columns]"
      ]
     },
     "execution_count": 139,
     "metadata": {},
     "output_type": "execute_result"
    }
   ],
   "source": [
    "duckdb.query(\"\"\" \n",
    "    SELECT \n",
    "        year, make AS Brand, SUM(quantity) AS Quantity\n",
    "    FROM df\n",
    "    GROUP BY year, month, make\n",
    "    ORDER BY year, month\n",
    "\"\"\").df()"
   ]
  },
  {
   "cell_type": "code",
   "execution_count": 140,
   "id": "bcc47eaf",
   "metadata": {},
   "outputs": [],
   "source": [
    "df_month_brand = duckdb.query(\"\"\" \n",
    "    SELECT \n",
    "        year || '-' || LPAD(CAST(month AS VARCHAR), 2, '0') AS date,\n",
    "        make AS Brand, SUM(quantity) AS Quantity\n",
    "    FROM df\n",
    "    WHERE make IN ('Volvo', 'Volkswagen', 'Toyota')\n",
    "    GROUP BY year, month, make\n",
    "    ORDER BY year, month\n",
    "\"\"\").df()"
   ]
  },
  {
   "cell_type": "code",
   "execution_count": 141,
   "id": "dac39aa2",
   "metadata": {},
   "outputs": [
    {
     "data": {
      "text/html": [
       "<div>\n",
       "<style scoped>\n",
       "    .dataframe tbody tr th:only-of-type {\n",
       "        vertical-align: middle;\n",
       "    }\n",
       "\n",
       "    .dataframe tbody tr th {\n",
       "        vertical-align: top;\n",
       "    }\n",
       "\n",
       "    .dataframe thead th {\n",
       "        text-align: right;\n",
       "    }\n",
       "</style>\n",
       "<table border=\"1\" class=\"dataframe\">\n",
       "  <thead>\n",
       "    <tr style=\"text-align: right;\">\n",
       "      <th></th>\n",
       "      <th>date</th>\n",
       "      <th>Brand</th>\n",
       "      <th>Quantity</th>\n",
       "    </tr>\n",
       "  </thead>\n",
       "  <tbody>\n",
       "    <tr>\n",
       "      <th>0</th>\n",
       "      <td>2007-01-01</td>\n",
       "      <td>Volkswagen</td>\n",
       "      <td>2521.0</td>\n",
       "    </tr>\n",
       "    <tr>\n",
       "      <th>1</th>\n",
       "      <td>2007-01-01</td>\n",
       "      <td>Toyota</td>\n",
       "      <td>2884.0</td>\n",
       "    </tr>\n",
       "    <tr>\n",
       "      <th>2</th>\n",
       "      <td>2007-01-01</td>\n",
       "      <td>Volvo</td>\n",
       "      <td>693.0</td>\n",
       "    </tr>\n",
       "    <tr>\n",
       "      <th>3</th>\n",
       "      <td>2007-02-01</td>\n",
       "      <td>Volkswagen</td>\n",
       "      <td>1517.0</td>\n",
       "    </tr>\n",
       "    <tr>\n",
       "      <th>4</th>\n",
       "      <td>2007-02-01</td>\n",
       "      <td>Toyota</td>\n",
       "      <td>1885.0</td>\n",
       "    </tr>\n",
       "  </tbody>\n",
       "</table>\n",
       "</div>"
      ],
      "text/plain": [
       "        date       Brand  Quantity\n",
       "0 2007-01-01  Volkswagen    2521.0\n",
       "1 2007-01-01      Toyota    2884.0\n",
       "2 2007-01-01       Volvo     693.0\n",
       "3 2007-02-01  Volkswagen    1517.0\n",
       "4 2007-02-01      Toyota    1885.0"
      ]
     },
     "execution_count": 141,
     "metadata": {},
     "output_type": "execute_result"
    }
   ],
   "source": [
    "df_month_brand[\"date\"] = pd.to_datetime(df_month_brand[\"date\"], format=\"%Y-%m\")\n",
    "df_month_brand.head()"
   ]
  },
  {
   "cell_type": "code",
   "execution_count": 142,
   "id": "024912ff",
   "metadata": {},
   "outputs": [],
   "source": [
    "df_month_brand_pivot = df_month_brand.pivot(index=\"date\", columns=\"Brand\", values=\"Quantity\").fillna(0)"
   ]
  },
  {
   "cell_type": "code",
   "execution_count": 143,
   "id": "82a9d08d",
   "metadata": {},
   "outputs": [
    {
     "data": {
      "text/html": [
       "<div>\n",
       "<style scoped>\n",
       "    .dataframe tbody tr th:only-of-type {\n",
       "        vertical-align: middle;\n",
       "    }\n",
       "\n",
       "    .dataframe tbody tr th {\n",
       "        vertical-align: top;\n",
       "    }\n",
       "\n",
       "    .dataframe thead th {\n",
       "        text-align: right;\n",
       "    }\n",
       "</style>\n",
       "<table border=\"1\" class=\"dataframe\">\n",
       "  <thead>\n",
       "    <tr style=\"text-align: right;\">\n",
       "      <th>Brand</th>\n",
       "      <th>Toyota</th>\n",
       "      <th>Volkswagen</th>\n",
       "      <th>Volvo</th>\n",
       "    </tr>\n",
       "    <tr>\n",
       "      <th>date</th>\n",
       "      <th></th>\n",
       "      <th></th>\n",
       "      <th></th>\n",
       "    </tr>\n",
       "  </thead>\n",
       "  <tbody>\n",
       "    <tr>\n",
       "      <th>2016-01-01</th>\n",
       "      <td>1106.0</td>\n",
       "      <td>1743.0</td>\n",
       "      <td>643.0</td>\n",
       "    </tr>\n",
       "    <tr>\n",
       "      <th>2016-02-01</th>\n",
       "      <td>1374.0</td>\n",
       "      <td>2044.0</td>\n",
       "      <td>732.0</td>\n",
       "    </tr>\n",
       "    <tr>\n",
       "      <th>2016-03-01</th>\n",
       "      <td>1537.0</td>\n",
       "      <td>2236.0</td>\n",
       "      <td>687.0</td>\n",
       "    </tr>\n",
       "    <tr>\n",
       "      <th>2016-04-01</th>\n",
       "      <td>1432.0</td>\n",
       "      <td>3017.0</td>\n",
       "      <td>748.0</td>\n",
       "    </tr>\n",
       "    <tr>\n",
       "      <th>2016-05-01</th>\n",
       "      <td>1687.0</td>\n",
       "      <td>2222.0</td>\n",
       "      <td>619.0</td>\n",
       "    </tr>\n",
       "    <tr>\n",
       "      <th>2016-06-01</th>\n",
       "      <td>1603.0</td>\n",
       "      <td>2287.0</td>\n",
       "      <td>766.0</td>\n",
       "    </tr>\n",
       "    <tr>\n",
       "      <th>2016-07-01</th>\n",
       "      <td>1127.0</td>\n",
       "      <td>2076.0</td>\n",
       "      <td>635.0</td>\n",
       "    </tr>\n",
       "    <tr>\n",
       "      <th>2016-08-01</th>\n",
       "      <td>1824.0</td>\n",
       "      <td>2359.0</td>\n",
       "      <td>463.0</td>\n",
       "    </tr>\n",
       "    <tr>\n",
       "      <th>2016-09-01</th>\n",
       "      <td>1823.0</td>\n",
       "      <td>2084.0</td>\n",
       "      <td>763.0</td>\n",
       "    </tr>\n",
       "    <tr>\n",
       "      <th>2016-10-01</th>\n",
       "      <td>1327.0</td>\n",
       "      <td>2161.0</td>\n",
       "      <td>732.0</td>\n",
       "    </tr>\n",
       "    <tr>\n",
       "      <th>2016-11-01</th>\n",
       "      <td>1375.0</td>\n",
       "      <td>2106.0</td>\n",
       "      <td>754.0</td>\n",
       "    </tr>\n",
       "    <tr>\n",
       "      <th>2016-12-01</th>\n",
       "      <td>1238.0</td>\n",
       "      <td>2239.0</td>\n",
       "      <td>1235.0</td>\n",
       "    </tr>\n",
       "  </tbody>\n",
       "</table>\n",
       "</div>"
      ],
      "text/plain": [
       "Brand       Toyota  Volkswagen   Volvo\n",
       "date                                  \n",
       "2016-01-01  1106.0      1743.0   643.0\n",
       "2016-02-01  1374.0      2044.0   732.0\n",
       "2016-03-01  1537.0      2236.0   687.0\n",
       "2016-04-01  1432.0      3017.0   748.0\n",
       "2016-05-01  1687.0      2222.0   619.0\n",
       "2016-06-01  1603.0      2287.0   766.0\n",
       "2016-07-01  1127.0      2076.0   635.0\n",
       "2016-08-01  1824.0      2359.0   463.0\n",
       "2016-09-01  1823.0      2084.0   763.0\n",
       "2016-10-01  1327.0      2161.0   732.0\n",
       "2016-11-01  1375.0      2106.0   754.0\n",
       "2016-12-01  1238.0      2239.0  1235.0"
      ]
     },
     "execution_count": 143,
     "metadata": {},
     "output_type": "execute_result"
    }
   ],
   "source": [
    "df_month_brand_pivot.loc[\"2016\"]"
   ]
  },
  {
   "cell_type": "code",
   "execution_count": 144,
   "id": "61eaa29e",
   "metadata": {},
   "outputs": [
    {
     "data": {
      "text/html": [
       "<div>\n",
       "<style scoped>\n",
       "    .dataframe tbody tr th:only-of-type {\n",
       "        vertical-align: middle;\n",
       "    }\n",
       "\n",
       "    .dataframe tbody tr th {\n",
       "        vertical-align: top;\n",
       "    }\n",
       "\n",
       "    .dataframe thead th {\n",
       "        text-align: right;\n",
       "    }\n",
       "</style>\n",
       "<table border=\"1\" class=\"dataframe\">\n",
       "  <thead>\n",
       "    <tr style=\"text-align: right;\">\n",
       "      <th>Brand</th>\n",
       "      <th>Toyota</th>\n",
       "      <th>Volkswagen</th>\n",
       "      <th>Volvo</th>\n",
       "    </tr>\n",
       "    <tr>\n",
       "      <th>date</th>\n",
       "      <th></th>\n",
       "      <th></th>\n",
       "      <th></th>\n",
       "    </tr>\n",
       "  </thead>\n",
       "  <tbody>\n",
       "    <tr>\n",
       "      <th>2016-01-01</th>\n",
       "      <td>1106.0</td>\n",
       "      <td>1743.0</td>\n",
       "      <td>643.0</td>\n",
       "    </tr>\n",
       "    <tr>\n",
       "      <th>2016-02-01</th>\n",
       "      <td>1374.0</td>\n",
       "      <td>2044.0</td>\n",
       "      <td>732.0</td>\n",
       "    </tr>\n",
       "    <tr>\n",
       "      <th>2016-03-01</th>\n",
       "      <td>1537.0</td>\n",
       "      <td>2236.0</td>\n",
       "      <td>687.0</td>\n",
       "    </tr>\n",
       "    <tr>\n",
       "      <th>2016-04-01</th>\n",
       "      <td>1432.0</td>\n",
       "      <td>3017.0</td>\n",
       "      <td>748.0</td>\n",
       "    </tr>\n",
       "    <tr>\n",
       "      <th>2016-05-01</th>\n",
       "      <td>1687.0</td>\n",
       "      <td>2222.0</td>\n",
       "      <td>619.0</td>\n",
       "    </tr>\n",
       "  </tbody>\n",
       "</table>\n",
       "</div>"
      ],
      "text/plain": [
       "Brand       Toyota  Volkswagen  Volvo\n",
       "date                                 \n",
       "2016-01-01  1106.0      1743.0  643.0\n",
       "2016-02-01  1374.0      2044.0  732.0\n",
       "2016-03-01  1537.0      2236.0  687.0\n",
       "2016-04-01  1432.0      3017.0  748.0\n",
       "2016-05-01  1687.0      2222.0  619.0"
      ]
     },
     "execution_count": 144,
     "metadata": {},
     "output_type": "execute_result"
    }
   ],
   "source": [
    "df_month_brand_pivot.loc[\"2016-01\":\"2016-05\"]"
   ]
  },
  {
   "cell_type": "code",
   "execution_count": 145,
   "id": "7cfa4608",
   "metadata": {},
   "outputs": [],
   "source": [
    "months = df_month_brand_pivot.loc[\"2016\"].index.month_name()"
   ]
  },
  {
   "cell_type": "code",
   "execution_count": 146,
   "id": "51af0910",
   "metadata": {},
   "outputs": [
    {
     "data": {
      "image/png": "[encoded data removed]",
      "text/plain": [
       "<Figure size 1600x600 with 1 Axes>"
      ]
     },
     "metadata": {},
     "output_type": "display_data"
    }
   ],
   "source": [
    "ax = df_month_brand_pivot.loc[\"2016\"].plot(kind=\"bar\", figsize=(16,6))\n",
    "ax.set_xticklabels(months, rotation = 0);\n",
    "ax.set(\n",
    "    title=\"Number of cars sold from Toyota, Volkswagen and Volvo in 2016 in Norway\",\n",
    "    xlabel=\"Month\",\n",
    "    ylabel=\"Number cars\",\n",
    ")\n",
    "\n",
    "fig = ax.get_figure()\n",
    "fig.tight_layout()\n",
    "fig.savefig(\"figures/cars_stacked_bar.png\")"
   ]
  },
  {
   "cell_type": "code",
   "execution_count": null,
   "id": "577c6dbc",
   "metadata": {},
   "outputs": [],
   "source": []
  }
 ],
 "metadata": {
  "kernelspec": {
   "display_name": ".venv",
   "language": "python",
   "name": "python3"
  },
  "language_info": {
   "codemirror_mode": {
    "name": "ipython",
    "version": 3
   },
   "file_extension": ".py",
   "mimetype": "text/x-python",
   "name": "python",
   "nbconvert_exporter": "python",
   "pygments_lexer": "ipython3",
   "version": "3.12.3"
  }
 },
 "nbformat": 4,
 "nbformat_minor": 5
}
