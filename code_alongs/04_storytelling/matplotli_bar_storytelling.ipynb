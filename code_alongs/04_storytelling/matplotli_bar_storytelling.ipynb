{
 "cells": [
  {
   "cell_type": "markdown",
   "id": "5899b8ff",
   "metadata": {},
   "source": [
    "# Matplotlib bar chart storytelling"
   ]
  },
  {
   "cell_type": "code",
   "execution_count": null,
   "id": "20677b57",
   "metadata": {
    "vscode": {
     "languageId": "plaintext"
    }
   },
   "outputs": [],
   "source": []
  }
 ],
 "metadata": {
  "language_info": {
   "name": "python"
  }
 },
 "nbformat": 4,
 "nbformat_minor": 5
}
